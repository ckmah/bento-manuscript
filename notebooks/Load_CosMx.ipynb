{
 "cells": [
  {
   "cell_type": "code",
   "execution_count": 1,
   "metadata": {},
   "outputs": [
    {
     "name": "stderr",
     "output_type": "stream",
     "text": [
      "/home/ckmah/miniconda3/envs/spatialdata/lib/python3.9/site-packages/geopandas/_compat.py:111: UserWarning: The Shapely GEOS version (3.11.1-CAPI-1.17.1) is incompatible with the GEOS version PyGEOS was compiled with (3.10.1-CAPI-1.16.0). Conversions between both will be slow.\n",
      "  warnings.warn(\n",
      "/home/ckmah/miniconda3/envs/spatialdata/lib/python3.9/site-packages/spatialdata/__init__.py:9: UserWarning: Geopandas was set to use PyGEOS, changing to shapely 2.0 with:\n",
      "\n",
      "\tgeopandas.options.use_pygeos = True\n",
      "\n",
      "If you intended to use PyGEOS, set the option to False.\n",
      "  _check_geopandas_using_shapely()\n"
     ]
    }
   ],
   "source": [
    "import spatialdata as sd\n",
    "# import bento as bt"
   ]
  },
  {
   "cell_type": "code",
   "execution_count": null,
   "metadata": {},
   "outputs": [],
   "source": []
  },
  {
   "cell_type": "code",
   "execution_count": 12,
   "metadata": {},
   "outputs": [
    {
     "ename": "PathNotFoundError",
     "evalue": "nothing found at path ''",
     "output_type": "error",
     "traceback": [
      "\u001b[0;31m---------------------------------------------------------------------------\u001b[0m",
      "\u001b[0;31mPathNotFoundError\u001b[0m                         Traceback (most recent call last)",
      "Cell \u001b[0;32mIn[12], line 1\u001b[0m\n\u001b[0;32m----> 1\u001b[0m cosmx_sdata \u001b[39m=\u001b[39m sd\u001b[39m.\u001b[39;49mSpatialData\u001b[39m.\u001b[39;49mread(\u001b[39m'\u001b[39;49m\u001b[39mhttps://dl01.irc.ugent.be/spatial/cosmx/data.zarr\u001b[39;49m\u001b[39m'\u001b[39;49m)\n",
      "File \u001b[0;32m~/miniconda3/envs/spatialdata/lib/python3.9/site-packages/spatialdata/_core/spatialdata.py:1139\u001b[0m, in \u001b[0;36mSpatialData.read\u001b[0;34m(file_path)\u001b[0m\n\u001b[1;32m   1135\u001b[0m \u001b[39m@staticmethod\u001b[39m\n\u001b[1;32m   1136\u001b[0m \u001b[39mdef\u001b[39;00m \u001b[39mread\u001b[39m(file_path: \u001b[39mstr\u001b[39m) \u001b[39m-\u001b[39m\u001b[39m>\u001b[39m SpatialData:\n\u001b[1;32m   1137\u001b[0m     \u001b[39mfrom\u001b[39;00m \u001b[39mspatialdata\u001b[39;00m \u001b[39mimport\u001b[39;00m read_zarr\n\u001b[0;32m-> 1139\u001b[0m     \u001b[39mreturn\u001b[39;00m read_zarr(file_path)\n",
      "File \u001b[0;32m~/miniconda3/envs/spatialdata/lib/python3.9/site-packages/spatialdata/_io/io_zarr.py:22\u001b[0m, in \u001b[0;36mread_zarr\u001b[0;34m(store)\u001b[0m\n\u001b[1;32m     19\u001b[0m \u001b[39mif\u001b[39;00m \u001b[39misinstance\u001b[39m(store, \u001b[39mstr\u001b[39m):\n\u001b[1;32m     20\u001b[0m     store \u001b[39m=\u001b[39m Path(store)\n\u001b[0;32m---> 22\u001b[0m f \u001b[39m=\u001b[39m zarr\u001b[39m.\u001b[39;49mopen(store, mode\u001b[39m=\u001b[39;49m\u001b[39m\"\u001b[39;49m\u001b[39mr\u001b[39;49m\u001b[39m\"\u001b[39;49m)\n\u001b[1;32m     23\u001b[0m images \u001b[39m=\u001b[39m {}\n\u001b[1;32m     24\u001b[0m labels \u001b[39m=\u001b[39m {}\n",
      "File \u001b[0;32m~/miniconda3/envs/spatialdata/lib/python3.9/site-packages/zarr/convenience.py:122\u001b[0m, in \u001b[0;36mopen\u001b[0;34m(store, mode, zarr_version, path, **kwargs)\u001b[0m\n\u001b[1;32m    120\u001b[0m     \u001b[39mreturn\u001b[39;00m open_group(_store, mode\u001b[39m=\u001b[39mmode, \u001b[39m*\u001b[39m\u001b[39m*\u001b[39mkwargs)\n\u001b[1;32m    121\u001b[0m \u001b[39melse\u001b[39;00m:\n\u001b[0;32m--> 122\u001b[0m     \u001b[39mraise\u001b[39;00m PathNotFoundError(path)\n",
      "\u001b[0;31mPathNotFoundError\u001b[0m: nothing found at path ''"
     ]
    }
   ],
   "source": [
    "cosmx_sdata = sd.SpatialData.read('https://dl01.irc.ugent.be/spatial/cosmx/data.zarr')"
   ]
  },
  {
   "cell_type": "code",
   "execution_count": null,
   "metadata": {},
   "outputs": [],
   "source": []
  }
 ],
 "metadata": {
  "kernelspec": {
   "display_name": "spatialdata",
   "language": "python",
   "name": "python3"
  },
  "language_info": {
   "codemirror_mode": {
    "name": "ipython",
    "version": 3
   },
   "file_extension": ".py",
   "mimetype": "text/x-python",
   "name": "python",
   "nbconvert_exporter": "python",
   "pygments_lexer": "ipython3",
   "version": "3.9.17"
  },
  "orig_nbformat": 4
 },
 "nbformat": 4,
 "nbformat_minor": 2
}

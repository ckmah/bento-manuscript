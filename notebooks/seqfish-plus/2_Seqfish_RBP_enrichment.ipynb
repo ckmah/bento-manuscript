{
 "cells": [
  {
   "cell_type": "markdown",
   "id": "ba71183c-8453-4995-840b-594fb8397cf6",
   "metadata": {},
   "source": [
    "# dot plot of significant RBPs only\n",
    "# count, log2fc\n",
    "# size, color"
   ]
  },
  {
   "cell_type": "code",
   "execution_count": 1,
   "id": "4ee910fb-0191-4f00-94a3-47948a371ab4",
   "metadata": {
    "execution": {
     "iopub.execute_input": "2022-06-28T17:00:10.862978Z",
     "iopub.status.busy": "2022-06-28T17:00:10.862788Z",
     "iopub.status.idle": "2022-06-28T17:00:30.574324Z",
     "shell.execute_reply": "2022-06-28T17:00:30.573925Z",
     "shell.execute_reply.started": "2022-06-28T17:00:10.862929Z"
    }
   },
   "outputs": [],
   "source": [
    "import bento\n",
    "import matplotlib.pyplot as plt\n",
    "import numpy as np\n",
    "import pandas as pd\n",
    "import seaborn as sns"
   ]
  },
  {
   "cell_type": "markdown",
   "id": "8df40110-6f07-4888-b183-12fdd2c3bd8d",
   "metadata": {},
   "source": [
    "# Get gene pattern labels"
   ]
  },
  {
   "cell_type": "code",
   "execution_count": 2,
   "id": "fa462d91-7895-477c-b421-a661e078ba9f",
   "metadata": {
    "execution": {
     "iopub.execute_input": "2022-06-28T17:00:30.575418Z",
     "iopub.status.busy": "2022-06-28T17:00:30.575304Z",
     "iopub.status.idle": "2022-06-28T17:00:31.979928Z",
     "shell.execute_reply": "2022-06-28T17:00:31.979437Z",
     "shell.execute_reply.started": "2022-06-28T17:00:30.575404Z"
    }
   },
   "outputs": [],
   "source": [
    "adata = bento.datasets.load_dataset(\"seqfish\")"
   ]
  },
  {
   "cell_type": "code",
   "execution_count": 3,
   "id": "a41478e7-a047-4779-a9b3-2f2edf7bf401",
   "metadata": {
    "execution": {
     "iopub.execute_input": "2022-06-28T17:00:31.980743Z",
     "iopub.status.busy": "2022-06-28T17:00:31.980630Z",
     "iopub.status.idle": "2022-06-28T17:01:04.974886Z",
     "shell.execute_reply": "2022-06-28T17:01:04.974496Z",
     "shell.execute_reply.started": "2022-06-28T17:00:31.980729Z"
    }
   },
   "outputs": [],
   "source": [
    "bento.tl.lp(adata)"
   ]
  },
  {
   "cell_type": "code",
   "execution_count": 4,
   "id": "3a16d18f-789c-4472-860f-e896a49e5641",
   "metadata": {
    "execution": {
     "iopub.execute_input": "2022-06-28T17:01:04.975740Z",
     "iopub.status.busy": "2022-06-28T17:01:04.975632Z",
     "iopub.status.idle": "2022-06-28T17:01:04.988383Z",
     "shell.execute_reply": "2022-06-28T17:01:04.988092Z",
     "shell.execute_reply.started": "2022-06-28T17:01:04.975726Z"
    }
   },
   "outputs": [
    {
     "data": {
      "text/plain": [
       "none            2790\n",
       "nuclear          474\n",
       "nuclear_edge     229\n",
       "cell_edge        128\n",
       "cytoplasmic      105\n",
       "dtype: int64"
      ]
     },
     "execution_count": 4,
     "metadata": {},
     "output_type": "execute_result"
    }
   ],
   "source": [
    "gene_pattern = adata.var[[f\"{p}_fraction\" for p in bento._utils.PATTERN_NAMES]]\n",
    "gene_pattern.columns = bento._utils.PATTERN_NAMES\n",
    "gene_pattern = gene_pattern.idxmax(axis=1)\n",
    "gene_pattern.value_counts()"
   ]
  },
  {
   "cell_type": "code",
   "execution_count": 5,
   "id": "1092f5be-b2bc-4d39-bcea-b3753755a2f2",
   "metadata": {
    "execution": {
     "iopub.execute_input": "2022-06-28T17:01:04.990670Z",
     "iopub.status.busy": "2022-06-28T17:01:04.990540Z",
     "iopub.status.idle": "2022-06-28T17:01:04.992450Z",
     "shell.execute_reply": "2022-06-28T17:01:04.992185Z",
     "shell.execute_reply.started": "2022-06-28T17:01:04.990656Z"
    }
   },
   "outputs": [],
   "source": [
    "gene_pattern.name = \"pattern\""
   ]
  },
  {
   "cell_type": "markdown",
   "id": "28864e75-9e21-4b19-b27d-2c175d0f5f2c",
   "metadata": {},
   "source": [
    "# CLIP peak data"
   ]
  },
  {
   "cell_type": "code",
   "execution_count": 6,
   "id": "24a94684-a24a-4a2c-adcd-eae21d708ab2",
   "metadata": {
    "execution": {
     "iopub.execute_input": "2022-06-28T17:01:04.993095Z",
     "iopub.status.busy": "2022-06-28T17:01:04.992921Z",
     "iopub.status.idle": "2022-06-28T17:01:05.119596Z",
     "shell.execute_reply": "2022-06-28T17:01:05.119213Z",
     "shell.execute_reply.started": "2022-06-28T17:01:04.993079Z"
    }
   },
   "outputs": [],
   "source": [
    "clip_data = pd.read_csv(\"../../data/clip_peaks.csv\", index_col=0)"
   ]
  },
  {
   "cell_type": "markdown",
   "id": "10e936bb-994e-47cf-a992-75b84ad2da03",
   "metadata": {},
   "source": [
    "Identify regions bound by RBPs in each gene"
   ]
  },
  {
   "cell_type": "code",
   "execution_count": 7,
   "id": "7c374c99-f490-4f74-acbb-e54e6ea186d7",
   "metadata": {
    "execution": {
     "iopub.execute_input": "2022-06-28T17:01:05.120424Z",
     "iopub.status.busy": "2022-06-28T17:01:05.120316Z",
     "iopub.status.idle": "2022-06-28T17:01:06.000285Z",
     "shell.execute_reply": "2022-06-28T17:01:05.999935Z",
     "shell.execute_reply.started": "2022-06-28T17:01:05.120410Z"
    }
   },
   "outputs": [],
   "source": [
    "clip_seq_features = (\n",
    "    clip_data.groupby(\"Rbp\")\n",
    "    .apply(\n",
    "        lambda rbp_df: rbp_df.pivot_table(\n",
    "            index=\"gene\", columns=\"Region\", values=\"Log2fc\", aggfunc=\"count\"\n",
    "        )\n",
    "    )[\n",
    "        [\n",
    "            \"3ss\",\n",
    "            \"5ss\",\n",
    "            \"CDS\",\n",
    "            \"distintron\",\n",
    "            \"five_prime_utrs\",\n",
    "            \"proxintron\",\n",
    "            \"three_prime_utrs\",\n",
    "        ]\n",
    "    ]\n",
    "    .fillna(0)\n",
    "    .rename({\"3ss\": \"three_ss\", \"5ss\": \"five_ss\"}, axis=1)\n",
    "    .reset_index()\n",
    ")\n",
    "clip_seq_features.columns = clip_seq_features.columns.str.lower()\n",
    "\n",
    "seq_features = [\n",
    "    \"three_ss\",\n",
    "    \"five_ss\",\n",
    "    \"cds\",\n",
    "    \"distintron\",\n",
    "    \"five_prime_utrs\",\n",
    "    \"proxintron\",\n",
    "    \"three_prime_utrs\",\n",
    "]\n",
    "\n",
    "clip_seq_features[seq_features] = clip_seq_features[seq_features] > 0"
   ]
  },
  {
   "cell_type": "code",
   "execution_count": 8,
   "id": "81607831-9f28-4f24-996b-84b611bbb813",
   "metadata": {
    "execution": {
     "iopub.execute_input": "2022-06-28T17:01:06.001094Z",
     "iopub.status.busy": "2022-06-28T17:01:06.000983Z",
     "iopub.status.idle": "2022-06-28T17:01:06.127780Z",
     "shell.execute_reply": "2022-06-28T17:01:06.127430Z",
     "shell.execute_reply.started": "2022-06-28T17:01:06.001080Z"
    }
   },
   "outputs": [],
   "source": [
    "rbp_pattern_counts = (\n",
    "    clip_seq_features.join(gene_pattern, on=\"gene\")\n",
    "    .pivot(index=\"gene\", columns=\"rbp\", values=\"pattern\")\n",
    "    .apply(lambda col: col.value_counts())\n",
    "    .fillna(0)\n",
    "    .astype(int)\n",
    ")"
   ]
  },
  {
   "cell_type": "code",
   "execution_count": 9,
   "id": "3f20bd4e-2030-4694-b491-720574f92e78",
   "metadata": {
    "execution": {
     "iopub.execute_input": "2022-06-28T17:01:06.128401Z",
     "iopub.status.busy": "2022-06-28T17:01:06.128296Z",
     "iopub.status.idle": "2022-06-28T17:01:06.132472Z",
     "shell.execute_reply": "2022-06-28T17:01:06.132184Z",
     "shell.execute_reply.started": "2022-06-28T17:01:06.128388Z"
    }
   },
   "outputs": [],
   "source": [
    "rbp_pattern_counts = rbp_pattern_counts.loc[:, rbp_pattern_counts.sum() > 0]\n",
    "log2_rbp_pattern_counts = np.log2(rbp_pattern_counts + 1)"
   ]
  },
  {
   "cell_type": "code",
   "execution_count": 10,
   "id": "aef6ab9d-4639-4f5e-8fd1-7f5a30d16d7c",
   "metadata": {
    "execution": {
     "iopub.execute_input": "2022-06-28T17:01:06.133155Z",
     "iopub.status.busy": "2022-06-28T17:01:06.132922Z",
     "iopub.status.idle": "2022-06-28T17:01:06.187986Z",
     "shell.execute_reply": "2022-06-28T17:01:06.187643Z",
     "shell.execute_reply.started": "2022-06-28T17:01:06.133140Z"
    }
   },
   "outputs": [],
   "source": [
    "rbp_peak_counts = clip_seq_features.groupby(\"rbp\")[seq_features].sum().T\n",
    "log2_rbp_peak_counts = np.log2(rbp_peak_counts + 1)"
   ]
  },
  {
   "cell_type": "code",
   "execution_count": 11,
   "id": "9cb0db4a-a210-4f55-9225-e05daeec908b",
   "metadata": {
    "execution": {
     "iopub.execute_input": "2022-06-28T17:01:06.188740Z",
     "iopub.status.busy": "2022-06-28T17:01:06.188532Z",
     "iopub.status.idle": "2022-06-28T17:01:06.192585Z",
     "shell.execute_reply": "2022-06-28T17:01:06.192215Z",
     "shell.execute_reply.started": "2022-06-28T17:01:06.188724Z"
    }
   },
   "outputs": [],
   "source": [
    "pattern_frac = rbp_pattern_counts / rbp_pattern_counts.sum()\n",
    "peak_frac = rbp_peak_counts / rbp_peak_counts.sum()"
   ]
  },
  {
   "cell_type": "code",
   "execution_count": 12,
   "id": "3e33302d-bd10-4f0c-97ed-330fe65d5d96",
   "metadata": {
    "execution": {
     "iopub.execute_input": "2022-06-28T17:01:06.194567Z",
     "iopub.status.busy": "2022-06-28T17:01:06.194397Z",
     "iopub.status.idle": "2022-06-28T17:01:06.229037Z",
     "shell.execute_reply": "2022-06-28T17:01:06.228669Z",
     "shell.execute_reply.started": "2022-06-28T17:01:06.194552Z"
    }
   },
   "outputs": [],
   "source": [
    "corr = (\n",
    "    pd.concat(\n",
    "        [\n",
    "            pattern_frac,\n",
    "            peak_frac,\n",
    "        ],\n",
    "        axis=0,\n",
    "    )\n",
    "    .dropna(axis=1)\n",
    "    .T.corr(\"spearman\")\n",
    "    .loc[rbp_pattern_counts.index, rbp_peak_counts.index]\n",
    ")\n",
    "\n",
    "corr = corr[\n",
    "    [\n",
    "        \"cds\",\n",
    "        \"five_ss\",\n",
    "        \"three_ss\",\n",
    "        \"five_prime_utrs\",\n",
    "        \"three_prime_utrs\",\n",
    "        \"proxintron\",\n",
    "        \"distintron\",\n",
    "    ]\n",
    "]\n",
    "corr.columns = [\n",
    "    \"CDS\",\n",
    "    \"5SS\",\n",
    "    \"3SS\",\n",
    "    \"5UTR\",\n",
    "    \"3UTR\",\n",
    "    \"proximal intron\",\n",
    "    \"distal intron\",\n",
    "]"
   ]
  },
  {
   "cell_type": "code",
   "execution_count": 13,
   "id": "8cb9ce1e-feec-40ad-aa77-666dfded155b",
   "metadata": {
    "execution": {
     "iopub.execute_input": "2022-06-28T17:01:06.229677Z",
     "iopub.status.busy": "2022-06-28T17:01:06.229574Z",
     "iopub.status.idle": "2022-06-28T17:01:07.482108Z",
     "shell.execute_reply": "2022-06-28T17:01:07.481734Z",
     "shell.execute_reply.started": "2022-06-28T17:01:06.229663Z"
    }
   },
   "outputs": [
    {
     "data": {
      "image/png": "[encoded data removed]",
      "text/plain": [
       "<Figure size 432x288 with 2 Axes>"
      ]
     },
     "metadata": {
      "needs_background": "light"
     },
     "output_type": "display_data"
    }
   ],
   "source": [
    "# plt.figure(figsize=(4,4))\n",
    "ax = sns.heatmap(\n",
    "    corr.T,\n",
    "    square=True,\n",
    "    cmap=\"RdBu_r\",\n",
    "    vmin=-0.5,\n",
    "    vmax=0.5,\n",
    "    center=0,\n",
    "    linewidth=1,\n",
    "    linecolor=\"black\",\n",
    "    cbar_kws={\"shrink\": 0.7},\n",
    ")\n",
    "plt.xticks(rotation=60)\n",
    "sns.despine(ax=ax, top=False, right=False)\n",
    "for spine in ax.spines.values():\n",
    "    spine.set_edgecolor(\"black\")\n",
    "\n",
    "rc = {\"svg.fonttype\": \"none\", \"font.family\": \"Arial\"}\n",
    "with plt.rc_context(rc):\n",
    "    plt.savefig(\"../../figures/fig4e_pattern_region_frac_spearman.svg\")"
   ]
  },
  {
   "cell_type": "code",
   "execution_count": 14,
   "id": "9fce8cf1-c1dd-4ece-9b52-479988de051f",
   "metadata": {
    "execution": {
     "iopub.execute_input": "2022-06-28T17:01:07.483663Z",
     "iopub.status.busy": "2022-06-28T17:01:07.483446Z",
     "iopub.status.idle": "2022-06-28T17:01:08.191718Z",
     "shell.execute_reply": "2022-06-28T17:01:08.191375Z",
     "shell.execute_reply.started": "2022-06-28T17:01:07.483647Z"
    }
   },
   "outputs": [
    {
     "data": {
      "text/plain": [
       "<seaborn.axisgrid.JointGrid at 0x1554da2b3250>"
      ]
     },
     "execution_count": 14,
     "metadata": {},
     "output_type": "execute_result"
    },
    {
     "data": {
      "image/png": "[encoded data removed]",
      "text/plain": [
       "<Figure size 432x432 with 3 Axes>"
      ]
     },
     "metadata": {
      "needs_background": "light"
     },
     "output_type": "display_data"
    }
   ],
   "source": [
    "sns.jointplot(\n",
    "    x=pattern_frac.loc[\"nuclear_edge\"],\n",
    "    y=peak_frac.loc[\"three_prime_utrs\"],\n",
    "    kind=\"reg\",\n",
    ")"
   ]
  },
  {
   "cell_type": "code",
   "execution_count": 15,
   "id": "1ad0c0ca-67a0-4b4e-a661-b2ab98e7d3c5",
   "metadata": {
    "execution": {
     "iopub.execute_input": "2022-06-28T17:01:08.192506Z",
     "iopub.status.busy": "2022-06-28T17:01:08.192307Z",
     "iopub.status.idle": "2022-06-28T17:01:08.195694Z",
     "shell.execute_reply": "2022-06-28T17:01:08.195414Z",
     "shell.execute_reply.started": "2022-06-28T17:01:08.192490Z"
    }
   },
   "outputs": [],
   "source": [
    "def log2fc_gene(values):\n",
    "    log2fc = dict()\n",
    "    for k, v in values.to_dict().items():\n",
    "        rest = (values.mean() * len(values) - v) / len(values)\n",
    "        log2fc[k] = np.log2((v + 1) / rest + 1)\n",
    "    log2fc = pd.Series(log2fc).replace({np.inf: 0, -np.inf: 0})\n",
    "    return log2fc"
   ]
  },
  {
   "cell_type": "code",
   "execution_count": 16,
   "id": "c994d796-721b-48e2-9d9e-ee0bcc4f72c4",
   "metadata": {
    "execution": {
     "iopub.execute_input": "2022-06-28T17:01:08.196221Z",
     "iopub.status.busy": "2022-06-28T17:01:08.196123Z",
     "iopub.status.idle": "2022-06-28T17:01:08.203851Z",
     "shell.execute_reply": "2022-06-28T17:01:08.203546Z",
     "shell.execute_reply.started": "2022-06-28T17:01:08.196209Z"
    }
   },
   "outputs": [],
   "source": [
    "rbp_pattern_counts = rbp_pattern_counts.drop(\"none\", errors=\"ignore\")"
   ]
  },
  {
   "cell_type": "code",
   "execution_count": 17,
   "id": "2d0d178c-580f-487f-85fa-75d6ed966546",
   "metadata": {
    "execution": {
     "iopub.execute_input": "2022-06-28T17:01:08.204484Z",
     "iopub.status.busy": "2022-06-28T17:01:08.204322Z",
     "iopub.status.idle": "2022-06-28T17:01:08.244939Z",
     "shell.execute_reply": "2022-06-28T17:01:08.244562Z",
     "shell.execute_reply.started": "2022-06-28T17:01:08.204470Z"
    }
   },
   "outputs": [],
   "source": [
    "rbp_pattern_counts = rbp_pattern_counts.loc[:, rbp_pattern_counts.sum() > 2]"
   ]
  },
  {
   "cell_type": "code",
   "execution_count": 18,
   "id": "df70f6ff-b413-48cf-82ac-0935e7a70601",
   "metadata": {
    "execution": {
     "iopub.execute_input": "2022-06-28T17:01:08.245727Z",
     "iopub.status.busy": "2022-06-28T17:01:08.245542Z",
     "iopub.status.idle": "2022-06-28T17:01:08.347707Z",
     "shell.execute_reply": "2022-06-28T17:01:08.347310Z",
     "shell.execute_reply.started": "2022-06-28T17:01:08.245712Z"
    }
   },
   "outputs": [],
   "source": [
    "# Start with log2fc of pattern counts\n",
    "log2fc_rbp_patterns = rbp_pattern_counts.apply(log2fc_gene)\n",
    "\n",
    "# Long df of log2fc\n",
    "log2fc_long = (\n",
    "    log2fc_rbp_patterns.reset_index()\n",
    "    .melt(id_vars=\"index\")\n",
    "    .rename({\"value\": \"log2fc\"}, axis=1)\n",
    ")\n",
    "\n",
    "# Long df of log2 counts\n",
    "log2_count_long = (\n",
    "    log2_rbp_pattern_counts.reset_index()\n",
    "    .melt(id_vars=\"index\")\n",
    "    .rename({\"value\": \"log2_target_count\"}, axis=1)\n",
    ")\n",
    "\n",
    "# Long df of counts\n",
    "count_long = (\n",
    "    rbp_pattern_counts.reset_index()\n",
    "    .melt(id_vars=\"index\")\n",
    "    .rename({\"value\": \"target_count\"}, axis=1)\n",
    ")\n",
    "\n",
    "# Join log2fc and counts\n",
    "rbp_long = (\n",
    "    log2fc_long.set_index([\"index\", \"rbp\"])\n",
    "    .join(count_long.set_index([\"index\", \"rbp\"]))\n",
    "    .reset_index()\n",
    ")"
   ]
  },
  {
   "cell_type": "code",
   "execution_count": 19,
   "id": "b93e9765-963e-4134-a0d5-d8593e40ded4",
   "metadata": {
    "execution": {
     "iopub.execute_input": "2022-06-28T17:01:08.348432Z",
     "iopub.status.busy": "2022-06-28T17:01:08.348326Z",
     "iopub.status.idle": "2022-06-28T17:01:12.403218Z",
     "shell.execute_reply": "2022-06-28T17:01:12.402918Z",
     "shell.execute_reply.started": "2022-06-28T17:01:08.348419Z"
    }
   },
   "outputs": [
    {
     "data": {
      "image/png": "[encoded data removed]",
      "text/plain": [
       "<Figure size 864x108 with 1 Axes>"
      ]
     },
     "metadata": {
      "needs_background": "light"
     },
     "output_type": "display_data"
    }
   ],
   "source": [
    "ntop = 10\n",
    "top_rbps = (\n",
    "    rbp_long.sort_values([\"index\", \"log2fc\"], ascending=False)\n",
    "    .groupby(\"index\")\n",
    "    .head(ntop)[\"rbp\"]\n",
    "    .unique()\n",
    "    .tolist()\n",
    ")\n",
    "\n",
    "top_markers = (\n",
    "    rbp_long.set_index(\"rbp\")\n",
    "    .loc[top_rbps]\n",
    "    .reset_index()\n",
    "    .set_index(\"index\")\n",
    "    .loc[[\"cell_edge\", \"cytoplasmic\", \"nuclear\", \"nuclear_edge\"]]\n",
    ")\n",
    "\n",
    "plt.figure(figsize=(ntop * 1.2, 1.5))\n",
    "ax = sns.scatterplot(\n",
    "    data=top_markers,\n",
    "    y=\"index\",\n",
    "    x=\"rbp\",\n",
    "    hue=\"log2fc\",\n",
    "    hue_norm=(-4, 4),\n",
    "    size=\"target_count\",\n",
    "    size_norm=(0, 20),\n",
    "    sizes=(0, 300),\n",
    "    palette=\"RdBu_r\",\n",
    "    linewidth=0.5,\n",
    "    edgecolor=\"black\",\n",
    ")\n",
    "plt.xticks(rotation=90)\n",
    "ax.legend(bbox_to_anchor=(1, 1.05), frameon=False)\n",
    "ax.set_xlim(-1, len(top_rbps))\n",
    "ax.set_ylim(-1, 4)\n",
    "\n",
    "\n",
    "rc = {\"svg.fonttype\": \"none\", \"font.family\": \"Arial\"}\n",
    "\n",
    "with plt.rc_context(rc):\n",
    "    plt.savefig(\"../../figures/fig4a_rbp_log2fc_targets.svg\")"
   ]
  },
  {
   "cell_type": "code",
   "execution_count": null,
   "id": "6dd4874e-7609-422d-9aab-79390c38e55c",
   "metadata": {},
   "outputs": [],
   "source": []
  }
 ],
 "metadata": {
  "kernelspec": {
   "display_name": "Python [conda env:spatial]",
   "language": "python",
   "name": "conda-env-spatial-py"
  },
  "language_info": {
   "codemirror_mode": {
    "name": "ipython",
    "version": 3
   },
   "file_extension": ".py",
   "mimetype": "text/x-python",
   "name": "python",
   "nbconvert_exporter": "python",
   "pygments_lexer": "ipython3",
   "version": "3.8.11"
  }
 },
 "nbformat": 4,
 "nbformat_minor": 5
}

{
 "cells": [
  {
   "cell_type": "markdown",
   "metadata": {},
   "source": [
    "todo\n",
    "- get labeling files\n",
    "- extract samples with agreement\n",
    "- compute features for those\n",
    "- run model predictions\n",
    "- retrurn performance"
   ]
  },
  {
   "cell_type": "code",
   "execution_count": 1,
   "metadata": {
    "execution": {
     "iopub.execute_input": "2021-11-02T02:27:22.941206Z",
     "iopub.status.busy": "2021-11-02T02:27:22.940980Z",
     "iopub.status.idle": "2021-11-02T02:27:46.077923Z",
     "shell.execute_reply": "2021-11-02T02:27:46.077559Z",
     "shell.execute_reply.started": "2021-11-02T02:27:22.941151Z"
    },
    "tags": []
   },
   "outputs": [],
   "source": [
    "import bento\n",
    "import numpy as np\n",
    "import pandas as pd\n",
    "# from hmr import Reloader\n",
    "\n",
    "# bento = Reloader(bento)"
   ]
  },
  {
   "cell_type": "code",
   "execution_count": 2,
   "metadata": {
    "execution": {
     "iopub.execute_input": "2021-11-02T02:27:46.078820Z",
     "iopub.status.busy": "2021-11-02T02:27:46.078707Z",
     "iopub.status.idle": "2021-11-02T02:27:46.081307Z",
     "shell.execute_reply": "2021-11-02T02:27:46.080947Z",
     "shell.execute_reply.started": "2021-11-02T02:27:46.078806Z"
    },
    "tags": []
   },
   "outputs": [],
   "source": [
    "import matplotlib.pyplot as plt"
   ]
  },
  {
   "cell_type": "code",
   "execution_count": 3,
   "metadata": {
    "execution": {
     "iopub.execute_input": "2021-11-02T02:27:46.082063Z",
     "iopub.status.busy": "2021-11-02T02:27:46.081843Z",
     "iopub.status.idle": "2021-11-02T02:27:46.151157Z",
     "shell.execute_reply": "2021-11-02T02:27:46.150746Z",
     "shell.execute_reply.started": "2021-11-02T02:27:46.082049Z"
    },
    "tags": []
   },
   "outputs": [],
   "source": [
    "consensus_data = pd.read_csv(\n",
    "    \"../../data/multilabel_annotations/consensus_labels_600.csv\", index_col=0\n",
    ").reset_index()"
   ]
  },
  {
   "cell_type": "code",
   "execution_count": 4,
   "metadata": {
    "execution": {
     "iopub.execute_input": "2021-11-02T02:27:46.152319Z",
     "iopub.status.busy": "2021-11-02T02:27:46.152087Z",
     "iopub.status.idle": "2021-11-02T02:27:46.157725Z",
     "shell.execute_reply": "2021-11-02T02:27:46.157352Z",
     "shell.execute_reply.started": "2021-11-02T02:27:46.152304Z"
    },
    "tags": []
   },
   "outputs": [],
   "source": [
    "query = consensus_data.loc[consensus_data[\"dataset\"] == \"seqfish\"]\n",
    "query2 = consensus_data.loc[consensus_data[\"dataset\"] == \"merfish\"]"
   ]
  },
  {
   "cell_type": "code",
   "execution_count": 5,
   "metadata": {
    "execution": {
     "iopub.execute_input": "2021-11-02T02:27:46.158464Z",
     "iopub.status.busy": "2021-11-02T02:27:46.158241Z",
     "iopub.status.idle": "2021-11-02T02:27:46.701833Z",
     "shell.execute_reply": "2021-11-02T02:27:46.701357Z",
     "shell.execute_reply.started": "2021-11-02T02:27:46.158450Z"
    },
    "tags": []
   },
   "outputs": [
    {
     "name": "stderr",
     "output_type": "stream",
     "text": [
      "Trying to set attribute `.uns` of view, copying.\n"
     ]
    }
   ],
   "source": [
    "seqfish = bento.io.read_h5ad(\"../../data/multilabel_annotations/seqfish_annot.h5ad\")\n",
    "\n",
    "seqfish_genes = np.unique(query[\"gene\"]).tolist()\n",
    "seqfish_cells = np.unique(query[\"cell\"]).tolist()\n",
    "seqfish = seqfish[seqfish_cells, seqfish_genes]\n",
    "bento.pp.set_points(seqfish)"
   ]
  },
  {
   "cell_type": "code",
   "execution_count": 6,
   "metadata": {
    "execution": {
     "iopub.execute_input": "2021-11-02T02:27:46.702748Z",
     "iopub.status.busy": "2021-11-02T02:27:46.702507Z",
     "iopub.status.idle": "2021-11-02T02:27:47.384443Z",
     "shell.execute_reply": "2021-11-02T02:27:47.383954Z",
     "shell.execute_reply.started": "2021-11-02T02:27:46.702732Z"
    },
    "tags": []
   },
   "outputs": [
    {
     "name": "stderr",
     "output_type": "stream",
     "text": [
      "Trying to set attribute `.uns` of view, copying.\n"
     ]
    }
   ],
   "source": [
    "merfish = bento.io.read_h5ad(\"../../data/multilabel_annotations/u2os_merfish_annot.h5ad\")\n",
    "merfish_genes = np.unique(query2[\"gene\"]).tolist()\n",
    "merfish_cells = np.unique(query2[\"cell\"]).tolist()\n",
    "merfish = merfish[merfish_cells, merfish_genes]\n",
    "bento.pp.set_points(merfish)"
   ]
  },
  {
   "cell_type": "code",
   "execution_count": 7,
   "metadata": {
    "execution": {
     "iopub.execute_input": "2021-11-02T02:27:47.385318Z",
     "iopub.status.busy": "2021-11-02T02:27:47.385120Z",
     "iopub.status.idle": "2021-11-02T02:27:47.389734Z",
     "shell.execute_reply": "2021-11-02T02:27:47.389379Z",
     "shell.execute_reply.started": "2021-11-02T02:27:47.385302Z"
    },
    "tags": []
   },
   "outputs": [
    {
     "data": {
      "text/plain": [
       "['cell_edge', 'cytoplasmic', 'none', 'nuclear', 'nuclear_edge']"
      ]
     },
     "execution_count": 7,
     "metadata": {},
     "output_type": "execute_result"
    }
   ],
   "source": [
    "patterns = consensus_data.columns.tolist()[-5:]\n",
    "patterns"
   ]
  },
  {
   "cell_type": "code",
   "execution_count": 8,
   "metadata": {
    "execution": {
     "iopub.execute_input": "2021-11-02T02:27:47.390487Z",
     "iopub.status.busy": "2021-11-02T02:27:47.390268Z",
     "iopub.status.idle": "2021-11-02T02:27:47.519256Z",
     "shell.execute_reply": "2021-11-02T02:27:47.518815Z",
     "shell.execute_reply.started": "2021-11-02T02:27:47.390467Z"
    },
    "tags": []
   },
   "outputs": [],
   "source": [
    "for p in patterns:\n",
    "    seqfish.layers[p] = consensus_data.pivot_table(\n",
    "        index=\"cell\", columns=\"gene\", values=p\n",
    "    ).loc[seqfish_cells, seqfish_genes]\n",
    "    merfish.layers[p] = consensus_data.pivot_table(\n",
    "        index=\"cell\", columns=\"gene\", values=p\n",
    "    ).loc[merfish_cells, merfish_genes]"
   ]
  },
  {
   "cell_type": "code",
   "execution_count": 9,
   "metadata": {
    "execution": {
     "iopub.execute_input": "2021-11-02T02:27:47.520067Z",
     "iopub.status.busy": "2021-11-02T02:27:47.519884Z",
     "iopub.status.idle": "2021-11-02T02:27:47.528121Z",
     "shell.execute_reply": "2021-11-02T02:27:47.527750Z",
     "shell.execute_reply.started": "2021-11-02T02:27:47.520053Z"
    },
    "tags": []
   },
   "outputs": [],
   "source": [
    "consensus_data[\"pattern\"] = (\n",
    "    consensus_data[patterns]\n",
    "    .apply(lambda col: col.replace({1: col.name, 0: \"\"}))\n",
    "    .apply(lambda row: \"\".join(row.values), axis=1)\n",
    ")"
   ]
  },
  {
   "cell_type": "code",
   "execution_count": null,
   "metadata": {
    "tags": []
   },
   "outputs": [],
   "source": [
    "def plot_temp(row):\n",
    "    fig = bento.pl.plot_cells(\n",
    "        merfish, cells=[row[\"cell\"]], genes=[row[\"gene\"]], cmap=\"blue\", size=2\n",
    "    )\n",
    "    plt.suptitle(row[\"pattern\"])\n",
    "\n",
    "\n",
    "consensus_data.loc[consensus_data[\"dataset\"] == \"merfish\"].apply(\n",
    "    lambda row: plot_temp(row), axis=1\n",
    ")"
   ]
  },
  {
   "cell_type": "code",
   "execution_count": 10,
   "metadata": {
    "execution": {
     "iopub.execute_input": "2021-11-02T02:27:47.529306Z",
     "iopub.status.busy": "2021-11-02T02:27:47.529082Z",
     "iopub.status.idle": "2021-11-02T02:27:47.537313Z",
     "shell.execute_reply": "2021-11-02T02:27:47.536902Z",
     "shell.execute_reply.started": "2021-11-02T02:27:47.529292Z"
    },
    "tags": []
   },
   "outputs": [],
   "source": [
    "def compute_features(data):\n",
    "    feature_names = []\n",
    "\n",
    "    bento.tl.ShapeProximity(\"cell_shape\").transform(data)\n",
    "    bento.tl.ShapeProximity(\"nucleus_shape\").transform(data)\n",
    "    bento.tl.ShapeAsymmetry(\"cell_shape\").transform(data)\n",
    "    bento.tl.ShapeAsymmetry(\"nucleus_shape\").transform(data)\n",
    "    bento.tl.Ripley().transform(data)\n",
    "    bento.tl.PointDispersion().transform(data)\n",
    "    bento.tl.ShapeDispersion(\"nucleus_shape\").transform(data)"
   ]
  },
  {
   "cell_type": "code",
   "execution_count": 12,
   "metadata": {
    "execution": {
     "iopub.execute_input": "2021-11-02T02:28:03.303420Z",
     "iopub.status.busy": "2021-11-02T02:28:03.302908Z",
     "iopub.status.idle": "2021-11-02T02:29:19.914022Z",
     "shell.execute_reply": "2021-11-02T02:29:19.913686Z",
     "shell.execute_reply.started": "2021-11-02T02:28:03.303399Z"
    },
    "tags": []
   },
   "outputs": [
    {
     "name": "stdout",
     "output_type": "stream",
     "text": [
      "AnnData object modified:\n",
      "    obs:\n",
      "        + cell_radius\n",
      "[########################################] | 100% Completed | 14.0s\n",
      "AnnData object modified:\n",
      "    obs:\n",
      "        + cell_radius\n",
      "    layers:\n",
      "        + cell_outer_proximity, cell_inner_proximity\n",
      "[########################################] | 100% Completed | 10.7s\n",
      "AnnData object modified:\n",
      "    layers:\n",
      "        + nucleus_inner_proximity, nucleus_outer_proximity\n",
      "[########################################] | 100% Completed | 13.4s\n",
      "AnnData object modified:\n",
      "    layers:\n",
      "        + cell_inner_asymmetry, cell_outer_asymmetry\n",
      "[########################################] | 100% Completed | 10.1s\n",
      "AnnData object modified:\n",
      "    layers:\n",
      "        + nucleus_inner_asymmetry, nucleus_outer_asymmetry\n",
      "[########################################] | 100% Completed | 13.9s\n",
      "AnnData object modified:\n",
      "    layers:\n",
      "        + l_min_gradient, l_monotony, l_max_gradient, l_half_radius, l_max\n",
      "[########################################] | 100% Completed |  3.6s\n",
      "AnnData object modified:\n",
      "    layers:\n",
      "        + point_dispersion\n",
      "[########################################] | 100% Completed |  3.2s\n",
      "AnnData object modified:\n",
      "    layers:\n",
      "        + nucleus_dispersion\n"
     ]
    }
   ],
   "source": [
    "# bento.reload()\n",
    "compute_features(merfish)"
   ]
  },
  {
   "cell_type": "code",
   "execution_count": 13,
   "metadata": {
    "execution": {
     "iopub.execute_input": "2021-11-02T02:29:19.914853Z",
     "iopub.status.busy": "2021-11-02T02:29:19.914745Z",
     "iopub.status.idle": "2021-11-02T02:31:05.084795Z",
     "shell.execute_reply": "2021-11-02T02:31:05.084344Z",
     "shell.execute_reply.started": "2021-11-02T02:29:19.914839Z"
    },
    "tags": []
   },
   "outputs": [
    {
     "name": "stdout",
     "output_type": "stream",
     "text": [
      "AnnData object modified:\n",
      "    obs:\n",
      "        + cell_radius\n",
      "[########################################] | 100% Completed | 10.5s\n",
      "AnnData object modified:\n",
      "    obs:\n",
      "        + cell_radius\n",
      "    layers:\n",
      "        + cell_outer_proximity, cell_inner_proximity\n",
      "[########################################] | 100% Completed |  8.0s\n",
      "AnnData object modified:\n",
      "    layers:\n",
      "        + nucleus_inner_proximity, nucleus_outer_proximity\n",
      "[########################################] | 100% Completed |  9.6s\n",
      "AnnData object modified:\n",
      "    layers:\n",
      "        + cell_inner_asymmetry, cell_outer_asymmetry\n",
      "[########################################] | 100% Completed |  7.6s\n",
      "AnnData object modified:\n",
      "    layers:\n",
      "        + nucleus_inner_asymmetry, nucleus_outer_asymmetry\n",
      "[########################################] | 100% Completed | 50.8s\n",
      "AnnData object modified:\n",
      "    layers:\n",
      "        + l_min_gradient, l_monotony, l_max_gradient, l_half_radius, l_max\n",
      "[########################################] | 100% Completed |  4.1s\n",
      "AnnData object modified:\n",
      "    layers:\n",
      "        + point_dispersion\n",
      "[########################################] | 100% Completed |  3.4s\n",
      "AnnData object modified:\n",
      "    layers:\n",
      "        + nucleus_dispersion\n"
     ]
    }
   ],
   "source": [
    "# bento.reload()\n",
    "compute_features(seqfish)"
   ]
  },
  {
   "cell_type": "code",
   "execution_count": 14,
   "metadata": {
    "execution": {
     "iopub.execute_input": "2021-11-02T02:31:05.085605Z",
     "iopub.status.busy": "2021-11-02T02:31:05.085489Z",
     "iopub.status.idle": "2021-11-02T02:31:05.928517Z",
     "shell.execute_reply": "2021-11-02T02:31:05.928024Z",
     "shell.execute_reply.started": "2021-11-02T02:31:05.085591Z"
    },
    "tags": []
   },
   "outputs": [],
   "source": [
    "bento.io.write_h5ad(\n",
    "    seqfish,\n",
    "    \"../../data/multilabel_annotations/seqfish_annot_gold.h5ad\",\n",
    ")\n",
    "bento.io.write_h5ad(\n",
    "    merfish,\n",
    "    \"../../data/multilabel_annotations/merfish_annot_gold.h5ad\",\n",
    ")"
   ]
  },
  {
   "cell_type": "code",
   "execution_count": null,
   "metadata": {},
   "outputs": [],
   "source": []
  }
 ],
 "metadata": {
  "kernelspec": {
   "display_name": "Python [conda env:spatial]",
   "language": "python",
   "name": "conda-env-spatial-py"
  },
  "language_info": {
   "codemirror_mode": {
    "name": "ipython",
    "version": 3
   },
   "file_extension": ".py",
   "mimetype": "text/x-python",
   "name": "python",
   "nbconvert_exporter": "python",
   "pygments_lexer": "ipython3",
   "version": "3.8.11"
  }
 },
 "nbformat": 4,
 "nbformat_minor": 4
}

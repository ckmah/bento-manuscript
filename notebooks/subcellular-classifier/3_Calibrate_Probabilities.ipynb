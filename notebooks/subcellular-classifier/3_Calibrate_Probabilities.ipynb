{
 "cells": [
  {
   "cell_type": "code",
   "execution_count": null,
   "id": "be1cea70-e8df-4baa-9ce6-4f3632576dec",
   "metadata": {
    "tags": []
   },
   "outputs": [],
   "source": [
    "import pickle\n",
    "\n",
    "import bento\n",
    "import matplotlib.pyplot as plt\n",
    "import numpy as np\n",
    "import seaborn as sns\n",
    "from sklearn.calibration import CalibratedClassifierCV\n",
    "from sklearn.metrics import brier_score_loss, f1_score\n",
    "from sklearn.model_selection import train_test_split\n",
    "from sklearn.preprocessing import LabelBinarizer, LabelEncoder"
   ]
  },
  {
   "cell_type": "code",
   "execution_count": 4,
   "id": "451eed92-e6ba-4cba-b626-3116dfd4ade7",
   "metadata": {
    "execution": {
     "iopub.execute_input": "2022-05-14T21:38:31.037762Z",
     "iopub.status.busy": "2022-05-14T21:38:31.037646Z",
     "iopub.status.idle": "2022-05-14T21:38:45.492521Z",
     "shell.execute_reply": "2022-05-14T21:38:45.492196Z",
     "shell.execute_reply.started": "2022-05-14T21:38:31.037748Z"
    },
    "papermill": {
     "duration": 15.21969,
     "end_time": "2021-10-29T05:25:44.273403",
     "exception": false,
     "start_time": "2021-10-29T05:25:29.053713",
     "status": "completed"
    },
    "tags": []
   },
   "outputs": [
    {
     "data": {
      "text/plain": [
       "(10000, 1)"
      ]
     },
     "execution_count": 4,
     "metadata": {},
     "output_type": "execute_result"
    }
   ],
   "source": [
    "data = bento.io.read_h5ad(\"../../data/locfish/locfish_eval_20211019.h5ad\")\n",
    "data.shape"
   ]
  },
  {
   "cell_type": "code",
   "execution_count": 5,
   "id": "aa2f3542-b7f0-4b4b-a06d-6a575e32a1c8",
   "metadata": {
    "execution": {
     "iopub.execute_input": "2022-05-14T21:38:45.493318Z",
     "iopub.status.busy": "2022-05-14T21:38:45.493107Z",
     "iopub.status.idle": "2022-05-14T21:38:46.021072Z",
     "shell.execute_reply": "2022-05-14T21:38:46.020744Z",
     "shell.execute_reply.started": "2022-05-14T21:38:45.493303Z"
    },
    "tags": []
   },
   "outputs": [
    {
     "data": {
      "text/html": [
       "<div>\n",
       "<style scoped>\n",
       "    .dataframe tbody tr th:only-of-type {\n",
       "        vertical-align: middle;\n",
       "    }\n",
       "\n",
       "    .dataframe tbody tr th {\n",
       "        vertical-align: top;\n",
       "    }\n",
       "\n",
       "    .dataframe thead th {\n",
       "        text-align: right;\n",
       "    }\n",
       "</style>\n",
       "<table border=\"1\" class=\"dataframe\">\n",
       "  <thead>\n",
       "    <tr style=\"text-align: right;\">\n",
       "      <th></th>\n",
       "      <th></th>\n",
       "      <th>cell_inner_proximity</th>\n",
       "      <th>nucleus_inner_proximity</th>\n",
       "      <th>nucleus_outer_proximity</th>\n",
       "      <th>cell_inner_asymmetry</th>\n",
       "      <th>nucleus_inner_asymmetry</th>\n",
       "      <th>nucleus_outer_asymmetry</th>\n",
       "      <th>l_max</th>\n",
       "      <th>l_max_gradient</th>\n",
       "      <th>l_min_gradient</th>\n",
       "      <th>l_monotony</th>\n",
       "      <th>l_half_radius</th>\n",
       "      <th>point_dispersion</th>\n",
       "      <th>nucleus_dispersion</th>\n",
       "    </tr>\n",
       "    <tr>\n",
       "      <th>cell</th>\n",
       "      <th>gene</th>\n",
       "      <th></th>\n",
       "      <th></th>\n",
       "      <th></th>\n",
       "      <th></th>\n",
       "      <th></th>\n",
       "      <th></th>\n",
       "      <th></th>\n",
       "      <th></th>\n",
       "      <th></th>\n",
       "      <th></th>\n",
       "      <th></th>\n",
       "      <th></th>\n",
       "      <th></th>\n",
       "    </tr>\n",
       "  </thead>\n",
       "  <tbody>\n",
       "    <tr>\n",
       "      <th>mRNAlevel_100-cell2D-moderate-w1_HelaKyoto_Gapdh_2597_p20_cy3__Cell_CP_21__cell2D__25995-0</th>\n",
       "      <th>0</th>\n",
       "      <td>0.829736</td>\n",
       "      <td>0.851020</td>\n",
       "      <td>0.620248</td>\n",
       "      <td>0.818451</td>\n",
       "      <td>0.432661</td>\n",
       "      <td>0.943112</td>\n",
       "      <td>2.588469</td>\n",
       "      <td>0.595780</td>\n",
       "      <td>-0.628860</td>\n",
       "      <td>-0.997451</td>\n",
       "      <td>-22.290045</td>\n",
       "      <td>1.384136</td>\n",
       "      <td>1.328042</td>\n",
       "    </tr>\n",
       "    <tr>\n",
       "      <th>mRNAlevel_10-cell2D-weak-w1_HelaKyoto_Gapdh_2597_p21_cy3__Cell_CP_20__cell2D__28976-0</th>\n",
       "      <th>0</th>\n",
       "      <td>0.825032</td>\n",
       "      <td>0.787775</td>\n",
       "      <td>0.791329</td>\n",
       "      <td>0.734160</td>\n",
       "      <td>0.346235</td>\n",
       "      <td>0.786008</td>\n",
       "      <td>9.846196</td>\n",
       "      <td>2.569239</td>\n",
       "      <td>-1.000000</td>\n",
       "      <td>-0.959401</td>\n",
       "      <td>-13.461411</td>\n",
       "      <td>0.919131</td>\n",
       "      <td>0.927827</td>\n",
       "    </tr>\n",
       "    <tr>\n",
       "      <th>mRNAlevel_200-cell2D-moderate-w1_HelaKyoto_Gapdh_2597_p14_cy3__Cell_CP_28__cell2D__17988-0</th>\n",
       "      <th>0</th>\n",
       "      <td>0.827042</td>\n",
       "      <td>0.814255</td>\n",
       "      <td>0.598638</td>\n",
       "      <td>0.783305</td>\n",
       "      <td>0.312828</td>\n",
       "      <td>0.917744</td>\n",
       "      <td>2.198155</td>\n",
       "      <td>0.442243</td>\n",
       "      <td>-0.631441</td>\n",
       "      <td>-0.999329</td>\n",
       "      <td>-25.583847</td>\n",
       "      <td>1.348785</td>\n",
       "      <td>1.343532</td>\n",
       "    </tr>\n",
       "    <tr>\n",
       "      <th>mRNAlevel_100-cell2D-strong-w1_HelaKyoto_Gapdh_2597_p22_cy3__Cell_CP_26__cell2D__31657-0</th>\n",
       "      <th>0</th>\n",
       "      <td>0.891717</td>\n",
       "      <td>0.874524</td>\n",
       "      <td>0.589783</td>\n",
       "      <td>0.813132</td>\n",
       "      <td>0.376730</td>\n",
       "      <td>0.923885</td>\n",
       "      <td>2.112563</td>\n",
       "      <td>0.604250</td>\n",
       "      <td>-0.692180</td>\n",
       "      <td>-0.999425</td>\n",
       "      <td>-31.958605</td>\n",
       "      <td>1.295479</td>\n",
       "      <td>1.325677</td>\n",
       "    </tr>\n",
       "    <tr>\n",
       "      <th>mRNAlevel_400-cell2D-moderate-w1_HelaKyoto_Gapdh_2597_p14_cy3__Cell_CP_13__cell2D__16986-0</th>\n",
       "      <th>0</th>\n",
       "      <td>0.805541</td>\n",
       "      <td>0.835902</td>\n",
       "      <td>0.744821</td>\n",
       "      <td>0.789135</td>\n",
       "      <td>0.475451</td>\n",
       "      <td>0.903744</td>\n",
       "      <td>1.961746</td>\n",
       "      <td>0.393886</td>\n",
       "      <td>-0.579349</td>\n",
       "      <td>-0.998678</td>\n",
       "      <td>-14.650076</td>\n",
       "      <td>1.332575</td>\n",
       "      <td>1.337972</td>\n",
       "    </tr>\n",
       "  </tbody>\n",
       "</table>\n",
       "</div>"
      ],
      "text/plain": [
       "                                                         cell_inner_proximity  \\\n",
       "cell                                               gene                         \n",
       "mRNAlevel_100-cell2D-moderate-w1_HelaKyoto_Gapd... 0                 0.829736   \n",
       "mRNAlevel_10-cell2D-weak-w1_HelaKyoto_Gapdh_259... 0                 0.825032   \n",
       "mRNAlevel_200-cell2D-moderate-w1_HelaKyoto_Gapd... 0                 0.827042   \n",
       "mRNAlevel_100-cell2D-strong-w1_HelaKyoto_Gapdh_... 0                 0.891717   \n",
       "mRNAlevel_400-cell2D-moderate-w1_HelaKyoto_Gapd... 0                 0.805541   \n",
       "\n",
       "                                                         nucleus_inner_proximity  \\\n",
       "cell                                               gene                            \n",
       "mRNAlevel_100-cell2D-moderate-w1_HelaKyoto_Gapd... 0                    0.851020   \n",
       "mRNAlevel_10-cell2D-weak-w1_HelaKyoto_Gapdh_259... 0                    0.787775   \n",
       "mRNAlevel_200-cell2D-moderate-w1_HelaKyoto_Gapd... 0                    0.814255   \n",
       "mRNAlevel_100-cell2D-strong-w1_HelaKyoto_Gapdh_... 0                    0.874524   \n",
       "mRNAlevel_400-cell2D-moderate-w1_HelaKyoto_Gapd... 0                    0.835902   \n",
       "\n",
       "                                                         nucleus_outer_proximity  \\\n",
       "cell                                               gene                            \n",
       "mRNAlevel_100-cell2D-moderate-w1_HelaKyoto_Gapd... 0                    0.620248   \n",
       "mRNAlevel_10-cell2D-weak-w1_HelaKyoto_Gapdh_259... 0                    0.791329   \n",
       "mRNAlevel_200-cell2D-moderate-w1_HelaKyoto_Gapd... 0                    0.598638   \n",
       "mRNAlevel_100-cell2D-strong-w1_HelaKyoto_Gapdh_... 0                    0.589783   \n",
       "mRNAlevel_400-cell2D-moderate-w1_HelaKyoto_Gapd... 0                    0.744821   \n",
       "\n",
       "                                                         cell_inner_asymmetry  \\\n",
       "cell                                               gene                         \n",
       "mRNAlevel_100-cell2D-moderate-w1_HelaKyoto_Gapd... 0                 0.818451   \n",
       "mRNAlevel_10-cell2D-weak-w1_HelaKyoto_Gapdh_259... 0                 0.734160   \n",
       "mRNAlevel_200-cell2D-moderate-w1_HelaKyoto_Gapd... 0                 0.783305   \n",
       "mRNAlevel_100-cell2D-strong-w1_HelaKyoto_Gapdh_... 0                 0.813132   \n",
       "mRNAlevel_400-cell2D-moderate-w1_HelaKyoto_Gapd... 0                 0.789135   \n",
       "\n",
       "                                                         nucleus_inner_asymmetry  \\\n",
       "cell                                               gene                            \n",
       "mRNAlevel_100-cell2D-moderate-w1_HelaKyoto_Gapd... 0                    0.432661   \n",
       "mRNAlevel_10-cell2D-weak-w1_HelaKyoto_Gapdh_259... 0                    0.346235   \n",
       "mRNAlevel_200-cell2D-moderate-w1_HelaKyoto_Gapd... 0                    0.312828   \n",
       "mRNAlevel_100-cell2D-strong-w1_HelaKyoto_Gapdh_... 0                    0.376730   \n",
       "mRNAlevel_400-cell2D-moderate-w1_HelaKyoto_Gapd... 0                    0.475451   \n",
       "\n",
       "                                                         nucleus_outer_asymmetry  \\\n",
       "cell                                               gene                            \n",
       "mRNAlevel_100-cell2D-moderate-w1_HelaKyoto_Gapd... 0                    0.943112   \n",
       "mRNAlevel_10-cell2D-weak-w1_HelaKyoto_Gapdh_259... 0                    0.786008   \n",
       "mRNAlevel_200-cell2D-moderate-w1_HelaKyoto_Gapd... 0                    0.917744   \n",
       "mRNAlevel_100-cell2D-strong-w1_HelaKyoto_Gapdh_... 0                    0.923885   \n",
       "mRNAlevel_400-cell2D-moderate-w1_HelaKyoto_Gapd... 0                    0.903744   \n",
       "\n",
       "                                                            l_max  \\\n",
       "cell                                               gene             \n",
       "mRNAlevel_100-cell2D-moderate-w1_HelaKyoto_Gapd... 0     2.588469   \n",
       "mRNAlevel_10-cell2D-weak-w1_HelaKyoto_Gapdh_259... 0     9.846196   \n",
       "mRNAlevel_200-cell2D-moderate-w1_HelaKyoto_Gapd... 0     2.198155   \n",
       "mRNAlevel_100-cell2D-strong-w1_HelaKyoto_Gapdh_... 0     2.112563   \n",
       "mRNAlevel_400-cell2D-moderate-w1_HelaKyoto_Gapd... 0     1.961746   \n",
       "\n",
       "                                                         l_max_gradient  \\\n",
       "cell                                               gene                   \n",
       "mRNAlevel_100-cell2D-moderate-w1_HelaKyoto_Gapd... 0           0.595780   \n",
       "mRNAlevel_10-cell2D-weak-w1_HelaKyoto_Gapdh_259... 0           2.569239   \n",
       "mRNAlevel_200-cell2D-moderate-w1_HelaKyoto_Gapd... 0           0.442243   \n",
       "mRNAlevel_100-cell2D-strong-w1_HelaKyoto_Gapdh_... 0           0.604250   \n",
       "mRNAlevel_400-cell2D-moderate-w1_HelaKyoto_Gapd... 0           0.393886   \n",
       "\n",
       "                                                         l_min_gradient  \\\n",
       "cell                                               gene                   \n",
       "mRNAlevel_100-cell2D-moderate-w1_HelaKyoto_Gapd... 0          -0.628860   \n",
       "mRNAlevel_10-cell2D-weak-w1_HelaKyoto_Gapdh_259... 0          -1.000000   \n",
       "mRNAlevel_200-cell2D-moderate-w1_HelaKyoto_Gapd... 0          -0.631441   \n",
       "mRNAlevel_100-cell2D-strong-w1_HelaKyoto_Gapdh_... 0          -0.692180   \n",
       "mRNAlevel_400-cell2D-moderate-w1_HelaKyoto_Gapd... 0          -0.579349   \n",
       "\n",
       "                                                         l_monotony  \\\n",
       "cell                                               gene               \n",
       "mRNAlevel_100-cell2D-moderate-w1_HelaKyoto_Gapd... 0      -0.997451   \n",
       "mRNAlevel_10-cell2D-weak-w1_HelaKyoto_Gapdh_259... 0      -0.959401   \n",
       "mRNAlevel_200-cell2D-moderate-w1_HelaKyoto_Gapd... 0      -0.999329   \n",
       "mRNAlevel_100-cell2D-strong-w1_HelaKyoto_Gapdh_... 0      -0.999425   \n",
       "mRNAlevel_400-cell2D-moderate-w1_HelaKyoto_Gapd... 0      -0.998678   \n",
       "\n",
       "                                                         l_half_radius  \\\n",
       "cell                                               gene                  \n",
       "mRNAlevel_100-cell2D-moderate-w1_HelaKyoto_Gapd... 0        -22.290045   \n",
       "mRNAlevel_10-cell2D-weak-w1_HelaKyoto_Gapdh_259... 0        -13.461411   \n",
       "mRNAlevel_200-cell2D-moderate-w1_HelaKyoto_Gapd... 0        -25.583847   \n",
       "mRNAlevel_100-cell2D-strong-w1_HelaKyoto_Gapdh_... 0        -31.958605   \n",
       "mRNAlevel_400-cell2D-moderate-w1_HelaKyoto_Gapd... 0        -14.650076   \n",
       "\n",
       "                                                         point_dispersion  \\\n",
       "cell                                               gene                     \n",
       "mRNAlevel_100-cell2D-moderate-w1_HelaKyoto_Gapd... 0             1.384136   \n",
       "mRNAlevel_10-cell2D-weak-w1_HelaKyoto_Gapdh_259... 0             0.919131   \n",
       "mRNAlevel_200-cell2D-moderate-w1_HelaKyoto_Gapd... 0             1.348785   \n",
       "mRNAlevel_100-cell2D-strong-w1_HelaKyoto_Gapdh_... 0             1.295479   \n",
       "mRNAlevel_400-cell2D-moderate-w1_HelaKyoto_Gapd... 0             1.332575   \n",
       "\n",
       "                                                         nucleus_dispersion  \n",
       "cell                                               gene                      \n",
       "mRNAlevel_100-cell2D-moderate-w1_HelaKyoto_Gapd... 0               1.328042  \n",
       "mRNAlevel_10-cell2D-weak-w1_HelaKyoto_Gapdh_259... 0               0.927827  \n",
       "mRNAlevel_200-cell2D-moderate-w1_HelaKyoto_Gapd... 0               1.343532  \n",
       "mRNAlevel_100-cell2D-strong-w1_HelaKyoto_Gapdh_... 0               1.325677  \n",
       "mRNAlevel_400-cell2D-moderate-w1_HelaKyoto_Gapd... 0               1.337972  "
      ]
     },
     "execution_count": 5,
     "metadata": {},
     "output_type": "execute_result"
    }
   ],
   "source": [
    "cell_by_feature = bento.tl.get_features(\n",
    "    data, bento.tl.PATTERN_MODEL_FEATURE_NAMES, min_count=0\n",
    ")\n",
    "cell_by_feature.head()"
   ]
  },
  {
   "cell_type": "markdown",
   "id": "672b18cf-d14d-4f96-9dd7-358d7bc4b24a",
   "metadata": {
    "papermill": {
     "duration": 0.023661,
     "end_time": "2021-10-29T05:25:44.431559",
     "exception": false,
     "start_time": "2021-10-29T05:25:44.407898",
     "status": "completed"
    },
    "tags": []
   },
   "source": [
    "## Prepare datasets"
   ]
  },
  {
   "cell_type": "code",
   "execution_count": 6,
   "id": "7b357694-e63d-4622-b49d-f728bd03aa53",
   "metadata": {
    "execution": {
     "iopub.execute_input": "2022-05-14T21:38:46.021970Z",
     "iopub.status.busy": "2022-05-14T21:38:46.021845Z",
     "iopub.status.idle": "2022-05-14T21:38:46.023867Z",
     "shell.execute_reply": "2022-05-14T21:38:46.023593Z",
     "shell.execute_reply.started": "2022-05-14T21:38:46.021956Z"
    },
    "papermill": {
     "duration": 0.027552,
     "end_time": "2021-10-29T05:25:44.483170",
     "exception": false,
     "start_time": "2021-10-29T05:25:44.455618",
     "status": "completed"
    },
    "tags": []
   },
   "outputs": [],
   "source": [
    "classes = bento._utils.PATTERN_NAMES"
   ]
  },
  {
   "cell_type": "markdown",
   "id": "f127518b-2eb4-40de-874f-2d60b07e3bf1",
   "metadata": {},
   "source": [
    "Split train/test features"
   ]
  },
  {
   "cell_type": "code",
   "execution_count": 7,
   "id": "38ad53ae-ec99-412f-ba30-174638444472",
   "metadata": {
    "execution": {
     "iopub.execute_input": "2022-05-14T21:38:46.024438Z",
     "iopub.status.busy": "2022-05-14T21:38:46.024321Z",
     "iopub.status.idle": "2022-05-14T21:38:46.170715Z",
     "shell.execute_reply": "2022-05-14T21:38:46.170418Z",
     "shell.execute_reply.started": "2022-05-14T21:38:46.024426Z"
    },
    "papermill": {
     "duration": 0.289696,
     "end_time": "2021-10-29T05:25:44.796241",
     "exception": false,
     "start_time": "2021-10-29T05:25:44.506545",
     "status": "completed"
    },
    "tags": []
   },
   "outputs": [],
   "source": [
    "X = cell_by_feature.to_numpy()\n",
    "\n",
    "le = LabelBinarizer().fit(classes)\n",
    "y = le.transform(data.to_df(\"pattern\").values.flatten())\n",
    "\n",
    "X_train, X_test, y_train, y_test = train_test_split(\n",
    "    X, y, train_size=0.8, random_state=22, stratify=y\n",
    ")"
   ]
  },
  {
   "cell_type": "markdown",
   "id": "0818c50b-3aec-486a-9dad-018b4ce0f14e",
   "metadata": {},
   "source": [
    "# Calibrate model"
   ]
  },
  {
   "cell_type": "code",
   "execution_count": 8,
   "id": "f3370327-d7af-4704-8fbd-30319fd54b24",
   "metadata": {
    "execution": {
     "iopub.execute_input": "2022-05-14T21:39:06.134535Z",
     "iopub.status.busy": "2022-05-14T21:39:06.134340Z",
     "iopub.status.idle": "2022-05-14T21:39:07.737362Z",
     "shell.execute_reply": "2022-05-14T21:39:07.736864Z",
     "shell.execute_reply.started": "2022-05-14T21:39:06.134519Z"
    },
    "tags": []
   },
   "outputs": [],
   "source": [
    "model = pickle.load(open(f\"../../models/ml_multilabel_20211102/rf_model.pkl\", \"rb\"))"
   ]
  },
  {
   "cell_type": "code",
   "execution_count": 26,
   "id": "6c4149c7-1064-4e74-b5d8-a6910c825ab8",
   "metadata": {
    "execution": {
     "iopub.execute_input": "2022-05-14T21:50:00.499909Z",
     "iopub.status.busy": "2022-05-14T21:50:00.499745Z",
     "iopub.status.idle": "2022-05-14T21:50:00.598167Z",
     "shell.execute_reply": "2022-05-14T21:50:00.597755Z",
     "shell.execute_reply.started": "2022-05-14T21:50:00.499893Z"
    },
    "tags": []
   },
   "outputs": [],
   "source": [
    "prob_pos_clf = model.predict_proba(X_test)"
   ]
  },
  {
   "cell_type": "code",
   "execution_count": 27,
   "id": "856ce811-0d85-43a9-ac56-4a5501c30f92",
   "metadata": {
    "execution": {
     "iopub.execute_input": "2022-05-14T21:50:00.939440Z",
     "iopub.status.busy": "2022-05-14T21:50:00.939301Z",
     "iopub.status.idle": "2022-05-14T21:50:02.293364Z",
     "shell.execute_reply": "2022-05-14T21:50:02.292939Z",
     "shell.execute_reply.started": "2022-05-14T21:50:00.939425Z"
    },
    "tags": []
   },
   "outputs": [
    {
     "data": {
      "text/plain": [
       "<seaborn.axisgrid.FacetGrid at 0x1554b5caf490>"
      ]
     },
     "execution_count": 27,
     "metadata": {},
     "output_type": "execute_result"
    },
    {
     "data": {
      "image/png": "[encoded data removed]",
      "text/plain": [
       "<Figure size 402.375x360 with 1 Axes>"
      ]
     },
     "metadata": {
      "needs_background": "light"
     },
     "output_type": "display_data"
    }
   ],
   "source": [
    "sns.displot(prob_pos_clf)"
   ]
  },
  {
   "cell_type": "markdown",
   "id": "bf7b4bff-8a25-4d1e-822d-dc2984ae8c24",
   "metadata": {},
   "source": [
    "With isotonic calibration"
   ]
  },
  {
   "cell_type": "code",
   "execution_count": 23,
   "id": "cf217846-9d7b-4560-ba0e-08f078f5f03d",
   "metadata": {
    "execution": {
     "iopub.execute_input": "2022-05-14T21:49:13.382052Z",
     "iopub.status.busy": "2022-05-14T21:49:13.381927Z",
     "iopub.status.idle": "2022-05-14T21:49:13.594311Z",
     "shell.execute_reply": "2022-05-14T21:49:13.593962Z",
     "shell.execute_reply.started": "2022-05-14T21:49:13.382036Z"
    },
    "tags": []
   },
   "outputs": [],
   "source": [
    "clf_isotonic = CalibratedClassifierCV(model, cv=\"prefit\", method=\"isotonic\")\n",
    "clf_isotonic.fit(X_test, y_test)\n",
    "prob_pos_isotonic = clf_isotonic.predict_proba(X_test)"
   ]
  },
  {
   "cell_type": "code",
   "execution_count": 19,
   "id": "a73ec535-0c91-40e4-b4bd-7fb010c2facc",
   "metadata": {
    "execution": {
     "iopub.execute_input": "2022-05-14T21:47:50.866235Z",
     "iopub.status.busy": "2022-05-14T21:47:50.866047Z",
     "iopub.status.idle": "2022-05-14T21:47:52.246600Z",
     "shell.execute_reply": "2022-05-14T21:47:52.246201Z",
     "shell.execute_reply.started": "2022-05-14T21:47:50.866219Z"
    },
    "tags": []
   },
   "outputs": [
    {
     "data": {
      "text/plain": [
       "<seaborn.axisgrid.FacetGrid at 0x1554b5ba7dc0>"
      ]
     },
     "execution_count": 19,
     "metadata": {},
     "output_type": "execute_result"
    },
    {
     "data": {
      "image/png": "[encoded data removed]",
      "text/plain": [
       "<Figure size 402.375x360 with 1 Axes>"
      ]
     },
     "metadata": {
      "needs_background": "light"
     },
     "output_type": "display_data"
    }
   ],
   "source": [
    "sns.displot(clf_isotonic.predict_proba(X_test))"
   ]
  },
  {
   "cell_type": "code",
   "execution_count": 30,
   "id": "9ef616ce-3aea-46d5-b43b-56ef1225f030",
   "metadata": {
    "execution": {
     "iopub.execute_input": "2022-05-14T21:51:19.149526Z",
     "iopub.status.busy": "2022-05-14T21:51:19.148844Z",
     "iopub.status.idle": "2022-05-14T21:51:19.156029Z",
     "shell.execute_reply": "2022-05-14T21:51:19.155612Z",
     "shell.execute_reply.started": "2022-05-14T21:51:19.149506Z"
    },
    "tags": []
   },
   "outputs": [
    {
     "name": "stdout",
     "output_type": "stream",
     "text": [
      "Brier score losses: (the smaller the better)\n",
      "No calibration: 0.245\n",
      "No calibration: 0.246\n",
      "No calibration: 0.246\n",
      "No calibration: 0.245\n",
      "No calibration: 0.245\n",
      "With isotonic calibration: 0.016\n",
      "With isotonic calibration: 0.066\n",
      "With isotonic calibration: 0.062\n",
      "With isotonic calibration: 0.009\n",
      "With isotonic calibration: 0.008\n"
     ]
    }
   ],
   "source": [
    "print(\"Brier score losses: (the smaller the better)\")\n",
    "\n",
    "for i in range(5):\n",
    "    clf_score = brier_score_loss(y_test[:, i], prob_pos_clf[:, i])\n",
    "    print(\"No calibration: %1.3f\" % clf_score)\n",
    "\n",
    "for i in range(5):\n",
    "    clf_isotonic_score = brier_score_loss(y_test[:, i], prob_pos_isotonic[:, i])\n",
    "    print(\"With isotonic calibration: %1.3f\" % clf_isotonic_score)"
   ]
  },
  {
   "cell_type": "code",
   "execution_count": 114,
   "id": "0ae82099-ef58-4cad-97fd-5125e25124ba",
   "metadata": {
    "execution": {
     "iopub.execute_input": "2022-05-14T23:39:21.690392Z",
     "iopub.status.busy": "2022-05-14T23:39:21.690213Z",
     "iopub.status.idle": "2022-05-14T23:39:22.735718Z",
     "shell.execute_reply": "2022-05-14T23:39:22.735235Z",
     "shell.execute_reply.started": "2022-05-14T23:39:21.690377Z"
    },
    "tags": []
   },
   "outputs": [],
   "source": [
    "pickle.dump(clf_isotonic, open(f\"../../models/rf_calib_20220514.pkl\", \"wb\"))"
   ]
  },
  {
   "cell_type": "code",
   "execution_count": null,
   "id": "0e334221-ebb5-4a27-bd95-b01f7b44b5ef",
   "metadata": {},
   "outputs": [],
   "source": []
  }
 ],
 "metadata": {
  "kernelspec": {
   "display_name": "Python [conda env:spatial]",
   "language": "python",
   "name": "conda-env-spatial-py"
  },
  "language_info": {
   "codemirror_mode": {
    "name": "ipython",
    "version": 3
   },
   "file_extension": ".py",
   "mimetype": "text/x-python",
   "name": "python",
   "nbconvert_exporter": "python",
   "pygments_lexer": "ipython3",
   "version": "3.8.11"
  }
 },
 "nbformat": 4,
 "nbformat_minor": 5
}

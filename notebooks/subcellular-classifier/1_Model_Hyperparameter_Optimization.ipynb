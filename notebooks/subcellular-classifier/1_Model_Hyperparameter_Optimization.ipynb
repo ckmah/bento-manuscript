{
 "cells": [
  {
   "cell_type": "code",
   "execution_count": 2,
   "id": "08c525a8",
   "metadata": {
    "execution": {
     "iopub.execute_input": "2021-11-02T18:20:45.633356Z",
     "iopub.status.busy": "2021-11-02T18:20:45.633002Z",
     "iopub.status.idle": "2021-11-02T18:20:45.634353Z",
     "shell.execute_reply": "2021-11-02T18:20:45.634624Z"
    },
    "papermill": {
     "duration": 0.020043,
     "end_time": "2021-11-02T18:20:45.634708",
     "exception": false,
     "start_time": "2021-11-02T18:20:45.614665",
     "status": "completed"
    },
    "tags": [
     "injected-parameters"
    ]
   },
   "outputs": [],
   "source": [
    "# Parameters\n",
    "DATE = 20211102\n",
    "N_TRIALS = 50\n",
    "NN_MAX_EPOCHS = 100\n",
    "CNN_MAX_EPOCHS = 200\n",
    "SCORING_METRIC = \"f1_macro\""
   ]
  },
  {
   "cell_type": "markdown",
   "id": "a8018dcf-a726-41a4-999b-3f12afc9012f",
   "metadata": {
    "papermill": {
     "duration": 0.015792,
     "end_time": "2021-11-02T18:20:45.667249",
     "exception": false,
     "start_time": "2021-11-02T18:20:45.651457",
     "status": "completed"
    },
    "tags": []
   },
   "source": [
    "# Multilabel Model Training"
   ]
  },
  {
   "cell_type": "code",
   "execution_count": 3,
   "id": "296cc85a-14fa-402a-bdfe-e6343d8e1094",
   "metadata": {
    "execution": {
     "iopub.execute_input": "2021-11-02T18:20:45.704239Z",
     "iopub.status.busy": "2021-11-02T18:20:45.703839Z",
     "iopub.status.idle": "2021-11-02T18:21:10.632212Z",
     "shell.execute_reply": "2021-11-02T18:21:10.632524Z"
    },
    "papermill": {
     "duration": 24.949462,
     "end_time": "2021-11-02T18:21:10.632654",
     "exception": false,
     "start_time": "2021-11-02T18:20:45.683192",
     "status": "completed"
    },
    "tags": []
   },
   "outputs": [],
   "source": [
    "import os\n",
    "import pickle\n",
    "\n",
    "import bento\n",
    "import matplotlib.pyplot as plt\n",
    "import numpy as np\n",
    "import optuna\n",
    "import pandas as pd\n",
    "import torch\n",
    "import torch.nn as nn\n",
    "import torch.nn.functional as F\n",
    "from optuna.integration import SkorchPruningCallback\n",
    "from sklearn.metrics import f1_score\n",
    "from sklearn.model_selection import cross_val_score, train_test_split\n",
    "from sklearn.multiclass import OneVsRestClassifier\n",
    "from sklearn.pipeline import Pipeline, make_pipeline\n",
    "from sklearn.preprocessing import LabelBinarizer, LabelEncoder, StandardScaler\n",
    "from sklearn.svm import SVC\n",
    "from skorch import NeuralNet, NeuralNetClassifier\n",
    "from skorch.callbacks import EarlyStopping, EpochScoring\n",
    "from xgboost import XGBRFClassifier"
   ]
  },
  {
   "cell_type": "code",
   "execution_count": 4,
   "id": "ff5301a4-9ee0-453e-80c7-3c2c0359a9d3",
   "metadata": {
    "execution": {
     "iopub.execute_input": "2021-11-02T18:21:10.671475Z",
     "iopub.status.busy": "2021-11-02T18:21:10.671123Z",
     "iopub.status.idle": "2021-11-02T18:21:10.673283Z",
     "shell.execute_reply": "2021-11-02T18:21:10.672989Z"
    },
    "papermill": {
     "duration": 0.023541,
     "end_time": "2021-11-02T18:21:10.673357",
     "exception": false,
     "start_time": "2021-11-02T18:21:10.649816",
     "status": "completed"
    },
    "tags": []
   },
   "outputs": [],
   "source": [
    "# Other general variables\n",
    "model_dir = f\"../../models/ml_multilabel_{DATE}\"\n",
    "\n",
    "# Make folder to store study and model\n",
    "if not os.path.isdir(model_dir):\n",
    "    os.makedirs(model_dir)"
   ]
  },
  {
   "cell_type": "markdown",
   "id": "a763f655",
   "metadata": {
    "papermill": {
     "duration": 0.015576,
     "end_time": "2021-11-02T18:21:10.705123",
     "exception": false,
     "start_time": "2021-11-02T18:21:10.689547",
     "status": "completed"
    },
    "tags": []
   },
   "source": [
    "## Cell x Feature Matrix"
   ]
  },
  {
   "cell_type": "code",
   "execution_count": 5,
   "id": "160a70a4-e438-4d4e-94de-b6e0f544028f",
   "metadata": {
    "execution": {
     "iopub.execute_input": "2021-11-02T18:21:10.758190Z",
     "iopub.status.busy": "2021-11-02T18:21:10.757829Z",
     "iopub.status.idle": "2021-11-02T18:21:23.393344Z",
     "shell.execute_reply": "2021-11-02T18:21:23.393632Z"
    },
    "papermill": {
     "duration": 12.671925,
     "end_time": "2021-11-02T18:21:23.393743",
     "exception": false,
     "start_time": "2021-11-02T18:21:10.721818",
     "status": "completed"
    },
    "tags": []
   },
   "outputs": [
    {
     "data": {
      "text/plain": [
       "(10000, 1)"
      ]
     },
     "execution_count": 5,
     "metadata": {},
     "output_type": "execute_result"
    }
   ],
   "source": [
    "data = bento.io.read_h5ad(\"../../data/locfish/locfish_eval_20211019.h5ad\")\n",
    "data.shape"
   ]
  },
  {
   "cell_type": "code",
   "execution_count": 6,
   "id": "c493d718",
   "metadata": {
    "execution": {
     "iopub.execute_input": "2021-11-02T18:21:23.438560Z",
     "iopub.status.busy": "2021-11-02T18:21:23.438192Z",
     "iopub.status.idle": "2021-11-02T18:21:23.441397Z",
     "shell.execute_reply": "2021-11-02T18:21:23.441114Z"
    },
    "papermill": {
     "duration": 0.029767,
     "end_time": "2021-11-02T18:21:23.441473",
     "exception": false,
     "start_time": "2021-11-02T18:21:23.411706",
     "status": "completed"
    },
    "tags": []
   },
   "outputs": [],
   "source": [
    "# List of features\n",
    "features = [\n",
    "    \"cell_inner_proximity\",\n",
    "    \"nucleus_inner_proximity\",\n",
    "    \"nucleus_outer_proximity\",\n",
    "    \"cell_inner_asymmetry\",\n",
    "    \"nucleus_inner_asymmetry\",\n",
    "    \"nucleus_outer_asymmetry\",\n",
    "    \"l_max\",\n",
    "    \"l_max_gradient\",\n",
    "    \"l_min_gradient\",\n",
    "    \"l_monotony\",\n",
    "    \"l_half_radius\",\n",
    "    \"point_dispersion\",\n",
    "    \"nucleus_dispersion\",\n",
    "]\n",
    "\n",
    "cell_by_feature = []\n",
    "for f in features:\n",
    "    cell_by_feature.append(data.to_df(f))\n",
    "cell_by_feature = (\n",
    "    pd.concat(cell_by_feature, axis=1).reset_index(drop=True).astype(float)\n",
    ")\n",
    "cell_by_feature.columns = features"
   ]
  },
  {
   "cell_type": "markdown",
   "id": "9898b654-a902-41cc-b2aa-59d8bea7e198",
   "metadata": {
    "papermill": {
     "duration": 0.016251,
     "end_time": "2021-11-02T18:21:23.473537",
     "exception": false,
     "start_time": "2021-11-02T18:21:23.457286",
     "status": "completed"
    },
    "tags": []
   },
   "source": [
    "## Prepare datasets"
   ]
  },
  {
   "cell_type": "code",
   "execution_count": 7,
   "id": "a29dbaa0-7d2e-4b64-9458-08f243a3daad",
   "metadata": {
    "execution": {
     "iopub.execute_input": "2021-11-02T18:21:23.509378Z",
     "iopub.status.busy": "2021-11-02T18:21:23.509019Z",
     "iopub.status.idle": "2021-11-02T18:21:23.510650Z",
     "shell.execute_reply": "2021-11-02T18:21:23.510364Z"
    },
    "papermill": {
     "duration": 0.020822,
     "end_time": "2021-11-02T18:21:23.510719",
     "exception": false,
     "start_time": "2021-11-02T18:21:23.489897",
     "status": "completed"
    },
    "tags": []
   },
   "outputs": [],
   "source": [
    "classes = [\"cell_edge\", \"cytoplasmic\", \"none\", \"nuclear\", \"nuclear_edge\"]"
   ]
  },
  {
   "cell_type": "markdown",
   "id": "cc0f0b2d-438b-47ed-97cf-a3d114480d98",
   "metadata": {
    "papermill": {
     "duration": 0.015812,
     "end_time": "2021-11-02T18:21:23.542773",
     "exception": false,
     "start_time": "2021-11-02T18:21:23.526961",
     "status": "completed"
    },
    "tags": []
   },
   "source": [
    "Split train/test features"
   ]
  },
  {
   "cell_type": "code",
   "execution_count": 8,
   "id": "a35da7aa-b7e8-4835-be22-f58fef7b6fb2",
   "metadata": {
    "execution": {
     "iopub.execute_input": "2021-11-02T18:21:23.578521Z",
     "iopub.status.busy": "2021-11-02T18:21:23.578166Z",
     "iopub.status.idle": "2021-11-02T18:21:23.694822Z",
     "shell.execute_reply": "2021-11-02T18:21:23.695133Z"
    },
    "papermill": {
     "duration": 0.136049,
     "end_time": "2021-11-02T18:21:23.695221",
     "exception": false,
     "start_time": "2021-11-02T18:21:23.559172",
     "status": "completed"
    },
    "tags": []
   },
   "outputs": [],
   "source": [
    "X = torch.FloatTensor(cell_by_feature.values)\n",
    "\n",
    "le = LabelBinarizer().fit(classes)\n",
    "y = le.transform(data.to_df(\"pattern\").values.flatten())\n",
    "y = torch.LongTensor(y)\n",
    "\n",
    "X_train, X_test, y_train, y_test = train_test_split(\n",
    "    X, y, train_size=0.8, random_state=22, stratify=y\n",
    ")"
   ]
  },
  {
   "cell_type": "markdown",
   "id": "60cf2298-bcfd-4b2c-a329-5c0de88efb92",
   "metadata": {
    "papermill": {
     "duration": 0.016047,
     "end_time": "2021-11-02T18:21:23.727654",
     "exception": false,
     "start_time": "2021-11-02T18:21:23.711607",
     "status": "completed"
    },
    "tags": []
   },
   "source": [
    "Split train/test image features"
   ]
  },
  {
   "cell_type": "raw",
   "id": "f5fc1731-969b-44ae-a4ca-7314e28ecdf5",
   "metadata": {
    "execution": {
     "iopub.execute_input": "2021-11-01T23:44:28.705352Z",
     "iopub.status.busy": "2021-11-01T23:44:28.704927Z",
     "iopub.status.idle": "2021-11-01T23:52:20.944737Z",
     "shell.execute_reply": "2021-11-01T23:52:20.944352Z",
     "shell.execute_reply.started": "2021-11-01T23:44:28.705333Z"
    },
    "papermill": {
     "duration": 0.015938,
     "end_time": "2021-11-02T18:21:23.759347",
     "exception": false,
     "start_time": "2021-11-02T18:21:23.743409",
     "status": "completed"
    },
    "tags": []
   },
   "source": [
    "bento.tl.rasterize_cells(data, 'data/locfish/eval_img/', label_layer='pattern')"
   ]
  },
  {
   "cell_type": "code",
   "execution_count": 9,
   "id": "b8e4d732-0fa3-4662-ad12-a471c4e75270",
   "metadata": {
    "execution": {
     "iopub.execute_input": "2021-11-02T18:21:23.795991Z",
     "iopub.status.busy": "2021-11-02T18:21:23.795625Z",
     "iopub.status.idle": "2021-11-02T18:22:00.496638Z",
     "shell.execute_reply": "2021-11-02T18:22:00.496977Z"
    },
    "papermill": {
     "duration": 36.721699,
     "end_time": "2021-11-02T18:22:00.497111",
     "exception": false,
     "start_time": "2021-11-02T18:21:23.775412",
     "status": "completed"
    },
    "tags": []
   },
   "outputs": [],
   "source": [
    "from torchvision import datasets, transforms\n",
    "\n",
    "dataset = datasets.ImageFolder(\n",
    "    \"data/locfish/eval_img\",\n",
    "    transform=transforms.Compose([transforms.Grayscale(), transforms.ToTensor()]),\n",
    ")\n",
    "X_img = np.array([x[0].numpy() for x in dataset])\n",
    "y_img = np.array(dataset.targets)\n",
    "\n",
    "le = LabelBinarizer().fit(dataset.targets)\n",
    "y_img = le.transform(y_img)\n",
    "\n",
    "X_img_train, X_img_test, y_img_train, y_img_test = train_test_split(\n",
    "    X_img, y_img, train_size=0.8, random_state=22, stratify=y_img\n",
    ")"
   ]
  },
  {
   "cell_type": "markdown",
   "id": "8b0a8855-b530-444b-b553-74fa55de32a0",
   "metadata": {
    "papermill": {
     "duration": 0.016359,
     "end_time": "2021-11-02T18:22:00.530913",
     "exception": false,
     "start_time": "2021-11-02T18:22:00.514554",
     "status": "completed"
    },
    "tags": []
   },
   "source": [
    "# Prepare nn architectures"
   ]
  },
  {
   "cell_type": "code",
   "execution_count": 10,
   "id": "7c0fadcc-aaf3-4f60-8b7c-9b02d894c9df",
   "metadata": {
    "execution": {
     "iopub.execute_input": "2021-11-02T18:22:00.569271Z",
     "iopub.status.busy": "2021-11-02T18:22:00.568903Z",
     "iopub.status.idle": "2021-11-02T18:22:00.570285Z",
     "shell.execute_reply": "2021-11-02T18:22:00.570565Z"
    },
    "papermill": {
     "duration": 0.023203,
     "end_time": "2021-11-02T18:22:00.570654",
     "exception": false,
     "start_time": "2021-11-02T18:22:00.547451",
     "status": "completed"
    },
    "tags": []
   },
   "outputs": [],
   "source": [
    "class FCModule(nn.Module):\n",
    "    def __init__(\n",
    "        self,\n",
    "        l0_size,\n",
    "        l1_size,\n",
    "    ):\n",
    "        super().__init__()\n",
    "        fc_layers = []\n",
    "        in_features = 13\n",
    "\n",
    "        # Hidden layers\n",
    "        for layer_size in [l0_size, l1_size]:\n",
    "            fc_layers.extend(\n",
    "                [\n",
    "                    nn.Linear(in_features, layer_size),\n",
    "                    nn.BatchNorm1d(layer_size),\n",
    "                    nn.Dropout(0.2),\n",
    "                    nn.ReLU(),\n",
    "                ]\n",
    "            )\n",
    "\n",
    "            in_features = layer_size\n",
    "\n",
    "        # Output layer\n",
    "        fc_layers.append(nn.Linear(in_features, 2))\n",
    "        self.model = nn.Sequential(*fc_layers)\n",
    "\n",
    "    def forward(self, x):\n",
    "        x = self.model(x.float())\n",
    "        x = F.softmax(x, dim=-1)\n",
    "        return x"
   ]
  },
  {
   "cell_type": "code",
   "execution_count": 11,
   "id": "4939fac5-32ad-468d-9a7b-6b21b92d2f6e",
   "metadata": {
    "execution": {
     "iopub.execute_input": "2021-11-02T18:22:00.611369Z",
     "iopub.status.busy": "2021-11-02T18:22:00.611006Z",
     "iopub.status.idle": "2021-11-02T18:22:00.612352Z",
     "shell.execute_reply": "2021-11-02T18:22:00.612628Z"
    },
    "papermill": {
     "duration": 0.025408,
     "end_time": "2021-11-02T18:22:00.612713",
     "exception": false,
     "start_time": "2021-11-02T18:22:00.587305",
     "status": "completed"
    },
    "tags": []
   },
   "outputs": [],
   "source": [
    "def get_conv_dim(in_size, padding, dilation, kernel_size, stride):\n",
    "    outsize = 1 + (in_size + 2 * padding - dilation * (kernel_size - 1) - 1) / stride\n",
    "    return int(outsize)\n",
    "\n",
    "\n",
    "class SpotsBinaryModule(nn.Module):\n",
    "    def __init__(\n",
    "        self,\n",
    "        n_conv_layers,\n",
    "        in_dim,\n",
    "        out_channels,\n",
    "        kernel_size,\n",
    "        f_units_l0,\n",
    "        f_units_l1,\n",
    "    ) -> None:\n",
    "        super().__init__()\n",
    "        conv_layers = []\n",
    "\n",
    "        in_channels = 1\n",
    "        in_dim = in_dim\n",
    "\n",
    "        # Stack (convolutions + batchnorm + activation) + maxpool\n",
    "        for i in range(n_conv_layers):\n",
    "            conv_layers.extend(\n",
    "                [\n",
    "                    nn.Conv2d(\n",
    "                        in_channels=in_channels,\n",
    "                        out_channels=out_channels,\n",
    "                        kernel_size=kernel_size,\n",
    "                    ),\n",
    "                    nn.BatchNorm2d(out_channels),\n",
    "                    nn.Dropout(0.2),\n",
    "                    nn.ReLU(),\n",
    "                ]\n",
    "            )\n",
    "\n",
    "            # Compute convolved output dimensions\n",
    "            in_dim = get_conv_dim(\n",
    "                in_dim, padding=0, dilation=1, kernel_size=kernel_size, stride=1\n",
    "            )\n",
    "\n",
    "            in_channels = out_channels\n",
    "            out_channels *= 2\n",
    "\n",
    "        out_channels = int(out_channels / 2)\n",
    "\n",
    "        conv_layers.append(nn.MaxPool2d(2, 2))\n",
    "        in_dim = int(in_dim / 2)\n",
    "\n",
    "        # We optimize the number of layers, hidden units and dropout ratio in each layer.\n",
    "        fc_layers = [nn.Flatten()]\n",
    "\n",
    "        # Compute flatten size\n",
    "        in_features = out_channels * in_dim * in_dim\n",
    "        for i in [f_units_l0, f_units_l1]:\n",
    "            out_features = i\n",
    "            fc_layers.extend(\n",
    "                [\n",
    "                    nn.Linear(in_features, out_features),\n",
    "                    nn.BatchNorm1d(out_features),\n",
    "                    nn.Dropout(0.2),\n",
    "                    nn.ReLU(),\n",
    "                ]\n",
    "            )\n",
    "\n",
    "            in_features = out_features\n",
    "\n",
    "        fc_layers.append(nn.Linear(in_features, 2))\n",
    "        self.model = torch.nn.Sequential(*[*conv_layers, *fc_layers])\n",
    "\n",
    "    def forward(self, x):\n",
    "        x = self.model(x)\n",
    "        x = F.softmax(x, dim=-1)\n",
    "        return x"
   ]
  },
  {
   "cell_type": "markdown",
   "id": "87f89aec-5926-4798-bdf8-86356fcf0173",
   "metadata": {
    "papermill": {
     "duration": 0.016286,
     "end_time": "2021-11-02T18:22:00.646588",
     "exception": false,
     "start_time": "2021-11-02T18:22:00.630302",
     "status": "completed"
    },
    "tags": []
   },
   "source": [
    "# Optimize model hyperparameters"
   ]
  },
  {
   "cell_type": "markdown",
   "id": "7c41eaa5-e88a-46dc-b1db-992273b21bf4",
   "metadata": {
    "execution": {
     "iopub.execute_input": "2021-10-12T20:14:40.617771Z",
     "iopub.status.busy": "2021-10-12T20:14:40.617545Z",
     "iopub.status.idle": "2021-10-12T20:19:33.469804Z",
     "shell.execute_reply": "2021-10-12T20:19:33.469509Z",
     "shell.execute_reply.started": "2021-10-12T20:14:40.617749Z"
    },
    "jupyter": {
     "outputs_hidden": true
    },
    "papermill": {
     "duration": 0.0166,
     "end_time": "2021-11-02T18:22:00.679733",
     "exception": false,
     "start_time": "2021-11-02T18:22:00.663133",
     "status": "completed"
    },
    "tags": []
   },
   "source": [
    "## Gradient-boosted Random Forest Classifier"
   ]
  },
  {
   "cell_type": "code",
   "execution_count": 12,
   "id": "8c8aa473-0095-4dea-bfdb-dacb969ed527",
   "metadata": {
    "execution": {
     "iopub.execute_input": "2021-11-02T18:22:00.721002Z",
     "iopub.status.busy": "2021-11-02T18:22:00.720611Z",
     "iopub.status.idle": "2021-11-02T18:50:30.408059Z",
     "shell.execute_reply": "2021-11-02T18:50:30.408336Z"
    },
    "papermill": {
     "duration": 1709.711984,
     "end_time": "2021-11-02T18:50:30.408450",
     "exception": false,
     "start_time": "2021-11-02T18:22:00.696466",
     "status": "completed"
    },
    "tags": []
   },
   "outputs": [
    {
     "name": "stderr",
     "output_type": "stream",
     "text": [
      "\u001b[32m[I 2021-11-02 11:22:01,223]\u001b[0m A new study created in RDB with name: xgbrf\u001b[0m\n"
     ]
    },
    {
     "data": {
      "application/vnd.jupyter.widget-view+json": {
       "model_id": "842bfb5062b5496ca2c3411cec0264f2",
       "version_major": 2,
       "version_minor": 0
      },
      "text/plain": [
       "  0%|          | 0/50 [00:00<?, ?it/s]"
      ]
     },
     "metadata": {},
     "output_type": "display_data"
    },
    {
     "name": "stdout",
     "output_type": "stream",
     "text": [
      "\u001b[32m[I 2021-11-02 11:22:11,729]\u001b[0m Trial 0 finished with value: 0.8242056679880935 and parameters: {'n_estimators': 190, 'max_depth': 8, 'learning_rate': 0.28621828898249235, 'colsample_bytree': 0.30500507794771564, 'reg_lambda': 6.785891650876217e-05}. Best is trial 0 with value: 0.8242056679880935.\u001b[0m\n",
      "\u001b[32m[I 2021-11-02 11:22:46,377]\u001b[0m Trial 1 finished with value: 0.8589165005541043 and parameters: {'n_estimators': 420, 'max_depth': 14, 'learning_rate': 0.042374270114706694, 'colsample_bytree': 0.5235112801067936, 'reg_lambda': 0.0006913686764799664}. Best is trial 1 with value: 0.8589165005541043.\u001b[0m\n",
      "\u001b[32m[I 2021-11-02 11:23:11,644]\u001b[0m Trial 2 finished with value: 0.8613892101064895 and parameters: {'n_estimators': 270, 'max_depth': 10, 'learning_rate': 0.4471771956313932, 'colsample_bytree': 0.6962156199348712, 'reg_lambda': 0.058555999648835386}. Best is trial 2 with value: 0.8613892101064895.\u001b[0m\n",
      "\u001b[32m[I 2021-11-02 11:23:24,010]\u001b[0m Trial 3 finished with value: 0.8390890840757422 and parameters: {'n_estimators': 370, 'max_depth': 5, 'learning_rate': 0.00017762085288595047, 'colsample_bytree': 0.4866547651761939, 'reg_lambda': 1.081082483885867e-06}. Best is trial 2 with value: 0.8613892101064895.\u001b[0m\n",
      "\u001b[32m[I 2021-11-02 11:24:02,684]\u001b[0m Trial 4 finished with value: 0.8265892851462351 and parameters: {'n_estimators': 420, 'max_depth': 17, 'learning_rate': 0.6791949610657312, 'colsample_bytree': 0.30126631696652995, 'reg_lambda': 9.12122883493557e-07}. Best is trial 2 with value: 0.8613892101064895.\u001b[0m\n",
      "\u001b[32m[I 2021-11-02 11:24:34,147]\u001b[0m Trial 5 finished with value: 0.8480055654372868 and parameters: {'n_estimators': 350, 'max_depth': 17, 'learning_rate': 0.24113356022194252, 'colsample_bytree': 0.3244264058426979, 'reg_lambda': 2.8145054199000276e-07}. Best is trial 2 with value: 0.8613892101064895.\u001b[0m\n",
      "\u001b[32m[I 2021-11-02 11:24:43,599]\u001b[0m Trial 6 finished with value: 0.8250227574031891 and parameters: {'n_estimators': 100, 'max_depth': 16, 'learning_rate': 0.0011636448862128949, 'colsample_bytree': 0.29659497389235623, 'reg_lambda': 6.959489307877675e-06}. Best is trial 2 with value: 0.8613892101064895.\u001b[0m\n",
      "\u001b[32m[I 2021-11-02 11:25:24,855]\u001b[0m Trial 7 finished with value: 0.8615260856250877 and parameters: {'n_estimators': 360, 'max_depth': 16, 'learning_rate': 0.04208458051282609, 'colsample_bytree': 0.780516282675201, 'reg_lambda': 0.021566379081919933}. Best is trial 7 with value: 0.8615260856250877.\u001b[0m\n",
      "\u001b[32m[I 2021-11-02 11:25:42,360]\u001b[0m Trial 8 finished with value: 0.85352920423777 and parameters: {'n_estimators': 310, 'max_depth': 8, 'learning_rate': 0.21778727547636192, 'colsample_bytree': 0.44949065588195464, 'reg_lambda': 0.00028833459727463633}. Best is trial 7 with value: 0.8615260856250877.\u001b[0m\n",
      "\u001b[32m[I 2021-11-02 11:26:05,830]\u001b[0m Trial 9 finished with value: 0.8594809451477237 and parameters: {'n_estimators': 210, 'max_depth': 17, 'learning_rate': 0.00012081716146506919, 'colsample_bytree': 0.5391172975738903, 'reg_lambda': 0.0008877117509772872}. Best is trial 7 with value: 0.8615260856250877.\u001b[0m\n",
      "\u001b[32m[I 2021-11-02 11:26:08,780]\u001b[0m Trial 10 finished with value: 0.8614849680649708 and parameters: {'n_estimators': 20, 'max_depth': 20, 'learning_rate': 0.009454295578733783, 'colsample_bytree': 0.78600121065006, 'reg_lambda': 0.07556754540502693}. Best is trial 7 with value: 0.8615260856250877.\u001b[0m\n",
      "\u001b[32m[I 2021-11-02 11:26:12,755]\u001b[0m Trial 11 finished with value: 0.8608659715239906 and parameters: {'n_estimators': 30, 'max_depth': 20, 'learning_rate': 0.009546218167108432, 'colsample_bytree': 0.789580865280569, 'reg_lambda': 0.06002000405861315}. Best is trial 7 with value: 0.8615260856250877.\u001b[0m\n",
      "\u001b[32m[I 2021-11-02 11:27:06,786]\u001b[0m Trial 12 finished with value: 0.8627784636173459 and parameters: {'n_estimators': 500, 'max_depth': 13, 'learning_rate': 0.011292660161355985, 'colsample_bytree': 0.6997815924321844, 'reg_lambda': 0.007833798071114435}. Best is trial 12 with value: 0.8627784636173459.\u001b[0m\n",
      "\u001b[32m[I 2021-11-02 11:27:57,715]\u001b[0m Trial 13 finished with value: 0.8620715041920202 and parameters: {'n_estimators': 480, 'max_depth': 13, 'learning_rate': 0.03199424602036583, 'colsample_bytree': 0.6578583203346473, 'reg_lambda': 0.006009934116027303}. Best is trial 12 with value: 0.8627784636173459.\u001b[0m\n",
      "\u001b[32m[I 2021-11-02 11:28:47,042]\u001b[0m Trial 14 finished with value: 0.8614933024291451 and parameters: {'n_estimators': 500, 'max_depth': 11, 'learning_rate': 0.0024317702177191975, 'colsample_bytree': 0.6355514298386178, 'reg_lambda': 0.004894031765194873}. Best is trial 12 with value: 0.8627784636173459.\u001b[0m\n",
      "\u001b[32m[I 2021-11-02 11:29:40,317]\u001b[0m Trial 15 finished with value: 0.8620089530116054 and parameters: {'n_estimators': 500, 'max_depth': 13, 'learning_rate': 0.04038865115697188, 'colsample_bytree': 0.6373090821254939, 'reg_lambda': 0.00485154078808183}. Best is trial 12 with value: 0.8627784636173459.\u001b[0m\n",
      "\u001b[32m[I 2021-11-02 11:30:27,318]\u001b[0m Trial 16 finished with value: 0.8614368093393552 and parameters: {'n_estimators': 440, 'max_depth': 13, 'learning_rate': 0.0030294629306173034, 'colsample_bytree': 0.6825252568734317, 'reg_lambda': 0.004220854168136561}. Best is trial 12 with value: 0.8627784636173459.\u001b[0m\n",
      "\u001b[32m[I 2021-11-02 11:30:48,663]\u001b[0m Trial 17 finished with value: 0.8407635996750398 and parameters: {'n_estimators': 460, 'max_depth': 5, 'learning_rate': 0.023445876116224347, 'colsample_bytree': 0.5900022768798221, 'reg_lambda': 3.796680511669416e-05}. Best is trial 12 with value: 0.8627784636173459.\u001b[0m\n",
      "\u001b[32m[I 2021-11-02 11:30:58,414]\u001b[0m Trial 18 finished with value: 0.6544214312308236 and parameters: {'n_estimators': 500, 'max_depth': 2, 'learning_rate': 0.000520073909474907, 'colsample_bytree': 0.7091960041385885, 'reg_lambda': 0.009978635340019791}. Best is trial 12 with value: 0.8627784636173459.\u001b[0m\n",
      "\u001b[32m[I 2021-11-02 11:31:23,062]\u001b[0m Trial 19 finished with value: 0.8552624905226164 and parameters: {'n_estimators': 390, 'max_depth': 9, 'learning_rate': 0.09769010049459328, 'colsample_bytree': 0.43349555478178675, 'reg_lambda': 0.0013376813615918613}. Best is trial 12 with value: 0.8627784636173459.\u001b[0m\n",
      "\u001b[32m[I 2021-11-02 11:31:55,015]\u001b[0m Trial 20 finished with value: 0.8600115756816324 and parameters: {'n_estimators': 300, 'max_depth': 14, 'learning_rate': 0.006697455408836134, 'colsample_bytree': 0.5795050901668792, 'reg_lambda': 1.4730411808746159e-05}. Best is trial 12 with value: 0.8627784636173459.\u001b[0m\n",
      "\u001b[32m[I 2021-11-02 11:32:45,188]\u001b[0m Trial 21 finished with value: 0.8618620165231571 and parameters: {'n_estimators': 470, 'max_depth': 13, 'learning_rate': 0.02377465219175485, 'colsample_bytree': 0.629711480624994, 'reg_lambda': 0.0026614569158083475}. Best is trial 12 with value: 0.8627784636173459.\u001b[0m\n",
      "\u001b[32m[I 2021-11-02 11:33:37,366]\u001b[0m Trial 22 finished with value: 0.8627741089002848 and parameters: {'n_estimators': 500, 'max_depth': 12, 'learning_rate': 0.12435156502937428, 'colsample_bytree': 0.7339921273083595, 'reg_lambda': 0.012124068965191087}. Best is trial 12 with value: 0.8627784636173459.\u001b[0m\n",
      "\u001b[32m[I 2021-11-02 11:34:18,662]\u001b[0m Trial 23 finished with value: 0.8618900855457523 and parameters: {'n_estimators': 410, 'max_depth': 11, 'learning_rate': 0.1192306794772386, 'colsample_bytree': 0.7263072312660152, 'reg_lambda': 0.01710573232953721}. Best is trial 12 with value: 0.8627784636173459.\u001b[0m\n",
      "\u001b[32m[I 2021-11-02 11:35:10,756]\u001b[0m Trial 24 finished with value: 0.8624575280253158 and parameters: {'n_estimators': 460, 'max_depth': 15, 'learning_rate': 0.08715523839456683, 'colsample_bytree': 0.7302007783757798, 'reg_lambda': 0.00022539864318427082}. Best is trial 12 with value: 0.8627784636173459.\u001b[0m\n",
      "\u001b[32m[I 2021-11-02 11:36:01,742]\u001b[0m Trial 25 finished with value: 0.8625567294995887 and parameters: {'n_estimators': 450, 'max_depth': 15, 'learning_rate': 0.11461550902350454, 'colsample_bytree': 0.734748309824565, 'reg_lambda': 0.00021579446693564187}. Best is trial 12 with value: 0.8627784636173459.\u001b[0m\n",
      "\u001b[32m[I 2021-11-02 11:36:53,285]\u001b[0m Trial 26 finished with value: 0.8619114147247773 and parameters: {'n_estimators': 440, 'max_depth': 19, 'learning_rate': 0.7629263795971056, 'colsample_bytree': 0.7456305937445935, 'reg_lambda': 0.00025388679761442187}. Best is trial 12 with value: 0.8627784636173459.\u001b[0m\n",
      "\u001b[32m[I 2021-11-02 11:37:07,232]\u001b[0m Trial 27 finished with value: 0.8609124340088061 and parameters: {'n_estimators': 140, 'max_depth': 12, 'learning_rate': 0.13231591374878204, 'colsample_bytree': 0.5887457775218222, 'reg_lambda': 0.02815103290504314}. Best is trial 12 with value: 0.8627784636173459.\u001b[0m\n",
      "\u001b[32m[I 2021-11-02 11:37:36,621]\u001b[0m Trial 28 finished with value: 0.8469966518715402 and parameters: {'n_estimators': 340, 'max_depth': 15, 'learning_rate': 0.015854862408744137, 'colsample_bytree': 0.3801810014680662, 'reg_lambda': 0.001781585743080519}. Best is trial 12 with value: 0.8627784636173459.\u001b[0m\n",
      "\u001b[32m[I 2021-11-02 11:38:04,533]\u001b[0m Trial 29 finished with value: 0.8569760681281673 and parameters: {'n_estimators': 390, 'max_depth': 7, 'learning_rate': 0.004610691214569896, 'colsample_bytree': 0.7526103063307075, 'reg_lambda': 4.2890942583303264e-05}. Best is trial 12 with value: 0.8627784636173459.\u001b[0m\n",
      "\u001b[32m[I 2021-11-02 11:38:18,275]\u001b[0m Trial 30 finished with value: 0.7399761211005415 and parameters: {'n_estimators': 250, 'max_depth': 9, 'learning_rate': 0.06663884575507725, 'colsample_bytree': 0.20191866612092518, 'reg_lambda': 8.455206148343156e-05}. Best is trial 12 with value: 0.8627784636173459.\u001b[0m\n",
      "\u001b[32m[I 2021-11-02 11:39:09,678]\u001b[0m Trial 31 finished with value: 0.8618680239674061 and parameters: {'n_estimators': 460, 'max_depth': 15, 'learning_rate': 0.3340556846109136, 'colsample_bytree': 0.6838983930481868, 'reg_lambda': 0.0002561670130830369}. Best is trial 12 with value: 0.8627784636173459.\u001b[0m\n",
      "\u001b[32m[I 2021-11-02 11:39:59,451]\u001b[0m Trial 32 finished with value: 0.8627317240111985 and parameters: {'n_estimators': 440, 'max_depth': 15, 'learning_rate': 0.06413890412795402, 'colsample_bytree': 0.7317353698696485, 'reg_lambda': 0.0003052461500144673}. Best is trial 12 with value: 0.8627784636173459.\u001b[0m\n",
      "\u001b[32m[I 2021-11-02 11:40:47,845]\u001b[0m Trial 33 finished with value: 0.8617906228593483 and parameters: {'n_estimators': 420, 'max_depth': 18, 'learning_rate': 0.15667329051956036, 'colsample_bytree': 0.6703073689874687, 'reg_lambda': 0.0005063966493209153}. Best is trial 12 with value: 0.8627784636173459.\u001b[0m\n",
      "\u001b[32m[I 2021-11-02 11:41:32,177]\u001b[0m Trial 34 finished with value: 0.8622066875176796 and parameters: {'n_estimators': 440, 'max_depth': 11, 'learning_rate': 0.059367079096436105, 'colsample_bytree': 0.7462682736386034, 'reg_lambda': 9.930147276147752e-06}. Best is trial 12 with value: 0.8627784636173459.\u001b[0m\n",
      "\u001b[32m[I 2021-11-02 11:42:16,902]\u001b[0m Trial 35 finished with value: 0.8622422323404496 and parameters: {'n_estimators': 400, 'max_depth': 14, 'learning_rate': 0.493790208403084, 'colsample_bytree': 0.7047579866579343, 'reg_lambda': 0.0006476981947262346}. Best is trial 12 with value: 0.8627784636173459.\u001b[0m\n",
      "\u001b[32m[I 2021-11-02 11:43:08,400]\u001b[0m Trial 36 finished with value: 0.8624905046475164 and parameters: {'n_estimators': 490, 'max_depth': 12, 'learning_rate': 0.01343764152532273, 'colsample_bytree': 0.7637101182694842, 'reg_lambda': 3.4027094295117297e-06}. Best is trial 12 with value: 0.8627784636173459.\u001b[0m\n",
      "\u001b[32m[I 2021-11-02 11:43:59,616]\u001b[0m Trial 37 finished with value: 0.8625158932093722 and parameters: {'n_estimators': 440, 'max_depth': 16, 'learning_rate': 0.20246977138214806, 'colsample_bytree': 0.7995376867662389, 'reg_lambda': 0.00012453759932825947}. Best is trial 12 with value: 0.8627784636173459.\u001b[0m\n",
      "\u001b[32m[I 2021-11-02 11:44:30,173]\u001b[0m Trial 38 finished with value: 0.8623018088817384 and parameters: {'n_estimators': 320, 'max_depth': 10, 'learning_rate': 0.37924433265594015, 'colsample_bytree': 0.7125859724058177, 'reg_lambda': 0.010951375548541552}. Best is trial 12 with value: 0.8627784636173459.\u001b[0m\n",
      "\u001b[32m[I 2021-11-02 11:45:03,506]\u001b[0m Trial 39 finished with value: 0.8593981201302137 and parameters: {'n_estimators': 380, 'max_depth': 18, 'learning_rate': 0.9691865927461402, 'colsample_bytree': 0.5376933116931194, 'reg_lambda': 3.204946938379557e-05}. Best is trial 12 with value: 0.8627784636173459.\u001b[0m\n",
      "\u001b[32m[I 2021-11-02 11:45:35,568]\u001b[0m Trial 40 finished with value: 0.858865897856613 and parameters: {'n_estimators': 420, 'max_depth': 12, 'learning_rate': 0.06134479094734682, 'colsample_bytree': 0.4885144258683376, 'reg_lambda': 1.457750192615848e-07}. Best is trial 12 with value: 0.8627784636173459.\u001b[0m\n",
      "\u001b[32m[I 2021-11-02 11:46:26,684]\u001b[0m Trial 41 finished with value: 0.8625158932093722 and parameters: {'n_estimators': 440, 'max_depth': 16, 'learning_rate': 0.19937064088108397, 'colsample_bytree': 0.7957092993483907, 'reg_lambda': 0.00014729746139670842}. Best is trial 12 with value: 0.8627784636173459.\u001b[0m\n",
      "\u001b[32m[I 2021-11-02 11:47:17,647]\u001b[0m Trial 42 finished with value: 0.8621912346100286 and parameters: {'n_estimators': 460, 'max_depth': 15, 'learning_rate': 0.25770686408589305, 'colsample_bytree': 0.767356916665899, 'reg_lambda': 0.027846819847001138}. Best is trial 12 with value: 0.8627784636173459.\u001b[0m\n",
      "\u001b[32m[I 2021-11-02 11:48:00,031]\u001b[0m Trial 43 finished with value: 0.861857080270221 and parameters: {'n_estimators': 360, 'max_depth': 17, 'learning_rate': 0.5597509615670955, 'colsample_bytree': 0.7993467342059865, 'reg_lambda': 0.00014816007775881774}. Best is trial 12 with value: 0.8627784636173459.\u001b[0m\n",
      "\u001b[32m[I 2021-11-02 11:48:30,397]\u001b[0m Trial 44 finished with value: 0.8625371609425858 and parameters: {'n_estimators': 270, 'max_depth': 14, 'learning_rate': 0.1543837393467328, 'colsample_bytree': 0.732563695022667, 'reg_lambda': 0.0010882853681800468}. Best is trial 12 with value: 0.8627784636173459.\u001b[0m\n",
      "\u001b[32m[I 2021-11-02 11:48:50,531]\u001b[0m Trial 45 finished with value: 0.8605128867812607 and parameters: {'n_estimators': 200, 'max_depth': 12, 'learning_rate': 0.023045794159234103, 'colsample_bytree': 0.612111135505721, 'reg_lambda': 0.0013941039984176552}. Best is trial 12 with value: 0.8627784636173459.\u001b[0m\n",
      "\u001b[32m[I 2021-11-02 11:49:18,297]\u001b[0m Trial 46 finished with value: 0.8625816472771665 and parameters: {'n_estimators': 250, 'max_depth': 14, 'learning_rate': 0.08109113578619956, 'colsample_bytree': 0.6548682049554563, 'reg_lambda': 0.0005188428601310949}. Best is trial 12 with value: 0.8627784636173459.\u001b[0m\n",
      "\u001b[32m[I 2021-11-02 11:49:43,759]\u001b[0m Trial 47 finished with value: 0.8613134268901581 and parameters: {'n_estimators': 230, 'max_depth': 14, 'learning_rate': 0.0447001083210287, 'colsample_bytree': 0.6656035044044842, 'reg_lambda': 0.0029303431917102572}. Best is trial 12 with value: 0.8627784636173459.\u001b[0m\n",
      "\u001b[32m[I 2021-11-02 11:50:04,850]\u001b[0m Trial 48 finished with value: 0.8617887053633787 and parameters: {'n_estimators': 180, 'max_depth': 18, 'learning_rate': 0.07909420948064408, 'colsample_bytree': 0.6910081536732057, 'reg_lambda': 0.000518622528821816}. Best is trial 12 with value: 0.8627784636173459.\u001b[0m\n",
      "\u001b[32m[I 2021-11-02 11:50:30,401]\u001b[0m Trial 49 finished with value: 0.861505822981212 and parameters: {'n_estimators': 270, 'max_depth': 10, 'learning_rate': 0.0011877646330316152, 'colsample_bytree': 0.654518109912984, 'reg_lambda': 6.551290971913893e-05}. Best is trial 12 with value: 0.8627784636173459.\u001b[0m\n"
     ]
    }
   ],
   "source": [
    "def objective(trial):\n",
    "\n",
    "    clf = OneVsRestClassifier(\n",
    "        make_pipeline(\n",
    "            StandardScaler(),\n",
    "            XGBRFClassifier(\n",
    "                n_estimators=trial.suggest_int(\"n_estimators\", 10, 500, 10),\n",
    "                max_depth=trial.suggest_int(\"max_depth\", 2, 20),\n",
    "                learning_rate=trial.suggest_float(\"learning_rate\", 1e-4, 1, log=True),\n",
    "                colsample_bytree=trial.suggest_float(\"colsample_bytree\", 0.2, 0.8),\n",
    "                reg_lambda=trial.suggest_float(\"reg_lambda\", 1e-7, 1e-1, log=True),\n",
    "                use_label_encoder=False,\n",
    "                eval_metric=\"logloss\",  # set to hide warning\n",
    "            ),\n",
    "        )\n",
    "    )\n",
    "\n",
    "    # Avoid overfitting with 4-fold cross validation\n",
    "    return cross_val_score(\n",
    "        clf, X_train.numpy(), y_train.numpy(), scoring=SCORING_METRIC, cv=4\n",
    "    ).mean()\n",
    "\n",
    "# 3. Create a study object and optimize the objective function.\n",
    "rf_study = optuna.create_study(\n",
    "    direction=\"maximize\",\n",
    "    study_name=\"xgbrf\",\n",
    "    storage=f\"sqlite:///{model_dir}/optuna.db\",\n",
    "    load_if_exists=True,\n",
    ")\n",
    "rf_study.optimize(\n",
    "    objective, n_trials=N_TRIALS, n_jobs=1, show_progress_bar=True, gc_after_trial=False\n",
    ")"
   ]
  },
  {
   "cell_type": "markdown",
   "id": "40487850-3fe0-4469-8ade-29eebd138dce",
   "metadata": {
    "execution": {
     "iopub.execute_input": "2021-10-12T20:19:33.470576Z",
     "iopub.status.busy": "2021-10-12T20:19:33.470462Z",
     "iopub.status.idle": "2021-10-12T20:44:34.683099Z",
     "shell.execute_reply": "2021-10-12T20:44:34.682772Z",
     "shell.execute_reply.started": "2021-10-12T20:19:33.470563Z"
    },
    "jupyter": {
     "outputs_hidden": true
    },
    "papermill": {
     "duration": 0.023971,
     "end_time": "2021-11-02T18:50:30.458112",
     "exception": false,
     "start_time": "2021-11-02T18:50:30.434141",
     "status": "completed"
    },
    "tags": []
   },
   "source": [
    "## Support Vector Classifier"
   ]
  },
  {
   "cell_type": "code",
   "execution_count": 13,
   "id": "16459232-896e-44f7-ac60-5f3ad46bf8b8",
   "metadata": {
    "execution": {
     "iopub.execute_input": "2021-11-02T18:50:30.513431Z",
     "iopub.status.busy": "2021-11-02T18:50:30.513071Z",
     "iopub.status.idle": "2021-11-02T19:26:30.951518Z",
     "shell.execute_reply": "2021-11-02T19:26:30.951803Z"
    },
    "papermill": {
     "duration": 2160.469604,
     "end_time": "2021-11-02T19:26:30.951989",
     "exception": false,
     "start_time": "2021-11-02T18:50:30.482385",
     "status": "completed"
    },
    "tags": []
   },
   "outputs": [
    {
     "name": "stderr",
     "output_type": "stream",
     "text": [
      "\u001b[32m[I 2021-11-02 11:50:30,620]\u001b[0m A new study created in RDB with name: svc\u001b[0m\n"
     ]
    },
    {
     "data": {
      "application/vnd.jupyter.widget-view+json": {
       "model_id": "0a8d8460537649dd9843d4cb8291b9fa",
       "version_major": 2,
       "version_minor": 0
      },
      "text/plain": [
       "  0%|          | 0/50 [00:00<?, ?it/s]"
      ]
     },
     "metadata": {},
     "output_type": "display_data"
    },
    {
     "name": "stdout",
     "output_type": "stream",
     "text": [
      "\u001b[32m[I 2021-11-02 11:51:41,673]\u001b[0m Trial 0 finished with value: 0.4897810466018762 and parameters: {'kernel': 'rbf', 'C': 0.003593047604783355, 'degree': 5}. Best is trial 0 with value: 0.4897810466018762.\u001b[0m\n",
      "\u001b[32m[I 2021-11-02 11:52:02,298]\u001b[0m Trial 1 finished with value: 0.7100393710035365 and parameters: {'kernel': 'linear', 'C': 0.12595400208696808, 'degree': 5}. Best is trial 1 with value: 0.7100393710035365.\u001b[0m\n",
      "\u001b[32m[I 2021-11-02 11:52:45,141]\u001b[0m Trial 2 finished with value: 0.43236039786776154 and parameters: {'kernel': 'poly', 'C': 0.022140707257167415, 'degree': 5}. Best is trial 1 with value: 0.7100393710035365.\u001b[0m\n",
      "\u001b[32m[I 2021-11-02 11:53:29,104]\u001b[0m Trial 3 finished with value: 0.360130905592316 and parameters: {'kernel': 'poly', 'C': 0.019775182176098326, 'degree': 4}. Best is trial 1 with value: 0.7100393710035365.\u001b[0m\n",
      "\u001b[32m[I 2021-11-02 11:55:11,754]\u001b[0m Trial 4 finished with value: 0.0 and parameters: {'kernel': 'sigmoid', 'C': 0.00027303643445618847, 'degree': 5}. Best is trial 1 with value: 0.7100393710035365.\u001b[0m\n",
      "\u001b[32m[I 2021-11-02 11:55:57,380]\u001b[0m Trial 5 finished with value: 0.07482205592323243 and parameters: {'kernel': 'poly', 'C': 0.003026318106367326, 'degree': 2}. Best is trial 1 with value: 0.7100393710035365.\u001b[0m\n",
      "\u001b[32m[I 2021-11-02 11:57:06,185]\u001b[0m Trial 6 finished with value: 0.5184932147135368 and parameters: {'kernel': 'sigmoid', 'C': 0.1054524475580555, 'degree': 2}. Best is trial 1 with value: 0.7100393710035365.\u001b[0m\n",
      "\u001b[32m[I 2021-11-02 11:57:54,064]\u001b[0m Trial 7 finished with value: 0.14310673988643144 and parameters: {'kernel': 'poly', 'C': 0.0004897032335023242, 'degree': 5}. Best is trial 1 with value: 0.7100393710035365.\u001b[0m\n",
      "\u001b[32m[I 2021-11-02 11:58:20,491]\u001b[0m Trial 8 finished with value: 0.5605248998312204 and parameters: {'kernel': 'linear', 'C': 0.0029388161850743685, 'degree': 4}. Best is trial 1 with value: 0.7100393710035365.\u001b[0m\n",
      "\u001b[32m[I 2021-11-02 11:58:58,610]\u001b[0m Trial 9 finished with value: 0.0 and parameters: {'kernel': 'linear', 'C': 3.456351012855523e-05, 'degree': 2}. Best is trial 1 with value: 0.7100393710035365.\u001b[0m\n",
      "\u001b[32m[I 2021-11-02 11:59:23,150]\u001b[0m Trial 10 finished with value: 0.711524984549736 and parameters: {'kernel': 'linear', 'C': 0.9666125300022245, 'degree': 3}. Best is trial 10 with value: 0.711524984549736.\u001b[0m\n",
      "\u001b[32m[I 2021-11-02 11:59:47,497]\u001b[0m Trial 11 finished with value: 0.7114300603176057 and parameters: {'kernel': 'linear', 'C': 0.9343612188725576, 'degree': 3}. Best is trial 10 with value: 0.711524984549736.\u001b[0m\n",
      "\u001b[32m[I 2021-11-02 12:00:11,646]\u001b[0m Trial 12 finished with value: 0.7114299544846432 and parameters: {'kernel': 'linear', 'C': 0.8881267602222527, 'degree': 3}. Best is trial 10 with value: 0.711524984549736.\u001b[0m\n",
      "\u001b[32m[I 2021-11-02 12:00:35,783]\u001b[0m Trial 13 finished with value: 0.7115591632840232 and parameters: {'kernel': 'linear', 'C': 0.8822856450142114, 'degree': 3}. Best is trial 13 with value: 0.7115591632840232.\u001b[0m\n",
      "\u001b[32m[I 2021-11-02 12:01:11,897]\u001b[0m Trial 14 finished with value: 0.8501444044911426 and parameters: {'kernel': 'rbf', 'C': 0.19456274300751952, 'degree': 3}. Best is trial 14 with value: 0.8501444044911426.\u001b[0m\n",
      "\u001b[32m[I 2021-11-02 12:01:50,121]\u001b[0m Trial 15 finished with value: 0.8452982226885511 and parameters: {'kernel': 'rbf', 'C': 0.13553977341438925, 'degree': 3}. Best is trial 14 with value: 0.8501444044911426.\u001b[0m\n",
      "\u001b[32m[I 2021-11-02 12:02:29,990]\u001b[0m Trial 16 finished with value: 0.8393564384402004 and parameters: {'kernel': 'rbf', 'C': 0.10695990977419484, 'degree': 4}. Best is trial 14 with value: 0.8501444044911426.\u001b[0m\n",
      "\u001b[32m[I 2021-11-02 12:03:17,271]\u001b[0m Trial 17 finished with value: 0.7043150312633355 and parameters: {'kernel': 'rbf', 'C': 0.03784600703351583, 'degree': 3}. Best is trial 14 with value: 0.8501444044911426.\u001b[0m\n",
      "\u001b[32m[I 2021-11-02 12:03:53,272]\u001b[0m Trial 18 finished with value: 0.8504873908712032 and parameters: {'kernel': 'rbf', 'C': 0.19767864342794303, 'degree': 4}. Best is trial 18 with value: 0.8504873908712032.\u001b[0m\n",
      "\u001b[32m[I 2021-11-02 12:05:03,634]\u001b[0m Trial 19 finished with value: 0.0 and parameters: {'kernel': 'rbf', 'C': 1.2878758786254274e-05, 'degree': 4}. Best is trial 18 with value: 0.8504873908712032.\u001b[0m\n",
      "\u001b[32m[I 2021-11-02 12:06:05,930]\u001b[0m Trial 20 finished with value: 0.5439499156349087 and parameters: {'kernel': 'rbf', 'C': 0.008462822777920383, 'degree': 4}. Best is trial 18 with value: 0.8504873908712032.\u001b[0m\n",
      "\u001b[32m[I 2021-11-02 12:06:41,575]\u001b[0m Trial 21 finished with value: 0.8508339693242452 and parameters: {'kernel': 'rbf', 'C': 0.21161800170657308, 'degree': 3}. Best is trial 21 with value: 0.8508339693242452.\u001b[0m\n",
      "\u001b[32m[I 2021-11-02 12:07:16,504]\u001b[0m Trial 22 finished with value: 0.8532412416482797 and parameters: {'kernel': 'rbf', 'C': 0.24194945730675296, 'degree': 3}. Best is trial 22 with value: 0.8532412416482797.\u001b[0m\n",
      "\u001b[32m[I 2021-11-02 12:07:50,311]\u001b[0m Trial 23 finished with value: 0.8571936750729694 and parameters: {'kernel': 'rbf', 'C': 0.3113126970259343, 'degree': 4}. Best is trial 23 with value: 0.8571936750729694.\u001b[0m\n",
      "\u001b[32m[I 2021-11-02 12:08:23,188]\u001b[0m Trial 24 finished with value: 0.8596100122645418 and parameters: {'kernel': 'rbf', 'C': 0.38575358822858197, 'degree': 2}. Best is trial 24 with value: 0.8596100122645418.\u001b[0m\n",
      "\u001b[32m[I 2021-11-02 12:09:08,402]\u001b[0m Trial 25 finished with value: 0.7566001095022483 and parameters: {'kernel': 'rbf', 'C': 0.049438411244840504, 'degree': 2}. Best is trial 24 with value: 0.8596100122645418.\u001b[0m\n",
      "\u001b[32m[I 2021-11-02 12:10:06,105]\u001b[0m Trial 26 finished with value: 0.5087980315589147 and parameters: {'kernel': 'sigmoid', 'C': 0.44836760850316226, 'degree': 2}. Best is trial 24 with value: 0.8596100122645418.\u001b[0m\n",
      "\u001b[32m[I 2021-11-02 12:10:38,961]\u001b[0m Trial 27 finished with value: 0.8595934511526175 and parameters: {'kernel': 'rbf', 'C': 0.38646283475801546, 'degree': 2}. Best is trial 24 with value: 0.8596100122645418.\u001b[0m\n",
      "\u001b[32m[I 2021-11-02 12:11:22,331]\u001b[0m Trial 28 finished with value: 0.8147961055398723 and parameters: {'kernel': 'rbf', 'C': 0.06482273491854189, 'degree': 2}. Best is trial 24 with value: 0.8596100122645418.\u001b[0m\n",
      "\u001b[32m[I 2021-11-02 12:12:22,060]\u001b[0m Trial 29 finished with value: 0.5477993615922369 and parameters: {'kernel': 'rbf', 'C': 0.010552721140747618, 'degree': 2}. Best is trial 24 with value: 0.8596100122645418.\u001b[0m\n",
      "\u001b[32m[I 2021-11-02 12:13:34,787]\u001b[0m Trial 30 finished with value: 0.0 and parameters: {'kernel': 'rbf', 'C': 0.001285213467259612, 'degree': 2}. Best is trial 24 with value: 0.8596100122645418.\u001b[0m\n",
      "\u001b[32m[I 2021-11-02 12:14:07,948]\u001b[0m Trial 31 finished with value: 0.8583022067993786 and parameters: {'kernel': 'rbf', 'C': 0.36153725709201945, 'degree': 2}. Best is trial 24 with value: 0.8596100122645418.\u001b[0m\n",
      "\u001b[32m[I 2021-11-02 12:14:41,488]\u001b[0m Trial 32 finished with value: 0.8573976332767257 and parameters: {'kernel': 'rbf', 'C': 0.3325902277283953, 'degree': 2}. Best is trial 24 with value: 0.8596100122645418.\u001b[0m\n",
      "\u001b[32m[I 2021-11-02 12:15:13,853]\u001b[0m Trial 33 finished with value: 0.861240013630693 and parameters: {'kernel': 'rbf', 'C': 0.441859725380705, 'degree': 2}. Best is trial 33 with value: 0.861240013630693.\u001b[0m\n",
      "\u001b[32m[I 2021-11-02 12:15:46,394]\u001b[0m Trial 34 finished with value: 0.860366698263882 and parameters: {'kernel': 'rbf', 'C': 0.4226783282948858, 'degree': 2}. Best is trial 33 with value: 0.861240013630693.\u001b[0m\n",
      "\u001b[32m[I 2021-11-02 12:17:08,366]\u001b[0m Trial 35 finished with value: 0.5125002653795505 and parameters: {'kernel': 'sigmoid', 'C': 0.027816547725522302, 'degree': 2}. Best is trial 33 with value: 0.861240013630693.\u001b[0m\n",
      "\u001b[32m[I 2021-11-02 12:17:40,981]\u001b[0m Trial 36 finished with value: 0.7020712042080931 and parameters: {'kernel': 'poly', 'C': 0.5314854732169798, 'degree': 2}. Best is trial 33 with value: 0.861240013630693.\u001b[0m\n",
      "\u001b[32m[I 2021-11-02 12:18:23,407]\u001b[0m Trial 37 finished with value: 0.8264224016605475 and parameters: {'kernel': 'rbf', 'C': 0.07480339986808318, 'degree': 2}. Best is trial 33 with value: 0.861240013630693.\u001b[0m\n",
      "\u001b[32m[I 2021-11-02 12:19:06,708]\u001b[0m Trial 38 finished with value: 0.3390298862387183 and parameters: {'kernel': 'poly', 'C': 0.01591772132844993, 'degree': 2}. Best is trial 33 with value: 0.861240013630693.\u001b[0m\n",
      "\u001b[32m[I 2021-11-02 12:20:03,962]\u001b[0m Trial 39 finished with value: 0.5070071627025139 and parameters: {'kernel': 'sigmoid', 'C': 0.48339477420331645, 'degree': 2}. Best is trial 33 with value: 0.861240013630693.\u001b[0m\n",
      "\u001b[32m[I 2021-11-02 12:21:16,796]\u001b[0m Trial 40 finished with value: 0.0 and parameters: {'kernel': 'rbf', 'C': 0.00014263152335642124, 'degree': 2}. Best is trial 33 with value: 0.861240013630693.\u001b[0m\n",
      "\u001b[32m[I 2021-11-02 12:21:48,437]\u001b[0m Trial 41 finished with value: 0.863394942706857 and parameters: {'kernel': 'rbf', 'C': 0.5356299849944642, 'degree': 2}. Best is trial 41 with value: 0.863394942706857.\u001b[0m\n",
      "\u001b[32m[I 2021-11-02 12:22:26,467]\u001b[0m Trial 42 finished with value: 0.8459843247756819 and parameters: {'kernel': 'rbf', 'C': 0.14088593965479448, 'degree': 2}. Best is trial 41 with value: 0.863394942706857.\u001b[0m\n",
      "\u001b[32m[I 2021-11-02 12:22:57,398]\u001b[0m Trial 43 finished with value: 0.8648166701194839 and parameters: {'kernel': 'rbf', 'C': 0.6607225082683795, 'degree': 2}. Best is trial 43 with value: 0.8648166701194839.\u001b[0m\n",
      "\u001b[32m[I 2021-11-02 12:23:28,507]\u001b[0m Trial 44 finished with value: 0.8642513252938219 and parameters: {'kernel': 'rbf', 'C': 0.6283783888454283, 'degree': 2}. Best is trial 43 with value: 0.8648166701194839.\u001b[0m\n",
      "\u001b[32m[I 2021-11-02 12:24:00,814]\u001b[0m Trial 45 finished with value: 0.7163782253278559 and parameters: {'kernel': 'poly', 'C': 0.6105465496127974, 'degree': 2}. Best is trial 43 with value: 0.8648166701194839.\u001b[0m\n",
      "\u001b[32m[I 2021-11-02 12:24:43,207]\u001b[0m Trial 46 finished with value: 0.8257977173707576 and parameters: {'kernel': 'rbf', 'C': 0.07375097695526955, 'degree': 2}. Best is trial 43 with value: 0.8648166701194839.\u001b[0m\n",
      "\u001b[32m[I 2021-11-02 12:25:14,390]\u001b[0m Trial 47 finished with value: 0.8641101239734147 and parameters: {'kernel': 'rbf', 'C': 0.6118431476457193, 'degree': 5}. Best is trial 43 with value: 0.8648166701194839.\u001b[0m\n",
      "\u001b[32m[I 2021-11-02 12:26:10,426]\u001b[0m Trial 48 finished with value: 0.5027613595128562 and parameters: {'kernel': 'sigmoid', 'C': 0.7147007483184967, 'degree': 5}. Best is trial 43 with value: 0.8648166701194839.\u001b[0m\n",
      "\u001b[32m[I 2021-11-02 12:26:30,946]\u001b[0m Trial 49 finished with value: 0.7100526324201175 and parameters: {'kernel': 'linear', 'C': 0.13532029400875703, 'degree': 5}. Best is trial 43 with value: 0.8648166701194839.\u001b[0m\n"
     ]
    }
   ],
   "source": [
    "def objective(trial):\n",
    "\n",
    "    clf = OneVsRestClassifier(\n",
    "        make_pipeline(\n",
    "            StandardScaler(),\n",
    "            SVC(\n",
    "                kernel=trial.suggest_categorical(\n",
    "                    \"kernel\", [\"linear\", \"poly\", \"rbf\", \"sigmoid\"]\n",
    "                ),\n",
    "                C=trial.suggest_float(\"C\", 1e-5, 1, log=True),\n",
    "                degree=trial.suggest_int(\"degree\", 2, 5),\n",
    "                probability=True,\n",
    "            ),\n",
    "        )\n",
    "    )\n",
    "\n",
    "    # Avoid overfitting with 4-fold cross validation\n",
    "    return cross_val_score(clf, X_train.numpy(), y_train.numpy(), scoring=SCORING_METRIC, cv=4).mean()\n",
    "\n",
    "# 3. Create a study object and optimize the objective function.\n",
    "svc_study = optuna.create_study(\n",
    "    direction=\"maximize\",\n",
    "    study_name=\"svc\",\n",
    "    storage=f\"sqlite:///{model_dir}/optuna.db\",\n",
    "    load_if_exists=True,\n",
    ")\n",
    "svc_study.optimize(\n",
    "    objective, n_trials=N_TRIALS, n_jobs=1, show_progress_bar=True, gc_after_trial=False\n",
    ")"
   ]
  },
  {
   "cell_type": "markdown",
   "id": "8b2ef31b-ddf7-4d8f-a6c8-2b7748d22e0e",
   "metadata": {
    "papermill": {
     "duration": 0.031784,
     "end_time": "2021-11-02T19:26:31.016525",
     "exception": false,
     "start_time": "2021-11-02T19:26:30.984741",
     "status": "completed"
    },
    "tags": []
   },
   "source": [
    "## Feed Forward Neural Net"
   ]
  },
  {
   "cell_type": "code",
   "execution_count": 14,
   "id": "355b2748-48de-4106-b153-b1788f06f345",
   "metadata": {
    "execution": {
     "iopub.execute_input": "2021-11-02T19:26:31.086464Z",
     "iopub.status.busy": "2021-11-02T19:26:31.086100Z",
     "iopub.status.idle": "2021-11-02T20:19:12.108818Z",
     "shell.execute_reply": "2021-11-02T20:19:12.107158Z"
    },
    "papermill": {
     "duration": 3161.060665,
     "end_time": "2021-11-02T20:19:12.108926",
     "exception": false,
     "start_time": "2021-11-02T19:26:31.048261",
     "status": "completed"
    },
    "tags": []
   },
   "outputs": [
    {
     "name": "stderr",
     "output_type": "stream",
     "text": [
      "\u001b[32m[I 2021-11-02 12:26:31,196]\u001b[0m A new study created in RDB with name: ffnn\u001b[0m\n"
     ]
    },
    {
     "data": {
      "application/vnd.jupyter.widget-view+json": {
       "model_id": "2f2e043f8e724ccc8043de8124153f66",
       "version_major": 2,
       "version_minor": 0
      },
      "text/plain": [
       "  0%|          | 0/50 [00:00<?, ?it/s]"
      ]
     },
     "metadata": {},
     "output_type": "display_data"
    },
    {
     "name": "stdout",
     "output_type": "stream",
     "text": [
      "\u001b[32m[I 2021-11-02 12:27:42,282]\u001b[0m Trial 0 finished with value: 0.1332475958019495 and parameters: {'module__l0_size': 11, 'module__l1_size': 293}. Best is trial 0 with value: 0.1332475958019495.\u001b[0m\n",
      "\u001b[32m[I 2021-11-02 12:28:46,077]\u001b[0m Trial 1 finished with value: 0.12635636632330716 and parameters: {'module__l0_size': 208, 'module__l1_size': 297}. Best is trial 1 with value: 0.12635636632330716.\u001b[0m\n",
      "\u001b[32m[I 2021-11-02 12:29:49,099]\u001b[0m Trial 2 finished with value: 0.1213867208827287 and parameters: {'module__l0_size': 101, 'module__l1_size': 43}. Best is trial 2 with value: 0.1213867208827287.\u001b[0m\n",
      "\u001b[32m[I 2021-11-02 12:30:53,127]\u001b[0m Trial 3 finished with value: 0.12290588059648873 and parameters: {'module__l0_size': 165, 'module__l1_size': 35}. Best is trial 2 with value: 0.1213867208827287.\u001b[0m\n",
      "\u001b[32m[I 2021-11-02 12:31:57,612]\u001b[0m Trial 4 finished with value: 0.1305319029800594 and parameters: {'module__l0_size': 250, 'module__l1_size': 257}. Best is trial 2 with value: 0.1213867208827287.\u001b[0m\n",
      "\u001b[32m[I 2021-11-02 12:33:01,224]\u001b[0m Trial 5 finished with value: 0.12143573290854692 and parameters: {'module__l0_size': 66, 'module__l1_size': 175}. Best is trial 2 with value: 0.1213867208827287.\u001b[0m\n",
      "\u001b[32m[I 2021-11-02 12:34:04,809]\u001b[0m Trial 6 finished with value: 0.12709616577625274 and parameters: {'module__l0_size': 297, 'module__l1_size': 142}. Best is trial 2 with value: 0.1213867208827287.\u001b[0m\n",
      "\u001b[32m[I 2021-11-02 12:35:07,632]\u001b[0m Trial 7 finished with value: 0.12234530140459536 and parameters: {'module__l0_size': 123, 'module__l1_size': 44}. Best is trial 2 with value: 0.1213867208827287.\u001b[0m\n",
      "\u001b[32m[I 2021-11-02 12:36:10,669]\u001b[0m Trial 8 finished with value: 0.11856793645862489 and parameters: {'module__l0_size': 57, 'module__l1_size': 96}. Best is trial 8 with value: 0.11856793645862489.\u001b[0m\n",
      "\u001b[32m[I 2021-11-02 12:37:14,234]\u001b[0m Trial 9 finished with value: 0.11942882624827325 and parameters: {'module__l0_size': 101, 'module__l1_size': 40}. Best is trial 8 with value: 0.11856793645862489.\u001b[0m\n",
      "\u001b[32m[I 2021-11-02 12:38:17,685]\u001b[0m Trial 10 finished with value: 0.11753326150961221 and parameters: {'module__l0_size': 29, 'module__l1_size': 114}. Best is trial 10 with value: 0.11753326150961221.\u001b[0m\n",
      "\u001b[32m[I 2021-11-02 12:39:20,829]\u001b[0m Trial 11 finished with value: 0.12855401013046502 and parameters: {'module__l0_size': 11, 'module__l1_size': 118}. Best is trial 10 with value: 0.11753326150961221.\u001b[0m\n",
      "\u001b[32m[I 2021-11-02 12:40:23,829]\u001b[0m Trial 12 finished with value: 0.12371171332150696 and parameters: {'module__l0_size': 55, 'module__l1_size': 91}. Best is trial 10 with value: 0.11753326150961221.\u001b[0m\n",
      "\u001b[32m[I 2021-11-02 12:41:27,147]\u001b[0m Trial 13 finished with value: 0.12215991562977431 and parameters: {'module__l0_size': 53, 'module__l1_size': 178}. Best is trial 10 with value: 0.11753326150961221.\u001b[0m\n",
      "\u001b[32m[I 2021-11-02 12:42:30,816]\u001b[0m Trial 14 finished with value: 0.12358078909665345 and parameters: {'module__l0_size': 149, 'module__l1_size': 85}. Best is trial 10 with value: 0.11753326150961221.\u001b[0m\n",
      "\u001b[32m[I 2021-11-02 12:43:33,897]\u001b[0m Trial 15 finished with value: 0.12380765628069638 and parameters: {'module__l0_size': 43, 'module__l1_size': 228}. Best is trial 10 with value: 0.11753326150961221.\u001b[0m\n",
      "\u001b[32m[I 2021-11-02 12:44:36,966]\u001b[0m Trial 16 finished with value: 0.12031167326495051 and parameters: {'module__l0_size': 83, 'module__l1_size': 89}. Best is trial 10 with value: 0.11753326150961221.\u001b[0m\n",
      "\u001b[32m[I 2021-11-02 12:45:39,902]\u001b[0m Trial 17 finished with value: 0.11928106510266663 and parameters: {'module__l0_size': 31, 'module__l1_size': 138}. Best is trial 10 with value: 0.11753326150961221.\u001b[0m\n",
      "\u001b[32m[I 2021-11-02 12:46:42,973]\u001b[0m Trial 18 finished with value: 0.12806534891948104 and parameters: {'module__l0_size': 175, 'module__l1_size': 194}. Best is trial 10 with value: 0.11753326150961221.\u001b[0m\n",
      "\u001b[32m[I 2021-11-02 12:47:46,041]\u001b[0m Trial 19 finished with value: 0.12376493251323702 and parameters: {'module__l0_size': 134, 'module__l1_size': 112}. Best is trial 10 with value: 0.11753326150961221.\u001b[0m\n",
      "\u001b[32m[I 2021-11-02 12:48:48,968]\u001b[0m Trial 20 finished with value: 0.11590931963361802 and parameters: {'module__l0_size': 88, 'module__l1_size': 15}. Best is trial 20 with value: 0.11590931963361802.\u001b[0m\n",
      "\u001b[32m[I 2021-11-02 12:49:51,833]\u001b[0m Trial 21 finished with value: 0.1161268682591617 and parameters: {'module__l0_size': 80, 'module__l1_size': 11}. Best is trial 20 with value: 0.11590931963361802.\u001b[0m\n",
      "\u001b[32m[I 2021-11-02 12:50:54,703]\u001b[0m Trial 22 finished with value: 0.1213411788083613 and parameters: {'module__l0_size': 86, 'module__l1_size': 14}. Best is trial 20 with value: 0.11590931963361802.\u001b[0m\n",
      "\u001b[32m[I 2021-11-02 12:51:58,158]\u001b[0m Trial 23 finished with value: 0.11718285102210942 and parameters: {'module__l0_size': 108, 'module__l1_size': 13}. Best is trial 20 with value: 0.11590931963361802.\u001b[0m\n",
      "\u001b[32m[I 2021-11-02 12:53:01,272]\u001b[0m Trial 24 finished with value: 0.1195548158660531 and parameters: {'module__l0_size': 120, 'module__l1_size': 10}. Best is trial 20 with value: 0.11590931963361802.\u001b[0m\n",
      "\u001b[32m[I 2021-11-02 12:54:04,226]\u001b[0m Trial 25 finished with value: 0.12278880727104842 and parameters: {'module__l0_size': 88, 'module__l1_size': 69}. Best is trial 20 with value: 0.11590931963361802.\u001b[0m\n",
      "\u001b[32m[I 2021-11-02 12:55:07,586]\u001b[0m Trial 26 finished with value: 0.12792254756391047 and parameters: {'module__l0_size': 197, 'module__l1_size': 61}. Best is trial 20 with value: 0.11590931963361802.\u001b[0m\n",
      "\u001b[32m[I 2021-11-02 12:56:10,787]\u001b[0m Trial 27 finished with value: 0.11960437181964516 and parameters: {'module__l0_size': 117, 'module__l1_size': 23}. Best is trial 20 with value: 0.11590931963361802.\u001b[0m\n",
      "\u001b[32m[I 2021-11-02 12:57:13,791]\u001b[0m Trial 28 finished with value: 0.12234142335318028 and parameters: {'module__l0_size': 146, 'module__l1_size': 62}. Best is trial 20 with value: 0.11590931963361802.\u001b[0m\n",
      "\u001b[32m[I 2021-11-02 12:58:16,913]\u001b[0m Trial 29 finished with value: 0.11869545128941539 and parameters: {'module__l0_size': 74, 'module__l1_size': 26}. Best is trial 20 with value: 0.11590931963361802.\u001b[0m\n",
      "\u001b[32m[I 2021-11-02 12:59:19,423]\u001b[0m Trial 30 finished with value: 0.11998632853850721 and parameters: {'module__l0_size': 104, 'module__l1_size': 60}. Best is trial 20 with value: 0.11590931963361802.\u001b[0m\n",
      "\u001b[32m[I 2021-11-02 13:00:22,283]\u001b[0m Trial 31 finished with value: 0.1174536482989788 and parameters: {'module__l0_size': 17, 'module__l1_size': 13}. Best is trial 20 with value: 0.11590931963361802.\u001b[0m\n",
      "\u001b[32m[I 2021-11-02 13:01:24,618]\u001b[0m Trial 32 finished with value: 0.11712092964351176 and parameters: {'module__l0_size': 16, 'module__l1_size': 10}. Best is trial 20 with value: 0.11590931963361802.\u001b[0m\n",
      "\u001b[32m[I 2021-11-02 13:02:27,263]\u001b[0m Trial 33 finished with value: 0.12026934000849725 and parameters: {'module__l0_size': 39, 'module__l1_size': 48}. Best is trial 20 with value: 0.11590931963361802.\u001b[0m\n",
      "\u001b[32m[I 2021-11-02 13:03:29,834]\u001b[0m Trial 34 finished with value: 0.12013599063642322 and parameters: {'module__l0_size': 100, 'module__l1_size': 32}. Best is trial 20 with value: 0.11590931963361802.\u001b[0m\n",
      "\u001b[32m[I 2021-11-02 13:04:32,969]\u001b[0m Trial 35 finished with value: 0.11840356362983584 and parameters: {'module__l0_size': 179, 'module__l1_size': 27}. Best is trial 20 with value: 0.11590931963361802.\u001b[0m\n",
      "\u001b[32m[I 2021-11-02 13:05:36,414]\u001b[0m Trial 36 finished with value: 0.12399198945052922 and parameters: {'module__l0_size': 74, 'module__l1_size': 271}. Best is trial 20 with value: 0.11590931963361802.\u001b[0m\n",
      "\u001b[32m[I 2021-11-02 13:06:39,544]\u001b[0m Trial 37 finished with value: 0.11961919872090224 and parameters: {'module__l0_size': 225, 'module__l1_size': 73}. Best is trial 20 with value: 0.11590931963361802.\u001b[0m\n",
      "\u001b[32m[I 2021-11-02 13:07:41,990]\u001b[0m Trial 38 finished with value: 0.1177120190616697 and parameters: {'module__l0_size': 65, 'module__l1_size': 48}. Best is trial 20 with value: 0.11590931963361802.\u001b[0m\n",
      "\u001b[32m[I 2021-11-02 13:08:44,782]\u001b[0m Trial 39 finished with value: 0.11910319577902558 and parameters: {'module__l0_size': 132, 'module__l1_size': 11}. Best is trial 20 with value: 0.11590931963361802.\u001b[0m\n",
      "\u001b[32m[I 2021-11-02 13:09:47,295]\u001b[0m Trial 40 finished with value: 0.1187144660539925 and parameters: {'module__l0_size': 108, 'module__l1_size': 37}. Best is trial 20 with value: 0.11590931963361802.\u001b[0m\n",
      "\u001b[32m[I 2021-11-02 13:10:49,812]\u001b[0m Trial 41 finished with value: 0.12347731251083316 and parameters: {'module__l0_size': 13, 'module__l1_size': 11}. Best is trial 20 with value: 0.11590931963361802.\u001b[0m\n",
      "\u001b[32m[I 2021-11-02 13:11:52,294]\u001b[0m Trial 42 finished with value: 0.1189165037497878 and parameters: {'module__l0_size': 23, 'module__l1_size': 28}. Best is trial 20 with value: 0.11590931963361802.\u001b[0m\n",
      "\u001b[32m[I 2021-11-02 13:12:54,804]\u001b[0m Trial 43 finished with value: 0.12048295310139659 and parameters: {'module__l0_size': 46, 'module__l1_size': 50}. Best is trial 20 with value: 0.11590931963361802.\u001b[0m\n",
      "\u001b[32m[I 2021-11-02 13:13:57,555]\u001b[0m Trial 44 finished with value: 0.11905788812227547 and parameters: {'module__l0_size': 25, 'module__l1_size': 24}. Best is trial 20 with value: 0.11590931963361802.\u001b[0m\n",
      "\u001b[32m[I 2021-11-02 13:15:00,216]\u001b[0m Trial 45 finished with value: 0.11929297302663326 and parameters: {'module__l0_size': 66, 'module__l1_size': 40}. Best is trial 20 with value: 0.11590931963361802.\u001b[0m\n",
      "\u001b[32m[I 2021-11-02 13:16:02,884]\u001b[0m Trial 46 finished with value: 0.11964004137180746 and parameters: {'module__l0_size': 92, 'module__l1_size': 10}. Best is trial 20 with value: 0.11590931963361802.\u001b[0m\n",
      "\u001b[32m[I 2021-11-02 13:17:05,816]\u001b[0m Trial 47 finished with value: 0.12683152759075164 and parameters: {'module__l0_size': 284, 'module__l1_size': 77}. Best is trial 20 with value: 0.11590931963361802.\u001b[0m\n",
      "\u001b[32m[I 2021-11-02 13:18:09,488]\u001b[0m Trial 48 finished with value: 0.12998262451589107 and parameters: {'module__l0_size': 11, 'module__l1_size': 216}. Best is trial 20 with value: 0.11590931963361802.\u001b[0m\n",
      "\u001b[32m[I 2021-11-02 13:19:12,062]\u001b[0m Trial 49 finished with value: 0.11809728430584072 and parameters: {'module__l0_size': 37, 'module__l1_size': 52}. Best is trial 20 with value: 0.11590931963361802.\u001b[0m\n"
     ]
    }
   ],
   "source": [
    "def objective(trial):\n",
    "\n",
    "    clf = OneVsRestClassifier(\n",
    "        NeuralNetClassifier(\n",
    "            module=FCModule,\n",
    "            optimizer=torch.optim.Adam,\n",
    "            module__l0_size=trial.suggest_int(\"module__l0_size\", 10, 300),\n",
    "            module__l1_size=trial.suggest_int(\"module__l1_size\", 10, 300),\n",
    "            max_epochs=NN_MAX_EPOCHS,\n",
    "            # Internal 80/20 train valid split\n",
    "            device=\"cuda\",\n",
    "            verbose=False,\n",
    "        ),\n",
    "    )\n",
    "\n",
    "    clf.fit(X_train, y_train)\n",
    "\n",
    "    # Avoid overfitting by evaluating internal 20% validation\n",
    "    return np.mean([e.history[-1, \"valid_loss\"] for e in clf.estimators_])\n",
    "\n",
    "# 3. Create a study object and optimize the objective function.\n",
    "nn_study = optuna.create_study(\n",
    "    direction=\"minimize\",\n",
    "    study_name=\"ffnn\",\n",
    "    storage=f\"sqlite:///{model_dir}/optuna.db\",\n",
    "    load_if_exists=True,\n",
    ")\n",
    "nn_study.optimize(\n",
    "    objective, n_trials=N_TRIALS, n_jobs=1, show_progress_bar=True, gc_after_trial=False\n",
    ")"
   ]
  },
  {
   "cell_type": "markdown",
   "id": "3b6514d6-2ac9-46b9-b846-adfde3f7d35c",
   "metadata": {
    "papermill": {
     "duration": 0.041143,
     "end_time": "2021-11-02T20:19:12.190263",
     "exception": false,
     "start_time": "2021-11-02T20:19:12.149120",
     "status": "completed"
    },
    "tags": []
   },
   "source": [
    "## CNN Neural Net"
   ]
  },
  {
   "cell_type": "code",
   "execution_count": 15,
   "id": "c9720e74-66c6-4084-930e-c78eacefd2ce",
   "metadata": {
    "execution": {
     "iopub.execute_input": "2021-11-02T20:19:12.281085Z",
     "iopub.status.busy": "2021-11-02T20:19:12.280710Z",
     "iopub.status.idle": "2021-11-03T01:29:30.181881Z",
     "shell.execute_reply": "2021-11-03T01:29:30.180233Z"
    },
    "papermill": {
     "duration": 18617.950564,
     "end_time": "2021-11-03T01:29:30.181967",
     "exception": false,
     "start_time": "2021-11-02T20:19:12.231403",
     "status": "completed"
    },
    "tags": []
   },
   "outputs": [
    {
     "name": "stderr",
     "output_type": "stream",
     "text": [
      "\u001b[32m[I 2021-11-02 13:19:12,410]\u001b[0m A new study created in RDB with name: cnn\u001b[0m\n"
     ]
    },
    {
     "data": {
      "application/vnd.jupyter.widget-view+json": {
       "model_id": "ec0d5248bccf4f3aa616b946b82da04f",
       "version_major": 2,
       "version_minor": 0
      },
      "text/plain": [
       "  0%|          | 0/50 [00:00<?, ?it/s]"
      ]
     },
     "metadata": {},
     "output_type": "display_data"
    },
    {
     "name": "stdout",
     "output_type": "stream",
     "text": [
      "\u001b[32m[I 2021-11-02 13:26:22,779]\u001b[0m Trial 0 finished with value: 1.787541131258011 and parameters: {'module__out_channels': 7, 'module__f_units_l0': 165, 'module__f_units_l1': 28}. Best is trial 0 with value: 1.787541131258011.\u001b[0m\n",
      "\u001b[32m[I 2021-11-02 13:34:16,771]\u001b[0m Trial 1 finished with value: 1.6368818435296415 and parameters: {'module__out_channels': 8, 'module__f_units_l0': 286, 'module__f_units_l1': 80}. Best is trial 1 with value: 1.6368818435296415.\u001b[0m\n",
      "\u001b[32m[I 2021-11-02 13:45:02,404]\u001b[0m Trial 2 finished with value: 1.5149233328104021 and parameters: {'module__out_channels': 13, 'module__f_units_l0': 236, 'module__f_units_l1': 64}. Best is trial 2 with value: 1.5149233328104021.\u001b[0m\n",
      "\u001b[32m[I 2021-11-02 13:49:40,576]\u001b[0m Trial 3 finished with value: 1.3019081979990004 and parameters: {'module__out_channels': 2, 'module__f_units_l0': 68, 'module__f_units_l1': 67}. Best is trial 3 with value: 1.3019081979990004.\u001b[0m\n",
      "\u001b[32m[I 2021-11-02 14:00:09,168]\u001b[0m Trial 4 finished with value: 1.3942262022197247 and parameters: {'module__out_channels': 14, 'module__f_units_l0': 85, 'module__f_units_l1': 75}. Best is trial 3 with value: 1.3019081979990004.\u001b[0m\n",
      "\u001b[32m[I 2021-11-02 14:09:11,857]\u001b[0m Trial 5 finished with value: 1.7757963849306109 and parameters: {'module__out_channels': 11, 'module__f_units_l0': 99, 'module__f_units_l1': 32}. Best is trial 3 with value: 1.3019081979990004.\u001b[0m\n",
      "\u001b[32m[I 2021-11-02 14:16:25,652]\u001b[0m Trial 6 finished with value: 1.979073175907135 and parameters: {'module__out_channels': 7, 'module__f_units_l0': 189, 'module__f_units_l1': 17}. Best is trial 3 with value: 1.3019081979990004.\u001b[0m\n",
      "\u001b[32m[I 2021-11-02 14:22:24,467]\u001b[0m Trial 7 finished with value: 1.9324336539506912 and parameters: {'module__out_channels': 5, 'module__f_units_l0': 61, 'module__f_units_l1': 66}. Best is trial 3 with value: 1.3019081979990004.\u001b[0m\n",
      "\u001b[32m[I 2021-11-02 14:28:50,312]\u001b[0m Trial 8 finished with value: 1.6184375352859497 and parameters: {'module__out_channels': 6, 'module__f_units_l0': 66, 'module__f_units_l1': 86}. Best is trial 3 with value: 1.3019081979990004.\u001b[0m\n",
      "\u001b[32m[I 2021-11-02 14:35:50,013]\u001b[0m Trial 9 finished with value: 1.8160382353067397 and parameters: {'module__out_channels': 6, 'module__f_units_l0': 285, 'module__f_units_l1': 14}. Best is trial 3 with value: 1.3019081979990004.\u001b[0m\n",
      "\u001b[32m[I 2021-11-02 14:40:27,898]\u001b[0m Trial 10 finished with value: 1.0262875356674193 and parameters: {'module__out_channels': 2, 'module__f_units_l0': 20, 'module__f_units_l1': 48}. Best is trial 10 with value: 1.0262875356674193.\u001b[0m\n",
      "\u001b[32m[I 2021-11-02 14:45:05,141]\u001b[0m Trial 11 finished with value: 0.7479922457858919 and parameters: {'module__out_channels': 2, 'module__f_units_l0': 13, 'module__f_units_l1': 47}. Best is trial 11 with value: 0.7479922457858919.\u001b[0m\n",
      "\u001b[32m[I 2021-11-02 14:49:42,385]\u001b[0m Trial 12 finished with value: 1.7813207960128783 and parameters: {'module__out_channels': 2, 'module__f_units_l0': 15, 'module__f_units_l1': 47}. Best is trial 11 with value: 0.7479922457858919.\u001b[0m\n",
      "\u001b[32m[I 2021-11-02 14:55:11,417]\u001b[0m Trial 13 finished with value: 1.5560186314284803 and parameters: {'module__out_channels': 4, 'module__f_units_l0': 11, 'module__f_units_l1': 46}. Best is trial 11 with value: 0.7479922457858919.\u001b[0m\n",
      "\u001b[32m[I 2021-11-02 15:03:59,601]\u001b[0m Trial 14 finished with value: 1.316491840004921 and parameters: {'module__out_channels': 10, 'module__f_units_l0': 133, 'module__f_units_l1': 47}. Best is trial 11 with value: 0.7479922457858919.\u001b[0m\n",
      "\u001b[32m[I 2021-11-02 15:14:35,920]\u001b[0m Trial 15 finished with value: 1.6757692052125932 and parameters: {'module__out_channels': 16, 'module__f_units_l0': 24, 'module__f_units_l1': 35}. Best is trial 11 with value: 0.7479922457858919.\u001b[0m\n",
      "\u001b[32m[I 2021-11-02 15:19:46,015]\u001b[0m Trial 16 finished with value: 1.5947399208717978 and parameters: {'module__out_channels': 3, 'module__f_units_l0': 119, 'module__f_units_l1': 56}. Best is trial 11 with value: 0.7479922457858919.\u001b[0m\n",
      "\u001b[32m[I 2021-11-02 15:25:16,445]\u001b[0m Trial 17 finished with value: 1.37405199187994 and parameters: {'module__out_channels': 4, 'module__f_units_l0': 43, 'module__f_units_l1': 95}. Best is trial 11 with value: 0.7479922457858919.\u001b[0m\n",
      "\u001b[32m[I 2021-11-02 15:29:59,965]\u001b[0m Trial 18 finished with value: 1.5896557629704475 and parameters: {'module__out_channels': 2, 'module__f_units_l0': 221, 'module__f_units_l1': 40}. Best is trial 11 with value: 0.7479922457858919.\u001b[0m\n",
      "\u001b[32m[I 2021-11-02 15:35:31,287]\u001b[0m Trial 19 finished with value: 1.4599826066195964 and parameters: {'module__out_channels': 4, 'module__f_units_l0': 48, 'module__f_units_l1': 56}. Best is trial 11 with value: 0.7479922457858919.\u001b[0m\n",
      "\u001b[32m[I 2021-11-02 15:43:31,199]\u001b[0m Trial 20 finished with value: 1.611949287980795 and parameters: {'module__out_channels': 9, 'module__f_units_l0': 103, 'module__f_units_l1': 23}. Best is trial 11 with value: 0.7479922457858919.\u001b[0m\n",
      "\u001b[32m[I 2021-11-02 15:48:09,397]\u001b[0m Trial 21 finished with value: 1.880433819770813 and parameters: {'module__out_channels': 2, 'module__f_units_l0': 35, 'module__f_units_l1': 65}. Best is trial 11 with value: 0.7479922457858919.\u001b[0m\n",
      "\u001b[32m[I 2021-11-02 15:53:17,574]\u001b[0m Trial 22 finished with value: 1.5040606210627594 and parameters: {'module__out_channels': 3, 'module__f_units_l0': 65, 'module__f_units_l1': 73}. Best is trial 11 with value: 0.7479922457858919.\u001b[0m\n",
      "\u001b[32m[I 2021-11-02 15:57:54,696]\u001b[0m Trial 23 finished with value: 1.1071780361831187 and parameters: {'module__out_channels': 2, 'module__f_units_l0': 10, 'module__f_units_l1': 56}. Best is trial 11 with value: 0.7479922457858919.\u001b[0m\n",
      "\u001b[32m[I 2021-11-02 16:03:50,501]\u001b[0m Trial 24 finished with value: 1.5092348058223723 and parameters: {'module__out_channels': 5, 'module__f_units_l0': 30, 'module__f_units_l1': 55}. Best is trial 11 with value: 0.7479922457858919.\u001b[0m\n",
      "\u001b[32m[I 2021-11-02 16:08:55,690]\u001b[0m Trial 25 finished with value: 1.140140848342329 and parameters: {'module__out_channels': 3, 'module__f_units_l0': 11, 'module__f_units_l1': 53}. Best is trial 11 with value: 0.7479922457858919.\u001b[0m\n",
      "\u001b[32m[I 2021-11-02 16:14:56,917]\u001b[0m Trial 26 finished with value: 1.785589161276817 and parameters: {'module__out_channels': 5, 'module__f_units_l0': 86, 'module__f_units_l1': 40}. Best is trial 11 with value: 0.7479922457858919.\u001b[0m\n",
      "\u001b[32m[I 2021-11-02 16:20:03,447]\u001b[0m Trial 27 finished with value: 1.534151578463614 and parameters: {'module__out_channels': 3, 'module__f_units_l0': 43, 'module__f_units_l1': 60}. Best is trial 11 with value: 0.7479922457858919.\u001b[0m\n",
      "\u001b[32m[I 2021-11-02 16:25:43,020]\u001b[0m Trial 28 finished with value: 1.7476303721070292 and parameters: {'module__out_channels': 4, 'module__f_units_l0': 141, 'module__f_units_l1': 44}. Best is trial 11 with value: 0.7479922457858919.\u001b[0m\n",
      "\u001b[32m[I 2021-11-02 16:32:57,089]\u001b[0m Trial 29 finished with value: 1.3830098042488097 and parameters: {'module__out_channels': 7, 'module__f_units_l0': 176, 'module__f_units_l1': 26}. Best is trial 11 with value: 0.7479922457858919.\u001b[0m\n",
      "\u001b[32m[I 2021-11-02 16:39:21,044]\u001b[0m Trial 30 finished with value: 1.6317573930919171 and parameters: {'module__out_channels': 6, 'module__f_units_l0': 50, 'module__f_units_l1': 32}. Best is trial 11 with value: 0.7479922457858919.\u001b[0m\n",
      "\u001b[32m[I 2021-11-02 16:44:28,881]\u001b[0m Trial 31 finished with value: 1.3617694311738016 and parameters: {'module__out_channels': 3, 'module__f_units_l0': 14, 'module__f_units_l1': 54}. Best is trial 11 with value: 0.7479922457858919.\u001b[0m\n",
      "\u001b[32m[I 2021-11-02 16:49:06,910]\u001b[0m Trial 32 finished with value: 0.8386967266798019 and parameters: {'module__out_channels': 2, 'module__f_units_l0': 12, 'module__f_units_l1': 40}. Best is trial 11 with value: 0.7479922457858919.\u001b[0m\n",
      "\u001b[32m[I 2021-11-02 16:53:44,772]\u001b[0m Trial 33 finished with value: 1.80580004298687 and parameters: {'module__out_channels': 2, 'module__f_units_l0': 30, 'module__f_units_l1': 40}. Best is trial 11 with value: 0.7479922457858919.\u001b[0m\n",
      "\u001b[32m[I 2021-11-02 16:58:23,378]\u001b[0m Trial 34 finished with value: 1.5380555420666933 and parameters: {'module__out_channels': 2, 'module__f_units_l0': 84, 'module__f_units_l1': 49}. Best is trial 11 with value: 0.7479922457858919.\u001b[0m\n",
      "\u001b[32m[I 2021-11-02 17:07:26,027]\u001b[0m Trial 35 finished with value: 2.1579922661781312 and parameters: {'module__out_channels': 12, 'module__f_units_l0': 27, 'module__f_units_l1': 61}. Best is trial 11 with value: 0.7479922457858919.\u001b[0m\n",
      "\u001b[32m[I 2021-11-02 17:12:57,882]\u001b[0m Trial 36 finished with value: 1.6450297744311393 and parameters: {'module__out_channels': 4, 'module__f_units_l0': 79, 'module__f_units_l1': 36}. Best is trial 11 with value: 0.7479922457858919.\u001b[0m\n",
      "\u001b[32m[I 2021-11-02 17:19:59,599]\u001b[0m Trial 37 finished with value: 1.5331146559417248 and parameters: {'module__out_channels': 8, 'module__f_units_l0': 47, 'module__f_units_l1': 72}. Best is trial 11 with value: 0.7479922457858919.\u001b[0m\n",
      "\u001b[32m[I 2021-11-02 17:25:06,168]\u001b[0m Trial 38 finished with value: 1.7224145971536635 and parameters: {'module__out_channels': 3, 'module__f_units_l0': 56, 'module__f_units_l1': 23}. Best is trial 11 with value: 0.7479922457858919.\u001b[0m\n",
      "\u001b[32m[I 2021-11-02 17:36:30,171]\u001b[0m Trial 39 finished with value: 1.5203016589954494 and parameters: {'module__out_channels': 14, 'module__f_units_l0': 258, 'module__f_units_l1': 82}. Best is trial 11 with value: 0.7479922457858919.\u001b[0m\n",
      "\u001b[32m[I 2021-11-02 17:42:34,262]\u001b[0m Trial 40 finished with value: 1.3602416262477637 and parameters: {'module__out_channels': 5, 'module__f_units_l0': 105, 'module__f_units_l1': 51}. Best is trial 11 with value: 0.7479922457858919.\u001b[0m\n",
      "\u001b[32m[I 2021-11-02 17:47:11,858]\u001b[0m Trial 41 finished with value: 3.3827098466157914 and parameters: {'module__out_channels': 2, 'module__f_units_l0': 12, 'module__f_units_l1': 60}. Best is trial 11 with value: 0.7479922457858919.\u001b[0m\n",
      "\u001b[32m[I 2021-11-02 17:52:17,355]\u001b[0m Trial 42 finished with value: 1.5874283940792082 and parameters: {'module__out_channels': 3, 'module__f_units_l0': 10, 'module__f_units_l1': 43}. Best is trial 11 with value: 0.7479922457858919.\u001b[0m\n",
      "\u001b[32m[I 2021-11-02 17:56:54,838]\u001b[0m Trial 43 finished with value: 0.9633524262905123 and parameters: {'module__out_channels': 2, 'module__f_units_l0': 29, 'module__f_units_l1': 51}. Best is trial 11 with value: 0.7479922457858919.\u001b[0m\n",
      "\u001b[32m[I 2021-11-02 18:01:32,287]\u001b[0m Trial 44 finished with value: 1.2542677253335714 and parameters: {'module__out_channels': 2, 'module__f_units_l0': 30, 'module__f_units_l1': 36}. Best is trial 11 with value: 0.7479922457858919.\u001b[0m\n",
      "\u001b[32m[I 2021-11-02 18:07:04,239]\u001b[0m Trial 45 finished with value: 1.229883315384388 and parameters: {'module__out_channels': 4, 'module__f_units_l0': 76, 'module__f_units_l1': 50}. Best is trial 11 with value: 0.7479922457858919.\u001b[0m\n",
      "\u001b[32m[I 2021-11-02 18:11:42,273]\u001b[0m Trial 46 finished with value: 1.34225016990304 and parameters: {'module__out_channels': 2, 'module__f_units_l0': 37, 'module__f_units_l1': 69}. Best is trial 11 with value: 0.7479922457858919.\u001b[0m\n",
      "\u001b[32m[I 2021-11-02 18:16:46,845]\u001b[0m Trial 47 finished with value: 1.3902400185763835 and parameters: {'module__out_channels': 3, 'module__f_units_l0': 23, 'module__f_units_l1': 31}. Best is trial 11 with value: 0.7479922457858919.\u001b[0m\n",
      "\u001b[32m[I 2021-11-02 18:23:05,796]\u001b[0m Trial 48 finished with value: 1.852266259729862 and parameters: {'module__out_channels': 5, 'module__f_units_l0': 212, 'module__f_units_l1': 42}. Best is trial 11 with value: 0.7479922457858919.\u001b[0m\n",
      "\u001b[32m[I 2021-11-02 18:29:30,125]\u001b[0m Trial 49 finished with value: 1.2977875141436233 and parameters: {'module__out_channels': 6, 'module__f_units_l0': 68, 'module__f_units_l1': 61}. Best is trial 11 with value: 0.7479922457858919.\u001b[0m\n"
     ]
    }
   ],
   "source": [
    "def objective(trial):\n",
    "\n",
    "    # Initialize classifier model\n",
    "    clf = OneVsRestClassifier(\n",
    "        NeuralNetClassifier(\n",
    "            module=SpotsBinaryModule,\n",
    "            module__n_conv_layers=2,\n",
    "            module__in_dim=64,\n",
    "            module__out_channels=trial.suggest_int(\"module__out_channels\", 2, 16),\n",
    "            module__kernel_size=3,\n",
    "            module__f_units_l0=trial.suggest_int(\"module__f_units_l0\", 10, 300),\n",
    "            module__f_units_l1=trial.suggest_int(\"module__f_units_l1\", 10, 100),\n",
    "            optimizer=torch.optim.Adam,\n",
    "            max_epochs=CNN_MAX_EPOCHS,\n",
    "            callbacks=[\n",
    "                EpochScoring(\n",
    "                    scoring=\"f1_macro\",\n",
    "                    name=\"valid_f1\",\n",
    "                    lower_is_better=False,\n",
    "                ),\n",
    "            ],\n",
    "            # Internal 80/20 train valid split\n",
    "            device=\"cuda\",\n",
    "            verbose=False,\n",
    "        ),\n",
    "    )\n",
    "\n",
    "    clf.fit(X_img_train, y_img_train)\n",
    "\n",
    "    # Avoid overfitting by evaluating internal 20% validation\n",
    "    return np.mean([e.history[-1, \"valid_loss\"] for e in clf.estimators_])\n",
    "\n",
    "\n",
    "# 3. Create a study object and optimize the objective function.\n",
    "cnn_study = optuna.create_study(\n",
    "    direction=\"minimize\",\n",
    "    study_name=\"cnn\",\n",
    "    storage=f\"sqlite:///{model_dir}/optuna.db\",\n",
    "    load_if_exists=True,\n",
    ")\n",
    "\n",
    "cnn_study.optimize(\n",
    "    objective, n_trials=N_TRIALS, n_jobs=1, show_progress_bar=True, gc_after_trial=False\n",
    ")"
   ]
  },
  {
   "cell_type": "markdown",
   "id": "170a9feb",
   "metadata": {
    "papermill": {
     "duration": 0.05077,
     "end_time": "2021-11-03T01:29:30.283770",
     "exception": false,
     "start_time": "2021-11-03T01:29:30.233000",
     "status": "completed"
    },
    "tags": []
   },
   "source": [
    "# Train Models"
   ]
  },
  {
   "cell_type": "code",
   "execution_count": 16,
   "id": "f19a74f6-cce8-405f-b35f-95d710e02613",
   "metadata": {
    "execution": {
     "iopub.execute_input": "2021-11-03T01:29:30.388985Z",
     "iopub.status.busy": "2021-11-03T01:29:30.388619Z",
     "iopub.status.idle": "2021-11-03T01:29:49.378313Z",
     "shell.execute_reply": "2021-11-03T01:29:49.378640Z"
    },
    "papermill": {
     "duration": 19.044727,
     "end_time": "2021-11-03T01:29:49.378763",
     "exception": false,
     "start_time": "2021-11-03T01:29:30.334036",
     "status": "completed"
    },
    "tags": []
   },
   "outputs": [],
   "source": [
    "rf_model = OneVsRestClassifier(\n",
    "    make_pipeline(\n",
    "        StandardScaler(),\n",
    "        XGBRFClassifier(\n",
    "            **rf_study.best_params,\n",
    "            use_label_encoder=False,\n",
    "            eval_metric=\"logloss\",  # set to hide warning\n",
    "        ),\n",
    "    )\n",
    ")\n",
    "\n",
    "rf_model.fit(X_train.numpy(), y_train.numpy())\n",
    "pickle.dump(rf_model, open(f\"{model_dir}/rf_model.pkl\", \"wb\"))"
   ]
  },
  {
   "cell_type": "code",
   "execution_count": 17,
   "id": "d7f06d06-35d8-495c-9d9e-07cf7200a803",
   "metadata": {
    "execution": {
     "iopub.execute_input": "2021-11-03T01:29:49.490294Z",
     "iopub.status.busy": "2021-11-03T01:29:49.489932Z",
     "iopub.status.idle": "2021-11-03T01:30:03.290974Z",
     "shell.execute_reply": "2021-11-03T01:30:03.291270Z"
    },
    "papermill": {
     "duration": 13.856152,
     "end_time": "2021-11-03T01:30:03.291390",
     "exception": false,
     "start_time": "2021-11-03T01:29:49.435238",
     "status": "completed"
    },
    "tags": []
   },
   "outputs": [],
   "source": [
    "svc_model = OneVsRestClassifier(\n",
    "    make_pipeline(\n",
    "        StandardScaler(),\n",
    "        SVC(\n",
    "            **svc_study.best_params,\n",
    "            probability=True,\n",
    "        ),\n",
    "    )\n",
    ")\n",
    "\n",
    "svc_model.fit(X_train.numpy(), y_train.numpy())\n",
    "pickle.dump(svc_model, open(f\"{model_dir}/svc_model.pkl\", \"wb\"))"
   ]
  },
  {
   "cell_type": "code",
   "execution_count": 18,
   "id": "de7cf298-d15e-4bd6-9ac9-f73c619d516b",
   "metadata": {
    "execution": {
     "iopub.execute_input": "2021-11-03T01:30:03.399827Z",
     "iopub.status.busy": "2021-11-03T01:30:03.399447Z",
     "iopub.status.idle": "2021-11-03T01:30:23.097891Z",
     "shell.execute_reply": "2021-11-03T01:30:23.098190Z"
    },
    "papermill": {
     "duration": 19.753184,
     "end_time": "2021-11-03T01:30:23.098301",
     "exception": false,
     "start_time": "2021-11-03T01:30:03.345117",
     "status": "completed"
    },
    "tags": []
   },
   "outputs": [],
   "source": [
    "# Train on 80%, 20% validation for early stopping\n",
    "nn_model = OneVsRestClassifier(\n",
    "    make_pipeline(\n",
    "        StandardScaler(),\n",
    "        NeuralNetClassifier(\n",
    "            module=FCModule,\n",
    "            **nn_study.best_params,\n",
    "            callbacks=[EarlyStopping(monitor=\"valid_loss\", patience=20)],\n",
    "            optimizer=torch.optim.Adam,\n",
    "            max_epochs=NN_MAX_EPOCHS,\n",
    "            device=\"cuda\",\n",
    "            verbose=False,\n",
    "        ),\n",
    "    ),\n",
    ")\n",
    "\n",
    "nn_model.fit(X_train, y_train)\n",
    "pickle.dump(nn_model, open(f\"{model_dir}/nn_model.pkl\", \"wb\"))"
   ]
  },
  {
   "cell_type": "code",
   "execution_count": 19,
   "id": "89bc78e1-87b8-41dc-b097-b471dc872e18",
   "metadata": {
    "execution": {
     "iopub.execute_input": "2021-11-03T01:30:23.207164Z",
     "iopub.status.busy": "2021-11-03T01:30:23.206791Z",
     "iopub.status.idle": "2021-11-03T01:31:21.230615Z",
     "shell.execute_reply": "2021-11-03T01:31:21.230905Z"
    },
    "papermill": {
     "duration": 58.080154,
     "end_time": "2021-11-03T01:31:21.231026",
     "exception": false,
     "start_time": "2021-11-03T01:30:23.150872",
     "status": "completed"
    },
    "tags": []
   },
   "outputs": [],
   "source": [
    "# Train on 80%, 20% validation for early stopping\n",
    "cnn_model = OneVsRestClassifier(\n",
    "    NeuralNetClassifier(\n",
    "        module=SpotsBinaryModule,\n",
    "        **cnn_study.best_params,\n",
    "        module__n_conv_layers=2,\n",
    "        module__in_dim=64,\n",
    "        module__kernel_size=3,\n",
    "        callbacks=[EarlyStopping(monitor=\"valid_loss\", patience=20)],\n",
    "        optimizer=torch.optim.Adam,\n",
    "        max_epochs=CNN_MAX_EPOCHS,\n",
    "        device=\"cuda\",\n",
    "        verbose=False,\n",
    "    ),\n",
    ")\n",
    "\n",
    "cnn_model.fit(X_img_train, y_img_train)\n",
    "pickle.dump(cnn_model, open(f\"{model_dir}/cnn_model.pkl\", \"wb\"))"
   ]
  }
 ],
 "metadata": {
  "kernelspec": {
   "display_name": "Python [conda env:spatial]",
   "language": "python",
   "name": "conda-env-spatial-py"
  },
  "language_info": {
   "codemirror_mode": {
    "name": "ipython",
    "version": 3
   },
   "file_extension": ".py",
   "mimetype": "text/x-python",
   "name": "python",
   "nbconvert_exporter": "python",
   "pygments_lexer": "ipython3",
   "version": "3.8.11"
  },
  "papermill": {
   "default_parameters": {},
   "duration": 25842.494898,
   "end_time": "2021-11-03T01:31:24.012673",
   "environment_variables": {},
   "exception": null,
   "input_path": "Multilabel_Training_CM_20211101.ipynb",
   "output_path": "nb_output/Multilabel_Training_CM_20211101.ipynb",
   "parameters": {
    "CNN_MAX_EPOCHS": 200,
    "DATE": 20211102,
    "NN_MAX_EPOCHS": 100,
    "N_TRIALS": 50
   },
   "start_time": "2021-11-02T18:20:41.517775",
   "version": "2.3.3"
  },
  "toc-autonumbering": true,
  "widgets": {
   "application/vnd.jupyter.widget-state+json": {
    "state": {
     "0a8d8460537649dd9843d4cb8291b9fa": {
      "model_module": "@jupyter-widgets/controls",
      "model_module_version": "1.5.0",
      "model_name": "HBoxModel",
      "state": {
       "_dom_classes": [],
       "_model_module": "@jupyter-widgets/controls",
       "_model_module_version": "1.5.0",
       "_model_name": "HBoxModel",
       "_view_count": null,
       "_view_module": "@jupyter-widgets/controls",
       "_view_module_version": "1.5.0",
       "_view_name": "HBoxView",
       "box_style": "",
       "children": [
        "IPY_MODEL_bb26775d70b249f2b7ad234b0b365169",
        "IPY_MODEL_860c315c8ef041178fb3a2f47ec37b25",
        "IPY_MODEL_8810a86b4236419abb1669792c3fa297"
       ],
       "layout": "IPY_MODEL_ee7349f17f614e16a48978927db923c5"
      }
     },
     "0b134190e6514aab8ad83e9499d27c65": {
      "model_module": "@jupyter-widgets/controls",
      "model_module_version": "1.5.0",
      "model_name": "DescriptionStyleModel",
      "state": {
       "_model_module": "@jupyter-widgets/controls",
       "_model_module_version": "1.5.0",
       "_model_name": "DescriptionStyleModel",
       "_view_count": null,
       "_view_module": "@jupyter-widgets/base",
       "_view_module_version": "1.2.0",
       "_view_name": "StyleView",
       "description_width": ""
      }
     },
     "0b7a53f1c1cc46a9954f9ea360382229": {
      "model_module": "@jupyter-widgets/controls",
      "model_module_version": "1.5.0",
      "model_name": "DescriptionStyleModel",
      "state": {
       "_model_module": "@jupyter-widgets/controls",
       "_model_module_version": "1.5.0",
       "_model_name": "DescriptionStyleModel",
       "_view_count": null,
       "_view_module": "@jupyter-widgets/base",
       "_view_module_version": "1.2.0",
       "_view_name": "StyleView",
       "description_width": ""
      }
     },
     "10379c21c29f44d88103084068bc3173": {
      "model_module": "@jupyter-widgets/base",
      "model_module_version": "1.2.0",
      "model_name": "LayoutModel",
      "state": {
       "_model_module": "@jupyter-widgets/base",
       "_model_module_version": "1.2.0",
       "_model_name": "LayoutModel",
       "_view_count": null,
       "_view_module": "@jupyter-widgets/base",
       "_view_module_version": "1.2.0",
       "_view_name": "LayoutView",
       "align_content": null,
       "align_items": null,
       "align_self": null,
       "border": null,
       "bottom": null,
       "display": null,
       "flex": null,
       "flex_flow": null,
       "grid_area": null,
       "grid_auto_columns": null,
       "grid_auto_flow": null,
       "grid_auto_rows": null,
       "grid_column": null,
       "grid_gap": null,
       "grid_row": null,
       "grid_template_areas": null,
       "grid_template_columns": null,
       "grid_template_rows": null,
       "height": null,
       "justify_content": null,
       "justify_items": null,
       "left": null,
       "margin": null,
       "max_height": null,
       "max_width": null,
       "min_height": null,
       "min_width": null,
       "object_fit": null,
       "object_position": null,
       "order": null,
       "overflow": null,
       "overflow_x": null,
       "overflow_y": null,
       "padding": null,
       "right": null,
       "top": null,
       "visibility": null,
       "width": null
      }
     },
     "142d1e240ae0465ba1476a3bc3e4f3a5": {
      "model_module": "@jupyter-widgets/controls",
      "model_module_version": "1.5.0",
      "model_name": "DescriptionStyleModel",
      "state": {
       "_model_module": "@jupyter-widgets/controls",
       "_model_module_version": "1.5.0",
       "_model_name": "DescriptionStyleModel",
       "_view_count": null,
       "_view_module": "@jupyter-widgets/base",
       "_view_module_version": "1.2.0",
       "_view_name": "StyleView",
       "description_width": ""
      }
     },
     "1a95b189f2c345fa895a4a57cdd01390": {
      "model_module": "@jupyter-widgets/base",
      "model_module_version": "1.2.0",
      "model_name": "LayoutModel",
      "state": {
       "_model_module": "@jupyter-widgets/base",
       "_model_module_version": "1.2.0",
       "_model_name": "LayoutModel",
       "_view_count": null,
       "_view_module": "@jupyter-widgets/base",
       "_view_module_version": "1.2.0",
       "_view_name": "LayoutView",
       "align_content": null,
       "align_items": null,
       "align_self": null,
       "border": null,
       "bottom": null,
       "display": null,
       "flex": null,
       "flex_flow": null,
       "grid_area": null,
       "grid_auto_columns": null,
       "grid_auto_flow": null,
       "grid_auto_rows": null,
       "grid_column": null,
       "grid_gap": null,
       "grid_row": null,
       "grid_template_areas": null,
       "grid_template_columns": null,
       "grid_template_rows": null,
       "height": null,
       "justify_content": null,
       "justify_items": null,
       "left": null,
       "margin": null,
       "max_height": null,
       "max_width": null,
       "min_height": null,
       "min_width": null,
       "object_fit": null,
       "object_position": null,
       "order": null,
       "overflow": null,
       "overflow_x": null,
       "overflow_y": null,
       "padding": null,
       "right": null,
       "top": null,
       "visibility": null,
       "width": null
      }
     },
     "2251a18f7923445f8ac04154ca68f554": {
      "model_module": "@jupyter-widgets/controls",
      "model_module_version": "1.5.0",
      "model_name": "ProgressStyleModel",
      "state": {
       "_model_module": "@jupyter-widgets/controls",
       "_model_module_version": "1.5.0",
       "_model_name": "ProgressStyleModel",
       "_view_count": null,
       "_view_module": "@jupyter-widgets/base",
       "_view_module_version": "1.2.0",
       "_view_name": "StyleView",
       "bar_color": null,
       "description_width": ""
      }
     },
     "22cb368bc7e047a3b87947aa2d48c740": {
      "model_module": "@jupyter-widgets/controls",
      "model_module_version": "1.5.0",
      "model_name": "DescriptionStyleModel",
      "state": {
       "_model_module": "@jupyter-widgets/controls",
       "_model_module_version": "1.5.0",
       "_model_name": "DescriptionStyleModel",
       "_view_count": null,
       "_view_module": "@jupyter-widgets/base",
       "_view_module_version": "1.2.0",
       "_view_name": "StyleView",
       "description_width": ""
      }
     },
     "2f2e043f8e724ccc8043de8124153f66": {
      "model_module": "@jupyter-widgets/controls",
      "model_module_version": "1.5.0",
      "model_name": "HBoxModel",
      "state": {
       "_dom_classes": [],
       "_model_module": "@jupyter-widgets/controls",
       "_model_module_version": "1.5.0",
       "_model_name": "HBoxModel",
       "_view_count": null,
       "_view_module": "@jupyter-widgets/controls",
       "_view_module_version": "1.5.0",
       "_view_name": "HBoxView",
       "box_style": "",
       "children": [
        "IPY_MODEL_e3310d5b61434d2ea943467206fe6770",
        "IPY_MODEL_c0cd846d1d5f481f8d18ee7f77d1bbea",
        "IPY_MODEL_f59f4a391709479fb2d85c7bd990153a"
       ],
       "layout": "IPY_MODEL_693eb06c27b84ec2b2f54450bb34945b"
      }
     },
     "3595d628768248e0a2248676976b4778": {
      "model_module": "@jupyter-widgets/controls",
      "model_module_version": "1.5.0",
      "model_name": "DescriptionStyleModel",
      "state": {
       "_model_module": "@jupyter-widgets/controls",
       "_model_module_version": "1.5.0",
       "_model_name": "DescriptionStyleModel",
       "_view_count": null,
       "_view_module": "@jupyter-widgets/base",
       "_view_module_version": "1.2.0",
       "_view_name": "StyleView",
       "description_width": ""
      }
     },
     "3946100bf40c412985a21739143da61f": {
      "model_module": "@jupyter-widgets/base",
      "model_module_version": "1.2.0",
      "model_name": "LayoutModel",
      "state": {
       "_model_module": "@jupyter-widgets/base",
       "_model_module_version": "1.2.0",
       "_model_name": "LayoutModel",
       "_view_count": null,
       "_view_module": "@jupyter-widgets/base",
       "_view_module_version": "1.2.0",
       "_view_name": "LayoutView",
       "align_content": null,
       "align_items": null,
       "align_self": null,
       "border": null,
       "bottom": null,
       "display": null,
       "flex": null,
       "flex_flow": null,
       "grid_area": null,
       "grid_auto_columns": null,
       "grid_auto_flow": null,
       "grid_auto_rows": null,
       "grid_column": null,
       "grid_gap": null,
       "grid_row": null,
       "grid_template_areas": null,
       "grid_template_columns": null,
       "grid_template_rows": null,
       "height": null,
       "justify_content": null,
       "justify_items": null,
       "left": null,
       "margin": null,
       "max_height": null,
       "max_width": null,
       "min_height": null,
       "min_width": null,
       "object_fit": null,
       "object_position": null,
       "order": null,
       "overflow": null,
       "overflow_x": null,
       "overflow_y": null,
       "padding": null,
       "right": null,
       "top": null,
       "visibility": null,
       "width": null
      }
     },
     "3eac82035d6142f4857734a442268d25": {
      "model_module": "@jupyter-widgets/base",
      "model_module_version": "1.2.0",
      "model_name": "LayoutModel",
      "state": {
       "_model_module": "@jupyter-widgets/base",
       "_model_module_version": "1.2.0",
       "_model_name": "LayoutModel",
       "_view_count": null,
       "_view_module": "@jupyter-widgets/base",
       "_view_module_version": "1.2.0",
       "_view_name": "LayoutView",
       "align_content": null,
       "align_items": null,
       "align_self": null,
       "border": null,
       "bottom": null,
       "display": null,
       "flex": null,
       "flex_flow": null,
       "grid_area": null,
       "grid_auto_columns": null,
       "grid_auto_flow": null,
       "grid_auto_rows": null,
       "grid_column": null,
       "grid_gap": null,
       "grid_row": null,
       "grid_template_areas": null,
       "grid_template_columns": null,
       "grid_template_rows": null,
       "height": null,
       "justify_content": null,
       "justify_items": null,
       "left": null,
       "margin": null,
       "max_height": null,
       "max_width": null,
       "min_height": null,
       "min_width": null,
       "object_fit": null,
       "object_position": null,
       "order": null,
       "overflow": null,
       "overflow_x": null,
       "overflow_y": null,
       "padding": null,
       "right": null,
       "top": null,
       "visibility": null,
       "width": null
      }
     },
     "5f003b9f343d4248b42667ce1856305f": {
      "model_module": "@jupyter-widgets/base",
      "model_module_version": "1.2.0",
      "model_name": "LayoutModel",
      "state": {
       "_model_module": "@jupyter-widgets/base",
       "_model_module_version": "1.2.0",
       "_model_name": "LayoutModel",
       "_view_count": null,
       "_view_module": "@jupyter-widgets/base",
       "_view_module_version": "1.2.0",
       "_view_name": "LayoutView",
       "align_content": null,
       "align_items": null,
       "align_self": null,
       "border": null,
       "bottom": null,
       "display": null,
       "flex": null,
       "flex_flow": null,
       "grid_area": null,
       "grid_auto_columns": null,
       "grid_auto_flow": null,
       "grid_auto_rows": null,
       "grid_column": null,
       "grid_gap": null,
       "grid_row": null,
       "grid_template_areas": null,
       "grid_template_columns": null,
       "grid_template_rows": null,
       "height": null,
       "justify_content": null,
       "justify_items": null,
       "left": null,
       "margin": null,
       "max_height": null,
       "max_width": null,
       "min_height": null,
       "min_width": null,
       "object_fit": null,
       "object_position": null,
       "order": null,
       "overflow": null,
       "overflow_x": null,
       "overflow_y": null,
       "padding": null,
       "right": null,
       "top": null,
       "visibility": null,
       "width": null
      }
     },
     "612364cf04684439be219bd96cb53299": {
      "model_module": "@jupyter-widgets/base",
      "model_module_version": "1.2.0",
      "model_name": "LayoutModel",
      "state": {
       "_model_module": "@jupyter-widgets/base",
       "_model_module_version": "1.2.0",
       "_model_name": "LayoutModel",
       "_view_count": null,
       "_view_module": "@jupyter-widgets/base",
       "_view_module_version": "1.2.0",
       "_view_name": "LayoutView",
       "align_content": null,
       "align_items": null,
       "align_self": null,
       "border": null,
       "bottom": null,
       "display": null,
       "flex": null,
       "flex_flow": null,
       "grid_area": null,
       "grid_auto_columns": null,
       "grid_auto_flow": null,
       "grid_auto_rows": null,
       "grid_column": null,
       "grid_gap": null,
       "grid_row": null,
       "grid_template_areas": null,
       "grid_template_columns": null,
       "grid_template_rows": null,
       "height": null,
       "justify_content": null,
       "justify_items": null,
       "left": null,
       "margin": null,
       "max_height": null,
       "max_width": null,
       "min_height": null,
       "min_width": null,
       "object_fit": null,
       "object_position": null,
       "order": null,
       "overflow": null,
       "overflow_x": null,
       "overflow_y": null,
       "padding": null,
       "right": null,
       "top": null,
       "visibility": null,
       "width": null
      }
     },
     "693eb06c27b84ec2b2f54450bb34945b": {
      "model_module": "@jupyter-widgets/base",
      "model_module_version": "1.2.0",
      "model_name": "LayoutModel",
      "state": {
       "_model_module": "@jupyter-widgets/base",
       "_model_module_version": "1.2.0",
       "_model_name": "LayoutModel",
       "_view_count": null,
       "_view_module": "@jupyter-widgets/base",
       "_view_module_version": "1.2.0",
       "_view_name": "LayoutView",
       "align_content": null,
       "align_items": null,
       "align_self": null,
       "border": null,
       "bottom": null,
       "display": null,
       "flex": null,
       "flex_flow": null,
       "grid_area": null,
       "grid_auto_columns": null,
       "grid_auto_flow": null,
       "grid_auto_rows": null,
       "grid_column": null,
       "grid_gap": null,
       "grid_row": null,
       "grid_template_areas": null,
       "grid_template_columns": null,
       "grid_template_rows": null,
       "height": null,
       "justify_content": null,
       "justify_items": null,
       "left": null,
       "margin": null,
       "max_height": null,
       "max_width": null,
       "min_height": null,
       "min_width": null,
       "object_fit": null,
       "object_position": null,
       "order": null,
       "overflow": null,
       "overflow_x": null,
       "overflow_y": null,
       "padding": null,
       "right": null,
       "top": null,
       "visibility": null,
       "width": null
      }
     },
     "719b3833da2145a7a26762566c70886f": {
      "model_module": "@jupyter-widgets/base",
      "model_module_version": "1.2.0",
      "model_name": "LayoutModel",
      "state": {
       "_model_module": "@jupyter-widgets/base",
       "_model_module_version": "1.2.0",
       "_model_name": "LayoutModel",
       "_view_count": null,
       "_view_module": "@jupyter-widgets/base",
       "_view_module_version": "1.2.0",
       "_view_name": "LayoutView",
       "align_content": null,
       "align_items": null,
       "align_self": null,
       "border": null,
       "bottom": null,
       "display": null,
       "flex": null,
       "flex_flow": null,
       "grid_area": null,
       "grid_auto_columns": null,
       "grid_auto_flow": null,
       "grid_auto_rows": null,
       "grid_column": null,
       "grid_gap": null,
       "grid_row": null,
       "grid_template_areas": null,
       "grid_template_columns": null,
       "grid_template_rows": null,
       "height": null,
       "justify_content": null,
       "justify_items": null,
       "left": null,
       "margin": null,
       "max_height": null,
       "max_width": null,
       "min_height": null,
       "min_width": null,
       "object_fit": null,
       "object_position": null,
       "order": null,
       "overflow": null,
       "overflow_x": null,
       "overflow_y": null,
       "padding": null,
       "right": null,
       "top": null,
       "visibility": null,
       "width": null
      }
     },
     "7977273857304d8b980241109c89390f": {
      "model_module": "@jupyter-widgets/base",
      "model_module_version": "1.2.0",
      "model_name": "LayoutModel",
      "state": {
       "_model_module": "@jupyter-widgets/base",
       "_model_module_version": "1.2.0",
       "_model_name": "LayoutModel",
       "_view_count": null,
       "_view_module": "@jupyter-widgets/base",
       "_view_module_version": "1.2.0",
       "_view_name": "LayoutView",
       "align_content": null,
       "align_items": null,
       "align_self": null,
       "border": null,
       "bottom": null,
       "display": null,
       "flex": null,
       "flex_flow": null,
       "grid_area": null,
       "grid_auto_columns": null,
       "grid_auto_flow": null,
       "grid_auto_rows": null,
       "grid_column": null,
       "grid_gap": null,
       "grid_row": null,
       "grid_template_areas": null,
       "grid_template_columns": null,
       "grid_template_rows": null,
       "height": null,
       "justify_content": null,
       "justify_items": null,
       "left": null,
       "margin": null,
       "max_height": null,
       "max_width": null,
       "min_height": null,
       "min_width": null,
       "object_fit": null,
       "object_position": null,
       "order": null,
       "overflow": null,
       "overflow_x": null,
       "overflow_y": null,
       "padding": null,
       "right": null,
       "top": null,
       "visibility": null,
       "width": null
      }
     },
     "8194850461f940d6a44aad94d83eff99": {
      "model_module": "@jupyter-widgets/base",
      "model_module_version": "1.2.0",
      "model_name": "LayoutModel",
      "state": {
       "_model_module": "@jupyter-widgets/base",
       "_model_module_version": "1.2.0",
       "_model_name": "LayoutModel",
       "_view_count": null,
       "_view_module": "@jupyter-widgets/base",
       "_view_module_version": "1.2.0",
       "_view_name": "LayoutView",
       "align_content": null,
       "align_items": null,
       "align_self": null,
       "border": null,
       "bottom": null,
       "display": null,
       "flex": null,
       "flex_flow": null,
       "grid_area": null,
       "grid_auto_columns": null,
       "grid_auto_flow": null,
       "grid_auto_rows": null,
       "grid_column": null,
       "grid_gap": null,
       "grid_row": null,
       "grid_template_areas": null,
       "grid_template_columns": null,
       "grid_template_rows": null,
       "height": null,
       "justify_content": null,
       "justify_items": null,
       "left": null,
       "margin": null,
       "max_height": null,
       "max_width": null,
       "min_height": null,
       "min_width": null,
       "object_fit": null,
       "object_position": null,
       "order": null,
       "overflow": null,
       "overflow_x": null,
       "overflow_y": null,
       "padding": null,
       "right": null,
       "top": null,
       "visibility": null,
       "width": null
      }
     },
     "839d0da77663408590c078b80ec67495": {
      "model_module": "@jupyter-widgets/controls",
      "model_module_version": "1.5.0",
      "model_name": "ProgressStyleModel",
      "state": {
       "_model_module": "@jupyter-widgets/controls",
       "_model_module_version": "1.5.0",
       "_model_name": "ProgressStyleModel",
       "_view_count": null,
       "_view_module": "@jupyter-widgets/base",
       "_view_module_version": "1.2.0",
       "_view_name": "StyleView",
       "bar_color": null,
       "description_width": ""
      }
     },
     "842bfb5062b5496ca2c3411cec0264f2": {
      "model_module": "@jupyter-widgets/controls",
      "model_module_version": "1.5.0",
      "model_name": "HBoxModel",
      "state": {
       "_dom_classes": [],
       "_model_module": "@jupyter-widgets/controls",
       "_model_module_version": "1.5.0",
       "_model_name": "HBoxModel",
       "_view_count": null,
       "_view_module": "@jupyter-widgets/controls",
       "_view_module_version": "1.5.0",
       "_view_name": "HBoxView",
       "box_style": "",
       "children": [
        "IPY_MODEL_97c8a92048ac46f29e23f65b6362e79c",
        "IPY_MODEL_b75a14ca9a064c43845d087b197b9df6",
        "IPY_MODEL_aff655e4055948f88bb71529074e592d"
       ],
       "layout": "IPY_MODEL_eceed1124cf64e7aa81fe785599b2b81"
      }
     },
     "860c315c8ef041178fb3a2f47ec37b25": {
      "model_module": "@jupyter-widgets/controls",
      "model_module_version": "1.5.0",
      "model_name": "FloatProgressModel",
      "state": {
       "_dom_classes": [],
       "_model_module": "@jupyter-widgets/controls",
       "_model_module_version": "1.5.0",
       "_model_name": "FloatProgressModel",
       "_view_count": null,
       "_view_module": "@jupyter-widgets/controls",
       "_view_module_version": "1.5.0",
       "_view_name": "ProgressView",
       "bar_style": "success",
       "description": "",
       "description_tooltip": null,
       "layout": "IPY_MODEL_aeef6f7293354635aca6765db5c0e1a8",
       "max": 50,
       "min": 0,
       "orientation": "horizontal",
       "style": "IPY_MODEL_acd9adb675884aab91d541099267aaf0",
       "value": 50
      }
     },
     "8810a86b4236419abb1669792c3fa297": {
      "model_module": "@jupyter-widgets/controls",
      "model_module_version": "1.5.0",
      "model_name": "HTMLModel",
      "state": {
       "_dom_classes": [],
       "_model_module": "@jupyter-widgets/controls",
       "_model_module_version": "1.5.0",
       "_model_name": "HTMLModel",
       "_view_count": null,
       "_view_module": "@jupyter-widgets/controls",
       "_view_module_version": "1.5.0",
       "_view_name": "HTMLView",
       "description": "",
       "description_tooltip": null,
       "layout": "IPY_MODEL_a45d75361140471cab19aafc46709920",
       "placeholder": "​",
       "style": "IPY_MODEL_0b7a53f1c1cc46a9954f9ea360382229",
       "value": " 50/50 [36:00&lt;00:00, 35.59s/it]"
      }
     },
     "97c8a92048ac46f29e23f65b6362e79c": {
      "model_module": "@jupyter-widgets/controls",
      "model_module_version": "1.5.0",
      "model_name": "HTMLModel",
      "state": {
       "_dom_classes": [],
       "_model_module": "@jupyter-widgets/controls",
       "_model_module_version": "1.5.0",
       "_model_name": "HTMLModel",
       "_view_count": null,
       "_view_module": "@jupyter-widgets/controls",
       "_view_module_version": "1.5.0",
       "_view_name": "HTMLView",
       "description": "",
       "description_tooltip": null,
       "layout": "IPY_MODEL_5f003b9f343d4248b42667ce1856305f",
       "placeholder": "​",
       "style": "IPY_MODEL_3595d628768248e0a2248676976b4778",
       "value": "100%"
      }
     },
     "98763d85ed944336ab4a452a29ce0c6b": {
      "model_module": "@jupyter-widgets/controls",
      "model_module_version": "1.5.0",
      "model_name": "ProgressStyleModel",
      "state": {
       "_model_module": "@jupyter-widgets/controls",
       "_model_module_version": "1.5.0",
       "_model_name": "ProgressStyleModel",
       "_view_count": null,
       "_view_module": "@jupyter-widgets/base",
       "_view_module_version": "1.2.0",
       "_view_name": "StyleView",
       "bar_color": null,
       "description_width": ""
      }
     },
     "a238e150970b41b7be28f20c35b598e9": {
      "model_module": "@jupyter-widgets/base",
      "model_module_version": "1.2.0",
      "model_name": "LayoutModel",
      "state": {
       "_model_module": "@jupyter-widgets/base",
       "_model_module_version": "1.2.0",
       "_model_name": "LayoutModel",
       "_view_count": null,
       "_view_module": "@jupyter-widgets/base",
       "_view_module_version": "1.2.0",
       "_view_name": "LayoutView",
       "align_content": null,
       "align_items": null,
       "align_self": null,
       "border": null,
       "bottom": null,
       "display": null,
       "flex": null,
       "flex_flow": null,
       "grid_area": null,
       "grid_auto_columns": null,
       "grid_auto_flow": null,
       "grid_auto_rows": null,
       "grid_column": null,
       "grid_gap": null,
       "grid_row": null,
       "grid_template_areas": null,
       "grid_template_columns": null,
       "grid_template_rows": null,
       "height": null,
       "justify_content": null,
       "justify_items": null,
       "left": null,
       "margin": null,
       "max_height": null,
       "max_width": null,
       "min_height": null,
       "min_width": null,
       "object_fit": null,
       "object_position": null,
       "order": null,
       "overflow": null,
       "overflow_x": null,
       "overflow_y": null,
       "padding": null,
       "right": null,
       "top": null,
       "visibility": null,
       "width": null
      }
     },
     "a45d75361140471cab19aafc46709920": {
      "model_module": "@jupyter-widgets/base",
      "model_module_version": "1.2.0",
      "model_name": "LayoutModel",
      "state": {
       "_model_module": "@jupyter-widgets/base",
       "_model_module_version": "1.2.0",
       "_model_name": "LayoutModel",
       "_view_count": null,
       "_view_module": "@jupyter-widgets/base",
       "_view_module_version": "1.2.0",
       "_view_name": "LayoutView",
       "align_content": null,
       "align_items": null,
       "align_self": null,
       "border": null,
       "bottom": null,
       "display": null,
       "flex": null,
       "flex_flow": null,
       "grid_area": null,
       "grid_auto_columns": null,
       "grid_auto_flow": null,
       "grid_auto_rows": null,
       "grid_column": null,
       "grid_gap": null,
       "grid_row": null,
       "grid_template_areas": null,
       "grid_template_columns": null,
       "grid_template_rows": null,
       "height": null,
       "justify_content": null,
       "justify_items": null,
       "left": null,
       "margin": null,
       "max_height": null,
       "max_width": null,
       "min_height": null,
       "min_width": null,
       "object_fit": null,
       "object_position": null,
       "order": null,
       "overflow": null,
       "overflow_x": null,
       "overflow_y": null,
       "padding": null,
       "right": null,
       "top": null,
       "visibility": null,
       "width": null
      }
     },
     "a7ece9ec1db24a6caeb3071b2e1a7b42": {
      "model_module": "@jupyter-widgets/controls",
      "model_module_version": "1.5.0",
      "model_name": "HTMLModel",
      "state": {
       "_dom_classes": [],
       "_model_module": "@jupyter-widgets/controls",
       "_model_module_version": "1.5.0",
       "_model_name": "HTMLModel",
       "_view_count": null,
       "_view_module": "@jupyter-widgets/controls",
       "_view_module_version": "1.5.0",
       "_view_name": "HTMLView",
       "description": "",
       "description_tooltip": null,
       "layout": "IPY_MODEL_7977273857304d8b980241109c89390f",
       "placeholder": "​",
       "style": "IPY_MODEL_22cb368bc7e047a3b87947aa2d48c740",
       "value": " 50/50 [5:10:17&lt;00:00, 345.58s/it]"
      }
     },
     "acd9adb675884aab91d541099267aaf0": {
      "model_module": "@jupyter-widgets/controls",
      "model_module_version": "1.5.0",
      "model_name": "ProgressStyleModel",
      "state": {
       "_model_module": "@jupyter-widgets/controls",
       "_model_module_version": "1.5.0",
       "_model_name": "ProgressStyleModel",
       "_view_count": null,
       "_view_module": "@jupyter-widgets/base",
       "_view_module_version": "1.2.0",
       "_view_name": "StyleView",
       "bar_color": null,
       "description_width": ""
      }
     },
     "ad95b4cb5c854885a1c97937bf120745": {
      "model_module": "@jupyter-widgets/controls",
      "model_module_version": "1.5.0",
      "model_name": "DescriptionStyleModel",
      "state": {
       "_model_module": "@jupyter-widgets/controls",
       "_model_module_version": "1.5.0",
       "_model_name": "DescriptionStyleModel",
       "_view_count": null,
       "_view_module": "@jupyter-widgets/base",
       "_view_module_version": "1.2.0",
       "_view_name": "StyleView",
       "description_width": ""
      }
     },
     "aeef6f7293354635aca6765db5c0e1a8": {
      "model_module": "@jupyter-widgets/base",
      "model_module_version": "1.2.0",
      "model_name": "LayoutModel",
      "state": {
       "_model_module": "@jupyter-widgets/base",
       "_model_module_version": "1.2.0",
       "_model_name": "LayoutModel",
       "_view_count": null,
       "_view_module": "@jupyter-widgets/base",
       "_view_module_version": "1.2.0",
       "_view_name": "LayoutView",
       "align_content": null,
       "align_items": null,
       "align_self": null,
       "border": null,
       "bottom": null,
       "display": null,
       "flex": null,
       "flex_flow": null,
       "grid_area": null,
       "grid_auto_columns": null,
       "grid_auto_flow": null,
       "grid_auto_rows": null,
       "grid_column": null,
       "grid_gap": null,
       "grid_row": null,
       "grid_template_areas": null,
       "grid_template_columns": null,
       "grid_template_rows": null,
       "height": null,
       "justify_content": null,
       "justify_items": null,
       "left": null,
       "margin": null,
       "max_height": null,
       "max_width": null,
       "min_height": null,
       "min_width": null,
       "object_fit": null,
       "object_position": null,
       "order": null,
       "overflow": null,
       "overflow_x": null,
       "overflow_y": null,
       "padding": null,
       "right": null,
       "top": null,
       "visibility": null,
       "width": null
      }
     },
     "aff655e4055948f88bb71529074e592d": {
      "model_module": "@jupyter-widgets/controls",
      "model_module_version": "1.5.0",
      "model_name": "HTMLModel",
      "state": {
       "_dom_classes": [],
       "_model_module": "@jupyter-widgets/controls",
       "_model_module_version": "1.5.0",
       "_model_name": "HTMLModel",
       "_view_count": null,
       "_view_module": "@jupyter-widgets/controls",
       "_view_module_version": "1.5.0",
       "_view_name": "HTMLView",
       "description": "",
       "description_tooltip": null,
       "layout": "IPY_MODEL_cc80206bdb5342c1af1c32edafb3c3f5",
       "placeholder": "​",
       "style": "IPY_MODEL_fa164db9afc048bdb165159a53246dff",
       "value": " 50/50 [28:29&lt;00:00, 26.82s/it]"
      }
     },
     "b75a14ca9a064c43845d087b197b9df6": {
      "model_module": "@jupyter-widgets/controls",
      "model_module_version": "1.5.0",
      "model_name": "FloatProgressModel",
      "state": {
       "_dom_classes": [],
       "_model_module": "@jupyter-widgets/controls",
       "_model_module_version": "1.5.0",
       "_model_name": "FloatProgressModel",
       "_view_count": null,
       "_view_module": "@jupyter-widgets/controls",
       "_view_module_version": "1.5.0",
       "_view_name": "ProgressView",
       "bar_style": "success",
       "description": "",
       "description_tooltip": null,
       "layout": "IPY_MODEL_10379c21c29f44d88103084068bc3173",
       "max": 50,
       "min": 0,
       "orientation": "horizontal",
       "style": "IPY_MODEL_98763d85ed944336ab4a452a29ce0c6b",
       "value": 50
      }
     },
     "bb26775d70b249f2b7ad234b0b365169": {
      "model_module": "@jupyter-widgets/controls",
      "model_module_version": "1.5.0",
      "model_name": "HTMLModel",
      "state": {
       "_dom_classes": [],
       "_model_module": "@jupyter-widgets/controls",
       "_model_module_version": "1.5.0",
       "_model_name": "HTMLModel",
       "_view_count": null,
       "_view_module": "@jupyter-widgets/controls",
       "_view_module_version": "1.5.0",
       "_view_name": "HTMLView",
       "description": "",
       "description_tooltip": null,
       "layout": "IPY_MODEL_a238e150970b41b7be28f20c35b598e9",
       "placeholder": "​",
       "style": "IPY_MODEL_0b134190e6514aab8ad83e9499d27c65",
       "value": "100%"
      }
     },
     "c0cd846d1d5f481f8d18ee7f77d1bbea": {
      "model_module": "@jupyter-widgets/controls",
      "model_module_version": "1.5.0",
      "model_name": "FloatProgressModel",
      "state": {
       "_dom_classes": [],
       "_model_module": "@jupyter-widgets/controls",
       "_model_module_version": "1.5.0",
       "_model_name": "FloatProgressModel",
       "_view_count": null,
       "_view_module": "@jupyter-widgets/controls",
       "_view_module_version": "1.5.0",
       "_view_name": "ProgressView",
       "bar_style": "success",
       "description": "",
       "description_tooltip": null,
       "layout": "IPY_MODEL_8194850461f940d6a44aad94d83eff99",
       "max": 50,
       "min": 0,
       "orientation": "horizontal",
       "style": "IPY_MODEL_2251a18f7923445f8ac04154ca68f554",
       "value": 50
      }
     },
     "cc80206bdb5342c1af1c32edafb3c3f5": {
      "model_module": "@jupyter-widgets/base",
      "model_module_version": "1.2.0",
      "model_name": "LayoutModel",
      "state": {
       "_model_module": "@jupyter-widgets/base",
       "_model_module_version": "1.2.0",
       "_model_name": "LayoutModel",
       "_view_count": null,
       "_view_module": "@jupyter-widgets/base",
       "_view_module_version": "1.2.0",
       "_view_name": "LayoutView",
       "align_content": null,
       "align_items": null,
       "align_self": null,
       "border": null,
       "bottom": null,
       "display": null,
       "flex": null,
       "flex_flow": null,
       "grid_area": null,
       "grid_auto_columns": null,
       "grid_auto_flow": null,
       "grid_auto_rows": null,
       "grid_column": null,
       "grid_gap": null,
       "grid_row": null,
       "grid_template_areas": null,
       "grid_template_columns": null,
       "grid_template_rows": null,
       "height": null,
       "justify_content": null,
       "justify_items": null,
       "left": null,
       "margin": null,
       "max_height": null,
       "max_width": null,
       "min_height": null,
       "min_width": null,
       "object_fit": null,
       "object_position": null,
       "order": null,
       "overflow": null,
       "overflow_x": null,
       "overflow_y": null,
       "padding": null,
       "right": null,
       "top": null,
       "visibility": null,
       "width": null
      }
     },
     "d57be81894b747d7be6f3ddf4aa5e10a": {
      "model_module": "@jupyter-widgets/controls",
      "model_module_version": "1.5.0",
      "model_name": "HTMLModel",
      "state": {
       "_dom_classes": [],
       "_model_module": "@jupyter-widgets/controls",
       "_model_module_version": "1.5.0",
       "_model_name": "HTMLModel",
       "_view_count": null,
       "_view_module": "@jupyter-widgets/controls",
       "_view_module_version": "1.5.0",
       "_view_name": "HTMLView",
       "description": "",
       "description_tooltip": null,
       "layout": "IPY_MODEL_1a95b189f2c345fa895a4a57cdd01390",
       "placeholder": "​",
       "style": "IPY_MODEL_ad95b4cb5c854885a1c97937bf120745",
       "value": "100%"
      }
     },
     "e3310d5b61434d2ea943467206fe6770": {
      "model_module": "@jupyter-widgets/controls",
      "model_module_version": "1.5.0",
      "model_name": "HTMLModel",
      "state": {
       "_dom_classes": [],
       "_model_module": "@jupyter-widgets/controls",
       "_model_module_version": "1.5.0",
       "_model_name": "HTMLModel",
       "_view_count": null,
       "_view_module": "@jupyter-widgets/controls",
       "_view_module_version": "1.5.0",
       "_view_name": "HTMLView",
       "description": "",
       "description_tooltip": null,
       "layout": "IPY_MODEL_3eac82035d6142f4857734a442268d25",
       "placeholder": "​",
       "style": "IPY_MODEL_e81c86fdac8c491d84712d79044c1a28",
       "value": "100%"
      }
     },
     "e81c86fdac8c491d84712d79044c1a28": {
      "model_module": "@jupyter-widgets/controls",
      "model_module_version": "1.5.0",
      "model_name": "DescriptionStyleModel",
      "state": {
       "_model_module": "@jupyter-widgets/controls",
       "_model_module_version": "1.5.0",
       "_model_name": "DescriptionStyleModel",
       "_view_count": null,
       "_view_module": "@jupyter-widgets/base",
       "_view_module_version": "1.2.0",
       "_view_name": "StyleView",
       "description_width": ""
      }
     },
     "ec0d5248bccf4f3aa616b946b82da04f": {
      "model_module": "@jupyter-widgets/controls",
      "model_module_version": "1.5.0",
      "model_name": "HBoxModel",
      "state": {
       "_dom_classes": [],
       "_model_module": "@jupyter-widgets/controls",
       "_model_module_version": "1.5.0",
       "_model_name": "HBoxModel",
       "_view_count": null,
       "_view_module": "@jupyter-widgets/controls",
       "_view_module_version": "1.5.0",
       "_view_name": "HBoxView",
       "box_style": "",
       "children": [
        "IPY_MODEL_d57be81894b747d7be6f3ddf4aa5e10a",
        "IPY_MODEL_fd919cc91a2e4bc5aa1b77d5f4126d5c",
        "IPY_MODEL_a7ece9ec1db24a6caeb3071b2e1a7b42"
       ],
       "layout": "IPY_MODEL_3946100bf40c412985a21739143da61f"
      }
     },
     "eceed1124cf64e7aa81fe785599b2b81": {
      "model_module": "@jupyter-widgets/base",
      "model_module_version": "1.2.0",
      "model_name": "LayoutModel",
      "state": {
       "_model_module": "@jupyter-widgets/base",
       "_model_module_version": "1.2.0",
       "_model_name": "LayoutModel",
       "_view_count": null,
       "_view_module": "@jupyter-widgets/base",
       "_view_module_version": "1.2.0",
       "_view_name": "LayoutView",
       "align_content": null,
       "align_items": null,
       "align_self": null,
       "border": null,
       "bottom": null,
       "display": null,
       "flex": null,
       "flex_flow": null,
       "grid_area": null,
       "grid_auto_columns": null,
       "grid_auto_flow": null,
       "grid_auto_rows": null,
       "grid_column": null,
       "grid_gap": null,
       "grid_row": null,
       "grid_template_areas": null,
       "grid_template_columns": null,
       "grid_template_rows": null,
       "height": null,
       "justify_content": null,
       "justify_items": null,
       "left": null,
       "margin": null,
       "max_height": null,
       "max_width": null,
       "min_height": null,
       "min_width": null,
       "object_fit": null,
       "object_position": null,
       "order": null,
       "overflow": null,
       "overflow_x": null,
       "overflow_y": null,
       "padding": null,
       "right": null,
       "top": null,
       "visibility": null,
       "width": null
      }
     },
     "ee7349f17f614e16a48978927db923c5": {
      "model_module": "@jupyter-widgets/base",
      "model_module_version": "1.2.0",
      "model_name": "LayoutModel",
      "state": {
       "_model_module": "@jupyter-widgets/base",
       "_model_module_version": "1.2.0",
       "_model_name": "LayoutModel",
       "_view_count": null,
       "_view_module": "@jupyter-widgets/base",
       "_view_module_version": "1.2.0",
       "_view_name": "LayoutView",
       "align_content": null,
       "align_items": null,
       "align_self": null,
       "border": null,
       "bottom": null,
       "display": null,
       "flex": null,
       "flex_flow": null,
       "grid_area": null,
       "grid_auto_columns": null,
       "grid_auto_flow": null,
       "grid_auto_rows": null,
       "grid_column": null,
       "grid_gap": null,
       "grid_row": null,
       "grid_template_areas": null,
       "grid_template_columns": null,
       "grid_template_rows": null,
       "height": null,
       "justify_content": null,
       "justify_items": null,
       "left": null,
       "margin": null,
       "max_height": null,
       "max_width": null,
       "min_height": null,
       "min_width": null,
       "object_fit": null,
       "object_position": null,
       "order": null,
       "overflow": null,
       "overflow_x": null,
       "overflow_y": null,
       "padding": null,
       "right": null,
       "top": null,
       "visibility": null,
       "width": null
      }
     },
     "f59f4a391709479fb2d85c7bd990153a": {
      "model_module": "@jupyter-widgets/controls",
      "model_module_version": "1.5.0",
      "model_name": "HTMLModel",
      "state": {
       "_dom_classes": [],
       "_model_module": "@jupyter-widgets/controls",
       "_model_module_version": "1.5.0",
       "_model_name": "HTMLModel",
       "_view_count": null,
       "_view_module": "@jupyter-widgets/controls",
       "_view_module_version": "1.5.0",
       "_view_name": "HTMLView",
       "description": "",
       "description_tooltip": null,
       "layout": "IPY_MODEL_719b3833da2145a7a26762566c70886f",
       "placeholder": "​",
       "style": "IPY_MODEL_142d1e240ae0465ba1476a3bc3e4f3a5",
       "value": " 50/50 [52:40&lt;00:00, 62.88s/it]"
      }
     },
     "fa164db9afc048bdb165159a53246dff": {
      "model_module": "@jupyter-widgets/controls",
      "model_module_version": "1.5.0",
      "model_name": "DescriptionStyleModel",
      "state": {
       "_model_module": "@jupyter-widgets/controls",
       "_model_module_version": "1.5.0",
       "_model_name": "DescriptionStyleModel",
       "_view_count": null,
       "_view_module": "@jupyter-widgets/base",
       "_view_module_version": "1.2.0",
       "_view_name": "StyleView",
       "description_width": ""
      }
     },
     "fd919cc91a2e4bc5aa1b77d5f4126d5c": {
      "model_module": "@jupyter-widgets/controls",
      "model_module_version": "1.5.0",
      "model_name": "FloatProgressModel",
      "state": {
       "_dom_classes": [],
       "_model_module": "@jupyter-widgets/controls",
       "_model_module_version": "1.5.0",
       "_model_name": "FloatProgressModel",
       "_view_count": null,
       "_view_module": "@jupyter-widgets/controls",
       "_view_module_version": "1.5.0",
       "_view_name": "ProgressView",
       "bar_style": "success",
       "description": "",
       "description_tooltip": null,
       "layout": "IPY_MODEL_612364cf04684439be219bd96cb53299",
       "max": 50,
       "min": 0,
       "orientation": "horizontal",
       "style": "IPY_MODEL_839d0da77663408590c078b80ec67495",
       "value": 50
      }
     }
    },
    "version_major": 2,
    "version_minor": 0
   }
  }
 },
 "nbformat": 4,
 "nbformat_minor": 5
}

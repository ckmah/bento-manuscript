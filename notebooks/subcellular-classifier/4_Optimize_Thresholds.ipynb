{
 "cells": [
  {
   "cell_type": "code",
   "execution_count": 1,
   "id": "be1cea70-e8df-4baa-9ce6-4f3632576dec",
   "metadata": {
    "execution": {
     "iopub.execute_input": "2022-05-14T23:42:29.833123Z",
     "iopub.status.busy": "2022-05-14T23:42:29.832854Z",
     "iopub.status.idle": "2022-05-14T23:43:52.197680Z",
     "shell.execute_reply": "2022-05-14T23:43:52.197240Z",
     "shell.execute_reply.started": "2022-05-14T23:42:29.833043Z"
    },
    "tags": []
   },
   "outputs": [],
   "source": [
    "import bento\n",
    "from sklearn.preprocessing import LabelBinarizer\n",
    "from sklearn.model_selection import train_test_split\n",
    "\n",
    "from sklearn.metrics import f1_score\n",
    "\n",
    "import pickle\n",
    "import numpy as np\n",
    "import seaborn as sns\n",
    "\n",
    "import matplotlib.pyplot as plt"
   ]
  },
  {
   "cell_type": "code",
   "execution_count": 2,
   "id": "451eed92-e6ba-4cba-b626-3116dfd4ade7",
   "metadata": {
    "execution": {
     "iopub.execute_input": "2022-05-14T23:43:52.198574Z",
     "iopub.status.busy": "2022-05-14T23:43:52.198463Z",
     "iopub.status.idle": "2022-05-14T23:44:06.343418Z",
     "shell.execute_reply": "2022-05-14T23:44:06.342995Z",
     "shell.execute_reply.started": "2022-05-14T23:43:52.198561Z"
    },
    "papermill": {
     "duration": 15.21969,
     "end_time": "2021-10-29T05:25:44.273403",
     "exception": false,
     "start_time": "2021-10-29T05:25:29.053713",
     "status": "completed"
    },
    "tags": []
   },
   "outputs": [
    {
     "data": {
      "text/plain": [
       "(10000, 1)"
      ]
     },
     "execution_count": 2,
     "metadata": {},
     "output_type": "execute_result"
    }
   ],
   "source": [
    "data = bento.io.read_h5ad(\"../../data/locfish/locfish_eval_20211019.h5ad\")\n",
    "data.shape"
   ]
  },
  {
   "cell_type": "code",
   "execution_count": 3,
   "id": "aa2f3542-b7f0-4b4b-a06d-6a575e32a1c8",
   "metadata": {
    "execution": {
     "iopub.execute_input": "2022-05-14T23:44:06.344131Z",
     "iopub.status.busy": "2022-05-14T23:44:06.344025Z",
     "iopub.status.idle": "2022-05-14T23:44:06.839864Z",
     "shell.execute_reply": "2022-05-14T23:44:06.839440Z",
     "shell.execute_reply.started": "2022-05-14T23:44:06.344118Z"
    },
    "tags": []
   },
   "outputs": [
    {
     "data": {
      "text/html": [
       "<div>\n",
       "<style scoped>\n",
       "    .dataframe tbody tr th:only-of-type {\n",
       "        vertical-align: middle;\n",
       "    }\n",
       "\n",
       "    .dataframe tbody tr th {\n",
       "        vertical-align: top;\n",
       "    }\n",
       "\n",
       "    .dataframe thead th {\n",
       "        text-align: right;\n",
       "    }\n",
       "</style>\n",
       "<table border=\"1\" class=\"dataframe\">\n",
       "  <thead>\n",
       "    <tr style=\"text-align: right;\">\n",
       "      <th></th>\n",
       "      <th></th>\n",
       "      <th>cell_inner_proximity</th>\n",
       "      <th>nucleus_inner_proximity</th>\n",
       "      <th>nucleus_outer_proximity</th>\n",
       "      <th>cell_inner_asymmetry</th>\n",
       "      <th>nucleus_inner_asymmetry</th>\n",
       "      <th>nucleus_outer_asymmetry</th>\n",
       "      <th>l_max</th>\n",
       "      <th>l_max_gradient</th>\n",
       "      <th>l_min_gradient</th>\n",
       "      <th>l_monotony</th>\n",
       "      <th>l_half_radius</th>\n",
       "      <th>point_dispersion</th>\n",
       "      <th>nucleus_dispersion</th>\n",
       "    </tr>\n",
       "    <tr>\n",
       "      <th>cell</th>\n",
       "      <th>gene</th>\n",
       "      <th></th>\n",
       "      <th></th>\n",
       "      <th></th>\n",
       "      <th></th>\n",
       "      <th></th>\n",
       "      <th></th>\n",
       "      <th></th>\n",
       "      <th></th>\n",
       "      <th></th>\n",
       "      <th></th>\n",
       "      <th></th>\n",
       "      <th></th>\n",
       "      <th></th>\n",
       "    </tr>\n",
       "  </thead>\n",
       "  <tbody>\n",
       "    <tr>\n",
       "      <th>mRNAlevel_100-cell2D-moderate-w1_HelaKyoto_Gapdh_2597_p20_cy3__Cell_CP_21__cell2D__25995-0</th>\n",
       "      <th>0</th>\n",
       "      <td>0.829736</td>\n",
       "      <td>0.851020</td>\n",
       "      <td>0.620248</td>\n",
       "      <td>0.818451</td>\n",
       "      <td>0.432661</td>\n",
       "      <td>0.943112</td>\n",
       "      <td>2.588469</td>\n",
       "      <td>0.595780</td>\n",
       "      <td>-0.628860</td>\n",
       "      <td>-0.997451</td>\n",
       "      <td>-22.290045</td>\n",
       "      <td>1.384136</td>\n",
       "      <td>1.328042</td>\n",
       "    </tr>\n",
       "    <tr>\n",
       "      <th>mRNAlevel_10-cell2D-weak-w1_HelaKyoto_Gapdh_2597_p21_cy3__Cell_CP_20__cell2D__28976-0</th>\n",
       "      <th>0</th>\n",
       "      <td>0.825032</td>\n",
       "      <td>0.787775</td>\n",
       "      <td>0.791329</td>\n",
       "      <td>0.734160</td>\n",
       "      <td>0.346235</td>\n",
       "      <td>0.786008</td>\n",
       "      <td>9.846196</td>\n",
       "      <td>2.569239</td>\n",
       "      <td>-1.000000</td>\n",
       "      <td>-0.959401</td>\n",
       "      <td>-13.461411</td>\n",
       "      <td>0.919131</td>\n",
       "      <td>0.927827</td>\n",
       "    </tr>\n",
       "    <tr>\n",
       "      <th>mRNAlevel_200-cell2D-moderate-w1_HelaKyoto_Gapdh_2597_p14_cy3__Cell_CP_28__cell2D__17988-0</th>\n",
       "      <th>0</th>\n",
       "      <td>0.827042</td>\n",
       "      <td>0.814255</td>\n",
       "      <td>0.598638</td>\n",
       "      <td>0.783305</td>\n",
       "      <td>0.312828</td>\n",
       "      <td>0.917744</td>\n",
       "      <td>2.198155</td>\n",
       "      <td>0.442243</td>\n",
       "      <td>-0.631441</td>\n",
       "      <td>-0.999329</td>\n",
       "      <td>-25.583847</td>\n",
       "      <td>1.348785</td>\n",
       "      <td>1.343532</td>\n",
       "    </tr>\n",
       "    <tr>\n",
       "      <th>mRNAlevel_100-cell2D-strong-w1_HelaKyoto_Gapdh_2597_p22_cy3__Cell_CP_26__cell2D__31657-0</th>\n",
       "      <th>0</th>\n",
       "      <td>0.891717</td>\n",
       "      <td>0.874524</td>\n",
       "      <td>0.589783</td>\n",
       "      <td>0.813132</td>\n",
       "      <td>0.376730</td>\n",
       "      <td>0.923885</td>\n",
       "      <td>2.112563</td>\n",
       "      <td>0.604250</td>\n",
       "      <td>-0.692180</td>\n",
       "      <td>-0.999425</td>\n",
       "      <td>-31.958605</td>\n",
       "      <td>1.295479</td>\n",
       "      <td>1.325677</td>\n",
       "    </tr>\n",
       "    <tr>\n",
       "      <th>mRNAlevel_400-cell2D-moderate-w1_HelaKyoto_Gapdh_2597_p14_cy3__Cell_CP_13__cell2D__16986-0</th>\n",
       "      <th>0</th>\n",
       "      <td>0.805541</td>\n",
       "      <td>0.835902</td>\n",
       "      <td>0.744821</td>\n",
       "      <td>0.789135</td>\n",
       "      <td>0.475451</td>\n",
       "      <td>0.903744</td>\n",
       "      <td>1.961746</td>\n",
       "      <td>0.393886</td>\n",
       "      <td>-0.579349</td>\n",
       "      <td>-0.998678</td>\n",
       "      <td>-14.650076</td>\n",
       "      <td>1.332575</td>\n",
       "      <td>1.337972</td>\n",
       "    </tr>\n",
       "  </tbody>\n",
       "</table>\n",
       "</div>"
      ],
      "text/plain": [
       "                                                         cell_inner_proximity  \\\n",
       "cell                                               gene                         \n",
       "mRNAlevel_100-cell2D-moderate-w1_HelaKyoto_Gapd... 0                 0.829736   \n",
       "mRNAlevel_10-cell2D-weak-w1_HelaKyoto_Gapdh_259... 0                 0.825032   \n",
       "mRNAlevel_200-cell2D-moderate-w1_HelaKyoto_Gapd... 0                 0.827042   \n",
       "mRNAlevel_100-cell2D-strong-w1_HelaKyoto_Gapdh_... 0                 0.891717   \n",
       "mRNAlevel_400-cell2D-moderate-w1_HelaKyoto_Gapd... 0                 0.805541   \n",
       "\n",
       "                                                         nucleus_inner_proximity  \\\n",
       "cell                                               gene                            \n",
       "mRNAlevel_100-cell2D-moderate-w1_HelaKyoto_Gapd... 0                    0.851020   \n",
       "mRNAlevel_10-cell2D-weak-w1_HelaKyoto_Gapdh_259... 0                    0.787775   \n",
       "mRNAlevel_200-cell2D-moderate-w1_HelaKyoto_Gapd... 0                    0.814255   \n",
       "mRNAlevel_100-cell2D-strong-w1_HelaKyoto_Gapdh_... 0                    0.874524   \n",
       "mRNAlevel_400-cell2D-moderate-w1_HelaKyoto_Gapd... 0                    0.835902   \n",
       "\n",
       "                                                         nucleus_outer_proximity  \\\n",
       "cell                                               gene                            \n",
       "mRNAlevel_100-cell2D-moderate-w1_HelaKyoto_Gapd... 0                    0.620248   \n",
       "mRNAlevel_10-cell2D-weak-w1_HelaKyoto_Gapdh_259... 0                    0.791329   \n",
       "mRNAlevel_200-cell2D-moderate-w1_HelaKyoto_Gapd... 0                    0.598638   \n",
       "mRNAlevel_100-cell2D-strong-w1_HelaKyoto_Gapdh_... 0                    0.589783   \n",
       "mRNAlevel_400-cell2D-moderate-w1_HelaKyoto_Gapd... 0                    0.744821   \n",
       "\n",
       "                                                         cell_inner_asymmetry  \\\n",
       "cell                                               gene                         \n",
       "mRNAlevel_100-cell2D-moderate-w1_HelaKyoto_Gapd... 0                 0.818451   \n",
       "mRNAlevel_10-cell2D-weak-w1_HelaKyoto_Gapdh_259... 0                 0.734160   \n",
       "mRNAlevel_200-cell2D-moderate-w1_HelaKyoto_Gapd... 0                 0.783305   \n",
       "mRNAlevel_100-cell2D-strong-w1_HelaKyoto_Gapdh_... 0                 0.813132   \n",
       "mRNAlevel_400-cell2D-moderate-w1_HelaKyoto_Gapd... 0                 0.789135   \n",
       "\n",
       "                                                         nucleus_inner_asymmetry  \\\n",
       "cell                                               gene                            \n",
       "mRNAlevel_100-cell2D-moderate-w1_HelaKyoto_Gapd... 0                    0.432661   \n",
       "mRNAlevel_10-cell2D-weak-w1_HelaKyoto_Gapdh_259... 0                    0.346235   \n",
       "mRNAlevel_200-cell2D-moderate-w1_HelaKyoto_Gapd... 0                    0.312828   \n",
       "mRNAlevel_100-cell2D-strong-w1_HelaKyoto_Gapdh_... 0                    0.376730   \n",
       "mRNAlevel_400-cell2D-moderate-w1_HelaKyoto_Gapd... 0                    0.475451   \n",
       "\n",
       "                                                         nucleus_outer_asymmetry  \\\n",
       "cell                                               gene                            \n",
       "mRNAlevel_100-cell2D-moderate-w1_HelaKyoto_Gapd... 0                    0.943112   \n",
       "mRNAlevel_10-cell2D-weak-w1_HelaKyoto_Gapdh_259... 0                    0.786008   \n",
       "mRNAlevel_200-cell2D-moderate-w1_HelaKyoto_Gapd... 0                    0.917744   \n",
       "mRNAlevel_100-cell2D-strong-w1_HelaKyoto_Gapdh_... 0                    0.923885   \n",
       "mRNAlevel_400-cell2D-moderate-w1_HelaKyoto_Gapd... 0                    0.903744   \n",
       "\n",
       "                                                            l_max  \\\n",
       "cell                                               gene             \n",
       "mRNAlevel_100-cell2D-moderate-w1_HelaKyoto_Gapd... 0     2.588469   \n",
       "mRNAlevel_10-cell2D-weak-w1_HelaKyoto_Gapdh_259... 0     9.846196   \n",
       "mRNAlevel_200-cell2D-moderate-w1_HelaKyoto_Gapd... 0     2.198155   \n",
       "mRNAlevel_100-cell2D-strong-w1_HelaKyoto_Gapdh_... 0     2.112563   \n",
       "mRNAlevel_400-cell2D-moderate-w1_HelaKyoto_Gapd... 0     1.961746   \n",
       "\n",
       "                                                         l_max_gradient  \\\n",
       "cell                                               gene                   \n",
       "mRNAlevel_100-cell2D-moderate-w1_HelaKyoto_Gapd... 0           0.595780   \n",
       "mRNAlevel_10-cell2D-weak-w1_HelaKyoto_Gapdh_259... 0           2.569239   \n",
       "mRNAlevel_200-cell2D-moderate-w1_HelaKyoto_Gapd... 0           0.442243   \n",
       "mRNAlevel_100-cell2D-strong-w1_HelaKyoto_Gapdh_... 0           0.604250   \n",
       "mRNAlevel_400-cell2D-moderate-w1_HelaKyoto_Gapd... 0           0.393886   \n",
       "\n",
       "                                                         l_min_gradient  \\\n",
       "cell                                               gene                   \n",
       "mRNAlevel_100-cell2D-moderate-w1_HelaKyoto_Gapd... 0          -0.628860   \n",
       "mRNAlevel_10-cell2D-weak-w1_HelaKyoto_Gapdh_259... 0          -1.000000   \n",
       "mRNAlevel_200-cell2D-moderate-w1_HelaKyoto_Gapd... 0          -0.631441   \n",
       "mRNAlevel_100-cell2D-strong-w1_HelaKyoto_Gapdh_... 0          -0.692180   \n",
       "mRNAlevel_400-cell2D-moderate-w1_HelaKyoto_Gapd... 0          -0.579349   \n",
       "\n",
       "                                                         l_monotony  \\\n",
       "cell                                               gene               \n",
       "mRNAlevel_100-cell2D-moderate-w1_HelaKyoto_Gapd... 0      -0.997451   \n",
       "mRNAlevel_10-cell2D-weak-w1_HelaKyoto_Gapdh_259... 0      -0.959401   \n",
       "mRNAlevel_200-cell2D-moderate-w1_HelaKyoto_Gapd... 0      -0.999329   \n",
       "mRNAlevel_100-cell2D-strong-w1_HelaKyoto_Gapdh_... 0      -0.999425   \n",
       "mRNAlevel_400-cell2D-moderate-w1_HelaKyoto_Gapd... 0      -0.998678   \n",
       "\n",
       "                                                         l_half_radius  \\\n",
       "cell                                               gene                  \n",
       "mRNAlevel_100-cell2D-moderate-w1_HelaKyoto_Gapd... 0        -22.290045   \n",
       "mRNAlevel_10-cell2D-weak-w1_HelaKyoto_Gapdh_259... 0        -13.461411   \n",
       "mRNAlevel_200-cell2D-moderate-w1_HelaKyoto_Gapd... 0        -25.583847   \n",
       "mRNAlevel_100-cell2D-strong-w1_HelaKyoto_Gapdh_... 0        -31.958605   \n",
       "mRNAlevel_400-cell2D-moderate-w1_HelaKyoto_Gapd... 0        -14.650076   \n",
       "\n",
       "                                                         point_dispersion  \\\n",
       "cell                                               gene                     \n",
       "mRNAlevel_100-cell2D-moderate-w1_HelaKyoto_Gapd... 0             1.384136   \n",
       "mRNAlevel_10-cell2D-weak-w1_HelaKyoto_Gapdh_259... 0             0.919131   \n",
       "mRNAlevel_200-cell2D-moderate-w1_HelaKyoto_Gapd... 0             1.348785   \n",
       "mRNAlevel_100-cell2D-strong-w1_HelaKyoto_Gapdh_... 0             1.295479   \n",
       "mRNAlevel_400-cell2D-moderate-w1_HelaKyoto_Gapd... 0             1.332575   \n",
       "\n",
       "                                                         nucleus_dispersion  \n",
       "cell                                               gene                      \n",
       "mRNAlevel_100-cell2D-moderate-w1_HelaKyoto_Gapd... 0               1.328042  \n",
       "mRNAlevel_10-cell2D-weak-w1_HelaKyoto_Gapdh_259... 0               0.927827  \n",
       "mRNAlevel_200-cell2D-moderate-w1_HelaKyoto_Gapd... 0               1.343532  \n",
       "mRNAlevel_100-cell2D-strong-w1_HelaKyoto_Gapdh_... 0               1.325677  \n",
       "mRNAlevel_400-cell2D-moderate-w1_HelaKyoto_Gapd... 0               1.337972  "
      ]
     },
     "execution_count": 3,
     "metadata": {},
     "output_type": "execute_result"
    }
   ],
   "source": [
    "cell_by_feature = bento.tl.get_features(data, bento.tl.PATTERN_MODEL_FEATURE_NAMES, min_count=0)\n",
    "cell_by_feature.head()"
   ]
  },
  {
   "cell_type": "markdown",
   "id": "672b18cf-d14d-4f96-9dd7-358d7bc4b24a",
   "metadata": {
    "papermill": {
     "duration": 0.023661,
     "end_time": "2021-10-29T05:25:44.431559",
     "exception": false,
     "start_time": "2021-10-29T05:25:44.407898",
     "status": "completed"
    },
    "tags": []
   },
   "source": [
    "## Prepare datasets"
   ]
  },
  {
   "cell_type": "code",
   "execution_count": 4,
   "id": "7b357694-e63d-4622-b49d-f728bd03aa53",
   "metadata": {
    "execution": {
     "iopub.execute_input": "2022-05-14T23:44:06.841169Z",
     "iopub.status.busy": "2022-05-14T23:44:06.840841Z",
     "iopub.status.idle": "2022-05-14T23:44:06.843304Z",
     "shell.execute_reply": "2022-05-14T23:44:06.842907Z",
     "shell.execute_reply.started": "2022-05-14T23:44:06.841153Z"
    },
    "papermill": {
     "duration": 0.027552,
     "end_time": "2021-10-29T05:25:44.483170",
     "exception": false,
     "start_time": "2021-10-29T05:25:44.455618",
     "status": "completed"
    },
    "tags": []
   },
   "outputs": [],
   "source": [
    "classes = bento._utils.PATTERN_NAMES"
   ]
  },
  {
   "cell_type": "markdown",
   "id": "f127518b-2eb4-40de-874f-2d60b07e3bf1",
   "metadata": {},
   "source": [
    "Split train/test features"
   ]
  },
  {
   "cell_type": "code",
   "execution_count": 5,
   "id": "38ad53ae-ec99-412f-ba30-174638444472",
   "metadata": {
    "execution": {
     "iopub.execute_input": "2022-05-14T23:44:06.844185Z",
     "iopub.status.busy": "2022-05-14T23:44:06.843869Z",
     "iopub.status.idle": "2022-05-14T23:44:06.939835Z",
     "shell.execute_reply": "2022-05-14T23:44:06.939375Z",
     "shell.execute_reply.started": "2022-05-14T23:44:06.844169Z"
    },
    "papermill": {
     "duration": 0.289696,
     "end_time": "2021-10-29T05:25:44.796241",
     "exception": false,
     "start_time": "2021-10-29T05:25:44.506545",
     "status": "completed"
    },
    "tags": []
   },
   "outputs": [],
   "source": [
    "X = cell_by_feature.to_numpy()\n",
    "\n",
    "le = LabelBinarizer().fit(classes)\n",
    "y = le.transform(data.to_df(\"pattern\").values.flatten())\n",
    "\n",
    "X_train, X_test, y_train, y_test = train_test_split(\n",
    "    X, y, train_size=0.8, random_state=22, stratify=y\n",
    ")"
   ]
  },
  {
   "cell_type": "code",
   "execution_count": 6,
   "id": "f3370327-d7af-4704-8fbd-30319fd54b24",
   "metadata": {
    "execution": {
     "iopub.execute_input": "2022-05-14T23:44:43.248497Z",
     "iopub.status.busy": "2022-05-14T23:44:43.248234Z",
     "iopub.status.idle": "2022-05-14T23:44:44.874237Z",
     "shell.execute_reply": "2022-05-14T23:44:44.873735Z",
     "shell.execute_reply.started": "2022-05-14T23:44:43.248470Z"
    },
    "tags": []
   },
   "outputs": [],
   "source": [
    "model = pickle.load(open(f\"../../models/rf_calib_20220514.pkl\", \"rb\"))"
   ]
  },
  {
   "cell_type": "code",
   "execution_count": 7,
   "id": "1eec4f47-f078-403f-a530-f949863afd01",
   "metadata": {
    "execution": {
     "iopub.execute_input": "2022-05-14T23:44:52.208624Z",
     "iopub.status.busy": "2022-05-14T23:44:52.208402Z",
     "iopub.status.idle": "2022-05-14T23:44:52.211280Z",
     "shell.execute_reply": "2022-05-14T23:44:52.210902Z",
     "shell.execute_reply.started": "2022-05-14T23:44:52.208608Z"
    },
    "tags": []
   },
   "outputs": [],
   "source": [
    "# apply threshold to positive probabilities to create labels\n",
    "def to_labels(pos_probs, threshold):\n",
    "    return (pos_probs >= threshold).astype('int')"
   ]
  },
  {
   "cell_type": "code",
   "execution_count": 16,
   "id": "ec186bcf-708e-4575-9ad0-ee34fb121998",
   "metadata": {
    "execution": {
     "iopub.execute_input": "2022-05-15T00:09:50.676370Z",
     "iopub.status.busy": "2022-05-15T00:09:50.676163Z",
     "iopub.status.idle": "2022-05-15T00:09:56.778647Z",
     "shell.execute_reply": "2022-05-15T00:09:56.778229Z",
     "shell.execute_reply.started": "2022-05-15T00:09:50.676354Z"
    },
    "tags": []
   },
   "outputs": [
    {
     "name": "stdout",
     "output_type": "stream",
     "text": [
      "Threshold=0.45300, F-Score=0.95285, Old=0.95155\n",
      "Threshold=0.43400, F-Score=0.76617, Old=0.75033\n",
      "Threshold=0.37900, F-Score=0.79075, Old=0.76364\n",
      "Threshold=0.43700, F-Score=0.97015, Old=0.96604\n",
      "Threshold=0.50500, F-Score=0.97494, Old=0.97372\n"
     ]
    },
    {
     "data": {
      "image/png": "[encoded data removed]",
      "text/plain": [
       "<Figure size 432x288 with 1 Axes>"
      ]
     },
     "metadata": {
      "needs_background": "light"
     },
     "output_type": "display_data"
    },
    {
     "data": {
      "image/png": "[encoded data removed]",
      "text/plain": [
       "<Figure size 432x288 with 1 Axes>"
      ]
     },
     "metadata": {
      "needs_background": "light"
     },
     "output_type": "display_data"
    },
    {
     "data": {
      "image/png": "[encoded data removed]",
      "text/plain": [
       "<Figure size 432x288 with 1 Axes>"
      ]
     },
     "metadata": {
      "needs_background": "light"
     },
     "output_type": "display_data"
    },
    {
     "data": {
      "image/png": "[encoded data removed]",
      "text/plain": [
       "<Figure size 432x288 with 1 Axes>"
      ]
     },
     "metadata": {
      "needs_background": "light"
     },
     "output_type": "display_data"
    },
    {
     "data": {
      "image/png": "[encoded data removed]",
      "text/plain": [
       "<Figure size 432x288 with 1 Axes>"
      ]
     },
     "metadata": {
      "needs_background": "light"
     },
     "output_type": "display_data"
    }
   ],
   "source": [
    "# keep probabilities for the positive outcome only\n",
    "# define thresholds\n",
    "thresholds = np.arange(0, 1, 0.001)\n",
    "\n",
    "yhat = model.predict_proba(X_test)\n",
    "\n",
    "for i in range(5):\n",
    "    probs = yhat[:, i]\n",
    "    plt.figure()\n",
    "    ax = sns.kdeplot(probs)\n",
    "    plt.xlim(0,1)\n",
    "    # evaluate each threshold\n",
    "    default_score = f1_score(y_test[:,i], to_labels(probs, 0.5))\n",
    "    scores = [f1_score(y_test[:,i], to_labels(probs, t)) for t in thresholds]\n",
    "    # get best threshold\n",
    "    ix = np.argmax(scores)\n",
    "    ax.axvline(thresholds[ix], linestyle='--')\n",
    "    ax.axvline(0.5,color='red')\n",
    "    print('Threshold=%.5f, F-Score=%.5f, Old=%.5f' % (thresholds[ix], scores[ix], default_score))"
   ]
  },
  {
   "cell_type": "code",
   "execution_count": null,
   "id": "f9dcf819-c4fe-4e98-b923-404bf7c0d662",
   "metadata": {},
   "outputs": [],
   "source": []
  }
 ],
 "metadata": {
  "kernelspec": {
   "display_name": "Python [conda env:spatial]",
   "language": "python",
   "name": "conda-env-spatial-py"
  },
  "language_info": {
   "codemirror_mode": {
    "name": "ipython",
    "version": 3
   },
   "file_extension": ".py",
   "mimetype": "text/x-python",
   "name": "python",
   "nbconvert_exporter": "python",
   "pygments_lexer": "ipython3",
   "version": "3.8.11"
  }
 },
 "nbformat": 4,
 "nbformat_minor": 5
}

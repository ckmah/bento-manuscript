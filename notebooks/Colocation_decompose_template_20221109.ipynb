{
 "cells": [
  {
   "cell_type": "code",
   "execution_count": 1,
   "id": "141975e5-4ebf-451b-b37d-1e7bc3ff4e0e",
   "metadata": {
    "tags": [
     "parameters"
    ]
   },
   "outputs": [],
   "source": [
    "dataset = \"merfish\"\n",
    "figdir = \"/home/ckmah/projects/bento-manuscript/figures\""
   ]
  },
  {
   "cell_type": "markdown",
   "id": "e6423c32-58c5-4087-b580-6678af8da677",
   "metadata": {},
   "source": [
    "# Setup"
   ]
  },
  {
   "cell_type": "code",
   "execution_count": 2,
   "id": "3ddc3547-9b00-4c92-ace0-e8c8aca47608",
   "metadata": {
    "papermill": {
     "duration": 33.761627,
     "end_time": "2022-11-10T00:30:18.099901",
     "exception": false,
     "start_time": "2022-11-10T00:29:44.338274",
     "status": "completed"
    },
    "tags": []
   },
   "outputs": [],
   "source": [
    "import bento as bt\n",
    "import matplotlib as mpl\n",
    "import matplotlib.pyplot as plt\n",
    "import numpy as np\n",
    "import pandas as pd\n",
    "import scanpy as sc\n",
    "import seaborn as sns\n",
    "import sparse\n",
    "# from hmr import Reloader\n",
    "from statannotations.Annotator import Annotator\n",
    "\n",
    "# bento = Reloader(bento)\n",
    "bt.settings.verbosity = 'INFO'"
   ]
  },
  {
   "cell_type": "markdown",
   "id": "ec5a9515-afec-477f-9f12-32fd355b6c99",
   "metadata": {},
   "source": [
    "# Quality Control"
   ]
  },
  {
   "cell_type": "code",
   "execution_count": 3,
   "id": "e70da883-6b64-456a-aa8c-f42c76fcd978",
   "metadata": {
    "papermill": {
     "duration": 3.279464,
     "end_time": "2022-11-10T00:30:21.386783",
     "exception": false,
     "start_time": "2022-11-10T00:30:18.107319",
     "status": "completed"
    },
    "tags": []
   },
   "outputs": [],
   "source": [
    "adata = bt.ds.load_dataset(dataset)"
   ]
  },
  {
   "cell_type": "markdown",
   "id": "ac826075-c813-448c-9b17-c9c3817f7761",
   "metadata": {
    "execution": {
     "iopub.execute_input": "2022-11-20T20:45:09.189352Z",
     "iopub.status.busy": "2022-11-20T20:45:09.188897Z",
     "iopub.status.idle": "2022-11-20T20:45:09.198213Z",
     "shell.execute_reply": "2022-11-20T20:45:09.195955Z",
     "shell.execute_reply.started": "2022-11-20T20:45:09.189315Z"
    }
   },
   "source": [
    "Remove cells without nuclei"
   ]
  },
  {
   "cell_type": "code",
   "execution_count": 4,
   "id": "8fca4894-98bc-4559-974a-742de5e17341",
   "metadata": {
    "tags": []
   },
   "outputs": [],
   "source": [
    "adata = adata[adata.obs[\"nucleus_shape\"] != None]"
   ]
  },
  {
   "cell_type": "markdown",
   "id": "7d0f172d-d056-477a-a38a-53d59a4fdb38",
   "metadata": {},
   "source": [
    "Check QC distributions"
   ]
  },
  {
   "cell_type": "code",
   "execution_count": 5,
   "id": "b19773ac-87f6-40fa-9bcb-2fa660bd8b17",
   "metadata": {
    "tags": []
   },
   "outputs": [
    {
     "data": {
      "application/vnd.jupyter.widget-view+json": {
       "model_id": "212eefc2c5034de8a2375b2eb8fcf187",
       "version_major": 2,
       "version_minor": 0
      },
      "text/plain": [
       "  0%|          | 0/3 [00:00<?, ?it/s]"
      ]
     },
     "metadata": {},
     "output_type": "display_data"
    },
    {
     "data": {
      "text/html": [
       "<pre style=\"white-space:pre;overflow-x:auto;line-height:normal;font-family:Menlo,'DejaVu Sans Mono',consolas,'Courier New',monospace\"><span style=\"color: #7fbfbf; text-decoration-color: #7fbfbf\">[11:17:13] </span><span style=\"color: #000080; text-decoration-color: #000080\">INFO    </span> AnnData object modified:                                                        <a href=\"file:///projects/ps-yeolab4/spatial_project/bento-tools/bento/_settings.py\" target=\"_blank\"><span style=\"color: #7f7f7f; text-decoration-color: #7f7f7f\">_settings.py</span></a><span style=\"color: #7f7f7f; text-decoration-color: #7f7f7f\">:</span><a href=\"file:///projects/ps-yeolab4/spatial_project/bento-tools/bento/_settings.py#48\" target=\"_blank\"><span style=\"color: #7f7f7f; text-decoration-color: #7f7f7f\">48</span></a>\n",
       "<span style=\"color: #7fbfbf; text-decoration-color: #7fbfbf\">           </span>             obs:                                                                        <span style=\"color: #7f7f7f; text-decoration-color: #7f7f7f\">               </span>\n",
       "<span style=\"color: #7fbfbf; text-decoration-color: #7fbfbf\">           </span>                 + cell_aspect_ratio, cell_area, cell_density                            <span style=\"color: #7f7f7f; text-decoration-color: #7f7f7f\">               </span>\n",
       "</pre>\n"
      ],
      "text/plain": [
       "\u001b[2;36m[11:17:13]\u001b[0m\u001b[2;36m \u001b[0m\u001b[34mINFO    \u001b[0m AnnData object modified:                                                        \u001b]8;id=569914;file:///projects/ps-yeolab4/spatial_project/bento-tools/bento/_settings.py\u001b\\\u001b[2m_settings.py\u001b[0m\u001b]8;;\u001b\\\u001b[2m:\u001b[0m\u001b]8;id=759563;file:///projects/ps-yeolab4/spatial_project/bento-tools/bento/_settings.py#48\u001b\\\u001b[2m48\u001b[0m\u001b]8;;\u001b\\\n",
       "\u001b[2;36m           \u001b[0m             obs:                                                                        \u001b[2m               \u001b[0m\n",
       "\u001b[2;36m           \u001b[0m                 + cell_aspect_ratio, cell_area, cell_density                            \u001b[2m               \u001b[0m\n"
      ]
     },
     "metadata": {},
     "output_type": "display_data"
    },
    {
     "data": {
      "application/vnd.jupyter.widget-view+json": {
       "model_id": "cd2a466d4a0246fe9635fb58cb8f4d23",
       "version_major": 2,
       "version_minor": 0
      },
      "text/plain": [
       "  0%|          | 0/3 [00:00<?, ?it/s]"
      ]
     },
     "metadata": {},
     "output_type": "display_data"
    },
    {
     "data": {
      "text/html": [
       "<pre style=\"white-space:pre;overflow-x:auto;line-height:normal;font-family:Menlo,'DejaVu Sans Mono',consolas,'Courier New',monospace\"><span style=\"color: #7fbfbf; text-decoration-color: #7fbfbf\">[11:17:20] </span><span style=\"color: #000080; text-decoration-color: #000080\">INFO    </span> AnnData object modified:                                                        <a href=\"file:///projects/ps-yeolab4/spatial_project/bento-tools/bento/_settings.py\" target=\"_blank\"><span style=\"color: #7f7f7f; text-decoration-color: #7f7f7f\">_settings.py</span></a><span style=\"color: #7f7f7f; text-decoration-color: #7f7f7f\">:</span><a href=\"file:///projects/ps-yeolab4/spatial_project/bento-tools/bento/_settings.py#48\" target=\"_blank\"><span style=\"color: #7f7f7f; text-decoration-color: #7f7f7f\">48</span></a>\n",
       "<span style=\"color: #7fbfbf; text-decoration-color: #7fbfbf\">           </span>             obs:                                                                        <span style=\"color: #7f7f7f; text-decoration-color: #7f7f7f\">               </span>\n",
       "<span style=\"color: #7fbfbf; text-decoration-color: #7fbfbf\">           </span>                 + nucleus_area, nucleus_aspect_ratio, nucleus_density                   <span style=\"color: #7f7f7f; text-decoration-color: #7f7f7f\">               </span>\n",
       "</pre>\n"
      ],
      "text/plain": [
       "\u001b[2;36m[11:17:20]\u001b[0m\u001b[2;36m \u001b[0m\u001b[34mINFO    \u001b[0m AnnData object modified:                                                        \u001b]8;id=221969;file:///projects/ps-yeolab4/spatial_project/bento-tools/bento/_settings.py\u001b\\\u001b[2m_settings.py\u001b[0m\u001b]8;;\u001b\\\u001b[2m:\u001b[0m\u001b]8;id=496696;file:///projects/ps-yeolab4/spatial_project/bento-tools/bento/_settings.py#48\u001b\\\u001b[2m48\u001b[0m\u001b]8;;\u001b\\\n",
       "\u001b[2;36m           \u001b[0m             obs:                                                                        \u001b[2m               \u001b[0m\n",
       "\u001b[2;36m           \u001b[0m                 + nucleus_area, nucleus_aspect_ratio, nucleus_density                   \u001b[2m               \u001b[0m\n"
      ]
     },
     "metadata": {},
     "output_type": "display_data"
    }
   ],
   "source": [
    "bt.tl.obs_stats(adata)\n"
   ]
  },
  {
   "cell_type": "code",
   "execution_count": 6,
   "id": "820bc9f6-5990-4591-bd9f-0b5878f51144",
   "metadata": {
    "tags": []
   },
   "outputs": [
    {
     "name": "stdout",
     "output_type": "stream",
     "text": [
      "Saved to /home/ckmah/projects/bento-manuscript/figures/merfish_obs_stats.svg\n"
     ]
    },
    {
     "data": {
      "image/png": "[encoded data removed]",
      "text/plain": [
       "<Figure size 521.111x450 with 6 Axes>"
      ]
     },
     "metadata": {},
     "output_type": "display_data"
    }
   ],
   "source": [
    "bt.pl.obs_stats(\n",
    "    adata, rug=True, fname=f\"{figdir}/merfish_obs_stats.svg\"\n",
    ")"
   ]
  },
  {
   "cell_type": "markdown",
   "id": "c59dd619-09d9-456a-a7b7-3f1f5bb3b697",
   "metadata": {},
   "source": [
    "## Filter out poor quality cells.\n",
    "- remove cells with extremely small nuclei"
   ]
  },
  {
   "cell_type": "markdown",
   "id": "426f46ac-98ab-4bd6-8e81-10ed3e5230eb",
   "metadata": {},
   "source": [
    "Perform filtering"
   ]
  },
  {
   "cell_type": "code",
   "execution_count": 7,
   "id": "1c4fbde8-732b-4ae7-84f1-10bda1c52a70",
   "metadata": {
    "tags": []
   },
   "outputs": [],
   "source": [
    "adata = adata[adata.obs[\"nucleus_area\"] >= 10000]"
   ]
  },
  {
   "cell_type": "code",
   "execution_count": 8,
   "id": "b5cb29af-da80-46ee-9192-6c207af6be9e",
   "metadata": {
    "tags": []
   },
   "outputs": [
    {
     "data": {
      "text/plain": [
       "(1000, 135)"
      ]
     },
     "execution_count": 8,
     "metadata": {},
     "output_type": "execute_result"
    }
   ],
   "source": [
    "adata.shape"
   ]
  },
  {
   "cell_type": "code",
   "execution_count": 9,
   "id": "57aeacf3-3145-4770-b0e7-6a8e2d590ca2",
   "metadata": {
    "tags": []
   },
   "outputs": [],
   "source": [
    "bt.pl.obs_stats(adata)"
   ]
  },
  {
   "cell_type": "markdown",
   "id": "770a3d39-9675-4856-80a6-511baaacb203",
   "metadata": {},
   "source": [
    "# Compare clq distributions"
   ]
  },
  {
   "cell_type": "code",
   "execution_count": 10,
   "id": "a0c14974-e84f-4933-b276-561db7e40385",
   "metadata": {
    "papermill": {
     "duration": 3.279464,
     "end_time": "2022-11-10T00:30:21.386783",
     "exception": false,
     "start_time": "2022-11-10T00:30:18.107319",
     "status": "completed"
    },
    "tags": []
   },
   "outputs": [],
   "source": [
    "adata.obs[\"cytoplasm_shape\"] = bt.geo.get_shape(\n",
    "    adata, \"cell_shape\"\n",
    ") - bt.geo.get_shape(adata, \"nucleus_shape\")\n",
    "\n",
    "adata.uns[\"points\"][\"cytoplasm\"] = adata.uns[\"points\"][\"nucleus\"] != -1"
   ]
  },
  {
   "cell_type": "code",
   "execution_count": 11,
   "id": "11d4ac06-f810-41d2-acaa-596f43c1c570",
   "metadata": {
    "tags": []
   },
   "outputs": [
    {
     "data": {
      "application/vnd.jupyter.widget-view+json": {
       "model_id": "a5f99310ec474a8aa23566e48c3e03e5",
       "version_major": 2,
       "version_minor": 0
      },
      "text/plain": [
       "nucleus_shape:   0%|          | 0/1000 [00:00<?, ?it/s]"
      ]
     },
     "metadata": {},
     "output_type": "display_data"
    },
    {
     "data": {
      "application/vnd.jupyter.widget-view+json": {
       "model_id": "67066a8170ca4edaa4da717f1404f69b",
       "version_major": 2,
       "version_minor": 0
      },
      "text/plain": [
       "cytoplasm_shape:   0%|          | 0/1000 [00:00<?, ?it/s]"
      ]
     },
     "metadata": {},
     "output_type": "display_data"
    },
    {
     "data": {
      "text/html": [
       "<pre style=\"white-space:pre;overflow-x:auto;line-height:normal;font-family:Menlo,'DejaVu Sans Mono',consolas,'Courier New',monospace\"><span style=\"color: #7fbfbf; text-decoration-color: #7fbfbf\">[11:21:59] </span><span style=\"color: #000080; text-decoration-color: #000080\">INFO    </span> AnnData object modified:                                                        <a href=\"file:///projects/ps-yeolab4/spatial_project/bento-tools/bento/_settings.py\" target=\"_blank\"><span style=\"color: #7f7f7f; text-decoration-color: #7f7f7f\">_settings.py</span></a><span style=\"color: #7f7f7f; text-decoration-color: #7f7f7f\">:</span><a href=\"file:///projects/ps-yeolab4/spatial_project/bento-tools/bento/_settings.py#48\" target=\"_blank\"><span style=\"color: #7f7f7f; text-decoration-color: #7f7f7f\">48</span></a>\n",
       "<span style=\"color: #7fbfbf; text-decoration-color: #7fbfbf\">           </span>             uns:                                                                        <span style=\"color: #7f7f7f; text-decoration-color: #7f7f7f\">               </span>\n",
       "<span style=\"color: #7fbfbf; text-decoration-color: #7fbfbf\">           </span>                 + clq                                                                   <span style=\"color: #7f7f7f; text-decoration-color: #7f7f7f\">               </span>\n",
       "</pre>\n"
      ],
      "text/plain": [
       "\u001b[2;36m[11:21:59]\u001b[0m\u001b[2;36m \u001b[0m\u001b[34mINFO    \u001b[0m AnnData object modified:                                                        \u001b]8;id=868363;file:///projects/ps-yeolab4/spatial_project/bento-tools/bento/_settings.py\u001b\\\u001b[2m_settings.py\u001b[0m\u001b]8;;\u001b\\\u001b[2m:\u001b[0m\u001b]8;id=602568;file:///projects/ps-yeolab4/spatial_project/bento-tools/bento/_settings.py#48\u001b\\\u001b[2m48\u001b[0m\u001b]8;;\u001b\\\n",
       "\u001b[2;36m           \u001b[0m             uns:                                                                        \u001b[2m               \u001b[0m\n",
       "\u001b[2;36m           \u001b[0m                 + clq                                                                   \u001b[2m               \u001b[0m\n"
      ]
     },
     "metadata": {},
     "output_type": "display_data"
    }
   ],
   "source": [
    "shapes = [\"nucleus_shape\", \"cytoplasm_shape\"]\n",
    "bt.tl.coloc_quotient(\n",
    "    adata, shapes=shapes, radius=20, min_points=10, min_cells=0\n",
    ")"
   ]
  },
  {
   "cell_type": "code",
   "execution_count": 12,
   "id": "36b85966-0f6b-462c-9875-306acf0b1eb0",
   "metadata": {
    "tags": []
   },
   "outputs": [],
   "source": [
    "clq_long = []\n",
    "for shape, clq in adata.uns[\"clq\"].items():\n",
    "    clq[\"compartment\"] = shape.split(\"_\")[0]\n",
    "    clq_long.append(clq)\n",
    "\n",
    "clq_long = pd.concat(clq_long, axis=0)\n",
    "clq_long[\"self\"] = clq_long[\"gene\"] == clq_long[\"neighbor\"]\n",
    "clq_long[\"self\"] = clq_long[\"self\"].map({True: \"self\", False: \"pair\"})\n",
    "# clq_long[\"log(clq + 1)\"] = np.log2(clq_long[\"clq\"] + 1)\n",
    "clq_long = clq_long.query(\"clq > 0\").sort_values(\"log_clq\")"
   ]
  },
  {
   "cell_type": "code",
   "execution_count": 13,
   "id": "6076bd3e-c06a-485e-9968-194a42a9176a",
   "metadata": {
    "tags": []
   },
   "outputs": [
    {
     "data": {
      "text/plain": [
       "<seaborn.matrix.ClusterGrid at 0x2b632669afa0>"
      ]
     },
     "execution_count": 13,
     "metadata": {},
     "output_type": "execute_result"
    }
   ],
   "source": [
    "sns.clustermap(\n",
    "    clq_long.groupby([\"compartment\", \"gene\", \"neighbor\"])\n",
    "    .agg(\"mean\")\n",
    "    .reset_index()\n",
    "    .query('compartment == \"nucleus\"')\n",
    "    .pivot(index=\"gene\", columns=\"neighbor\", values=\"log_clq\")\n",
    "    .fillna(0),\n",
    "    cmap=\"RdBu_r\",\n",
    "    center=0,\n",
    "    z_score=1,\n",
    ")"
   ]
  },
  {
   "cell_type": "code",
   "execution_count": 14,
   "id": "b00b56ab-9aa8-4ff4-97e9-3b8561f43f5b",
   "metadata": {
    "tags": []
   },
   "outputs": [
    {
     "data": {
      "text/plain": [
       "compartment  self\n",
       "cytoplasm    pair    12254430\n",
       "             self      115187\n",
       "nucleus      pair     6778402\n",
       "             self       86474\n",
       "dtype: int64"
      ]
     },
     "execution_count": 14,
     "metadata": {},
     "output_type": "execute_result"
    }
   ],
   "source": [
    "clq_long.groupby([\"compartment\", \"self\"]).size()"
   ]
  },
  {
   "cell_type": "code",
   "execution_count": 15,
   "id": "17ba3ed8-6e0f-480c-9d36-afbe0b63aa87",
   "metadata": {
    "tags": []
   },
   "outputs": [
    {
     "name": "stdout",
     "output_type": "stream",
     "text": [
      "p-value annotation legend:\n",
      "      ns: p <= 1.00e+00\n",
      "       *: 1.00e-02 < p <= 5.00e-02\n",
      "      **: 1.00e-03 < p <= 1.00e-02\n",
      "     ***: 1.00e-04 < p <= 1.00e-03\n",
      "    ****: p <= 1.00e-04\n",
      "\n",
      "self_cytoplasm vs. self_nucleus: Mann-Whitney-Wilcoxon test two-sided with Benjamini-Hochberg correction, P_val:0.000e+00 U_stat=6.086e+09\n",
      "pair_cytoplasm vs. pair_nucleus: Mann-Whitney-Wilcoxon test two-sided with Benjamini-Hochberg correction, P_val:0.000e+00 U_stat=4.224e+13\n",
      "pair_cytoplasm vs. self_cytoplasm: Mann-Whitney-Wilcoxon test two-sided with Benjamini-Hochberg correction, P_val:0.000e+00 U_stat=1.876e+11\n",
      "pair_nucleus vs. self_nucleus: Mann-Whitney-Wilcoxon test two-sided with Benjamini-Hochberg correction, P_val:0.000e+00 U_stat=8.757e+10\n"
     ]
    }
   ],
   "source": [
    "fig, ax = plt.subplots(1, 1, figsize=(5, 3))\n",
    "sns.violinplot(\n",
    "    data=clq_long,\n",
    "    y=\"self\",\n",
    "    x=\"log_clq\",\n",
    "    hue=\"compartment\",\n",
    "    split=True,\n",
    "    inner=\"quartiles\",\n",
    "    cut=0,\n",
    "    palette=sns.color_palette([\"#DDD\", \"#AAA\"]),\n",
    "    ax=ax,\n",
    ")\n",
    "\n",
    "# n_samples = clq_long.groupby([\"compartment\", \"self\"]).size()\n",
    "\n",
    "# xticklabels = []\n",
    "# for compartment, row in zip(\n",
    "#     clq_long[\"compartment\"].unique(), n_samples.values.reshape(2, 2)\n",
    "# ):\n",
    "#     cat_ns = \", \".join([str(v) for v in row])\n",
    "#     xticklabels.append(\"n = \" + cat_ns + f\"\\n{compartment}\")\n",
    "\n",
    "# ax.set_xticklabels(xticklabels)\n",
    "ax.set_ylabel(None)\n",
    "ax.legend()\n",
    "sns.despine()\n",
    "\n",
    "# Pairwise tests of significance (with correction)\n",
    "pairs = [\n",
    "    ((\"pair\", \"cytoplasm\"), (\"self\", \"cytoplasm\")),\n",
    "    ((\"pair\", \"nucleus\"), (\"self\", \"nucleus\")),\n",
    "    ((\"pair\", \"cytoplasm\"), (\"pair\", \"nucleus\")),\n",
    "    ((\"self\", \"cytoplasm\"), (\"self\", \"nucleus\")),\n",
    "]\n",
    "\n",
    "annotator = Annotator(\n",
    "    ax,\n",
    "    pairs,\n",
    "    data=clq_long,\n",
    "    y=\"self\",\n",
    "    x=\"log_clq\",\n",
    "    hue=\"compartment\",\n",
    "    orient=\"h\",\n",
    ")\n",
    "annotator.configure(\n",
    "    test=\"Mann-Whitney\",\n",
    "    comparisons_correction=\"Benjamini-Hochberg\",\n",
    "    text_format=\"star\",\n",
    "    loc=\"outside\",\n",
    ")\n",
    "annotator.apply_and_annotate()\n",
    "\n",
    "fname = f\"{figdir}/{dataset}_clq_dists.svg\"\n",
    "rc = {\"svg.fonttype\": \"none\", \"font.family\": \"Arial\"}\n",
    "with plt.rc_context(rc):\n",
    "    plt.savefig(fname, dpi=400)"
   ]
  },
  {
   "cell_type": "code",
   "execution_count": 16,
   "id": "39d55926",
   "metadata": {},
   "outputs": [
    {
     "data": {
      "text/html": [
       "<div>\n",
       "<style scoped>\n",
       "    .dataframe tbody tr th:only-of-type {\n",
       "        vertical-align: middle;\n",
       "    }\n",
       "\n",
       "    .dataframe tbody tr th {\n",
       "        vertical-align: top;\n",
       "    }\n",
       "\n",
       "    .dataframe thead th {\n",
       "        text-align: right;\n",
       "    }\n",
       "</style>\n",
       "<table border=\"1\" class=\"dataframe\">\n",
       "  <thead>\n",
       "    <tr style=\"text-align: right;\">\n",
       "      <th></th>\n",
       "      <th>clq</th>\n",
       "      <th>log_clq</th>\n",
       "    </tr>\n",
       "    <tr>\n",
       "      <th>compartment</th>\n",
       "      <th></th>\n",
       "      <th></th>\n",
       "    </tr>\n",
       "  </thead>\n",
       "  <tbody>\n",
       "    <tr>\n",
       "      <th>cytoplasm</th>\n",
       "      <td>163.395849</td>\n",
       "      <td>7.064930</td>\n",
       "    </tr>\n",
       "    <tr>\n",
       "      <th>nucleus</th>\n",
       "      <td>166.780195</td>\n",
       "      <td>7.218959</td>\n",
       "    </tr>\n",
       "  </tbody>\n",
       "</table>\n",
       "</div>"
      ],
      "text/plain": [
       "                    clq   log_clq\n",
       "compartment                      \n",
       "cytoplasm    163.395849  7.064930\n",
       "nucleus      166.780195  7.218959"
      ]
     },
     "execution_count": 16,
     "metadata": {},
     "output_type": "execute_result"
    }
   ],
   "source": [
    "clq_long.query('gene == \"MALAT1\" & neighbor == \"CNR2\"').groupby(\"compartment\").mean()"
   ]
  },
  {
   "cell_type": "markdown",
   "id": "69b6dd36-f5fc-4647-90d8-6c9812da3332",
   "metadata": {},
   "source": [
    "# Tensor decomposition"
   ]
  },
  {
   "cell_type": "code",
   "execution_count": 17,
   "id": "302c15ff-60aa-4be4-a10a-a12e69c384f1",
   "metadata": {
    "papermill": {
     "duration": 524.992983,
     "end_time": "2022-11-10T00:39:06.387170",
     "exception": false,
     "start_time": "2022-11-10T00:30:21.394187",
     "status": "completed"
    },
    "tags": []
   },
   "outputs": [
    {
     "name": "stdout",
     "output_type": "stream",
     "text": [
      "Preparing tensor...\n",
      "(2, 1000, 18225)\n",
      ":running: Decomposing tensor...\n"
     ]
    },
    {
     "data": {
      "application/vnd.jupyter.widget-view+json": {
       "model_id": "c5e4891e4944426fbc0663b8b66d0a7b",
       "version_major": 2,
       "version_minor": 0
      },
      "text/plain": [
       "Device cpu:   0%|          | 0/9 [00:00<?, ?it/s]"
      ]
     },
     "metadata": {},
     "output_type": "display_data"
    },
    {
     "name": "stdout",
     "output_type": "stream",
     "text": [
      ":heavy_check_mark: Done.\n"
     ]
    },
    {
     "data": {
      "text/html": [
       "<pre style=\"white-space:pre;overflow-x:auto;line-height:normal;font-family:Menlo,'DejaVu Sans Mono',consolas,'Courier New',monospace\"><span style=\"color: #7fbfbf; text-decoration-color: #7fbfbf\">[12:11:14] </span><span style=\"color: #000080; text-decoration-color: #000080\">INFO    </span> AnnData object modified:                                                        <a href=\"file:///projects/ps-yeolab4/spatial_project/bento-tools/bento/_settings.py\" target=\"_blank\"><span style=\"color: #7f7f7f; text-decoration-color: #7f7f7f\">_settings.py</span></a><span style=\"color: #7f7f7f; text-decoration-color: #7f7f7f\">:</span><a href=\"file:///projects/ps-yeolab4/spatial_project/bento-tools/bento/_settings.py#48\" target=\"_blank\"><span style=\"color: #7f7f7f; text-decoration-color: #7f7f7f\">48</span></a>\n",
       "<span style=\"color: #7fbfbf; text-decoration-color: #7fbfbf\">           </span>             uns:                                                                        <span style=\"color: #7f7f7f; text-decoration-color: #7f7f7f\">               </span>\n",
       "<span style=\"color: #7fbfbf; text-decoration-color: #7fbfbf\">           </span>                 + tensor_names, tensor_labels, factors, tensor, factors_error           <span style=\"color: #7f7f7f; text-decoration-color: #7f7f7f\">               </span>\n",
       "</pre>\n"
      ],
      "text/plain": [
       "\u001b[2;36m[12:11:14]\u001b[0m\u001b[2;36m \u001b[0m\u001b[34mINFO    \u001b[0m AnnData object modified:                                                        \u001b]8;id=996600;file:///projects/ps-yeolab4/spatial_project/bento-tools/bento/_settings.py\u001b\\\u001b[2m_settings.py\u001b[0m\u001b]8;;\u001b\\\u001b[2m:\u001b[0m\u001b]8;id=732713;file:///projects/ps-yeolab4/spatial_project/bento-tools/bento/_settings.py#48\u001b\\\u001b[2m48\u001b[0m\u001b]8;;\u001b\\\n",
       "\u001b[2;36m           \u001b[0m             uns:                                                                        \u001b[2m               \u001b[0m\n",
       "\u001b[2;36m           \u001b[0m                 + tensor_names, tensor_labels, factors, tensor, factors_error           \u001b[2m               \u001b[0m\n"
      ]
     },
     "metadata": {},
     "output_type": "display_data"
    }
   ],
   "source": [
    "\n",
    "ranks = range(2, 11)\n",
    "# ranks = [4]\n",
    "bt.tl.colocation(adata, ranks, iterations=3)"
   ]
  },
  {
   "cell_type": "code",
   "execution_count": 18,
   "id": "da8bc931-2130-41d4-8f05-ef505421a750",
   "metadata": {
    "papermill": {
     "duration": 5.299951,
     "end_time": "2022-11-10T00:39:11.693575",
     "exception": false,
     "start_time": "2022-11-10T00:39:06.393624",
     "status": "completed"
    },
    "tags": []
   },
   "outputs": [
    {
     "name": "stdout",
     "output_type": "stream",
     "text": [
      "Saved to /home/ckmah/projects/bento-manuscript/figures/merfish_coloc4.svg\n",
      "Saved to /home/ckmah/projects/bento-manuscript/figures/merfish_coloc4_self.svg\n"
     ]
    }
   ],
   "source": [
    "\n",
    "rank = 4\n",
    "\n",
    "hm_params = dict(\n",
    "    show_labels=[True, False, True],\n",
    "    z_score=[False, True, True],\n",
    "    cluster=[False, True, False],\n",
    ")\n",
    "\n",
    "# without self pairs\n",
    "bt.pl.colocation(\n",
    "    adata,\n",
    "    rank,\n",
    "    n_top=[None, None, 5],\n",
    "    cut=[None, 5, None],\n",
    "    self_pairs=False,\n",
    "    **hm_params,\n",
    "    fname=f\"{figdir}/{dataset}_coloc{rank}.svg\",\n",
    ")\n",
    "\n",
    "# only self pairs\n",
    "bt.pl.colocation(\n",
    "    adata,\n",
    "    rank,\n",
    "    n_top=[None, None, 5],\n",
    "    cut=[None, 5, None],\n",
    "    self_pairs=\"only\",\n",
    "    **hm_params,\n",
    "    fname=f\"{figdir}/{dataset}_coloc{rank}_self.svg\",\n",
    ")"
   ]
  },
  {
   "cell_type": "markdown",
   "id": "568ca0ea-b083-4cb2-adb3-2270e56dd261",
   "metadata": {},
   "source": [
    "# Cell associations"
   ]
  },
  {
   "cell_type": "code",
   "execution_count": 19,
   "id": "3c574646-7c4c-4003-afb2-4d3e5132cb5f",
   "metadata": {
    "tags": []
   },
   "outputs": [],
   "source": [
    "cell_factor = pd.DataFrame(\n",
    "    adata.uns[\"factors\"][rank][1], index=adata.uns[\"tensor_labels\"][\"cell\"]\n",
    ")\n",
    "\n",
    "cell_morphology = adata.obs[\n",
    "    [\n",
    "        \"cell_area\",\n",
    "        \"cell_density\",\n",
    "        \"cell_aspect_ratio\",\n",
    "        \"nucleus_area\",\n",
    "        \"nucleus_density\",\n",
    "        \"nucleus_aspect_ratio\",\n",
    "    ]\n",
    "]\n",
    "\n",
    "cell_all = cell_factor.join(cell_morphology)"
   ]
  },
  {
   "cell_type": "code",
   "execution_count": 20,
   "id": "5113db16-fc2d-45a8-91c4-522324e46afe",
   "metadata": {
    "tags": []
   },
   "outputs": [],
   "source": [
    "from scipy.stats import pearsonr\n",
    "from statsmodels.stats.multitest import multipletests\n",
    "\n",
    "cell_corr = cell_all.corr(\"pearson\")\n",
    "pval = cell_all.corr(method=lambda x, y: pearsonr(x, y)[1]) - np.eye(\n",
    "    *cell_corr.shape\n",
    ")\n",
    "qval = multipletests(pval.values.flatten())[1].reshape(pval.shape)\n",
    "qval = pd.DataFrame(qval, index=pval.index, columns=pval.columns)\n",
    "\n",
    "p = qval.applymap(lambda x: \"\".join([\"*\" for t in [0.001] if x <= t]))"
   ]
  },
  {
   "cell_type": "code",
   "execution_count": 21,
   "id": "0edd61de-1bf4-4aac-97e6-3c49feabeeee",
   "metadata": {
    "tags": []
   },
   "outputs": [
    {
     "ename": "PermissionError",
     "evalue": "[Errno 13] Permission denied: '/merfish_cell_corr.svg'",
     "output_type": "error",
     "traceback": [
      "\u001b[0;31m---------------------------------------------------------------------------\u001b[0m",
      "\u001b[0;31mPermissionError\u001b[0m                           Traceback (most recent call last)",
      "Cell \u001b[0;32mIn[21], line 17\u001b[0m\n\u001b[1;32m     15\u001b[0m rc \u001b[38;5;241m=\u001b[39m {\u001b[38;5;124m\"\u001b[39m\u001b[38;5;124msvg.fonttype\u001b[39m\u001b[38;5;124m\"\u001b[39m: \u001b[38;5;124m\"\u001b[39m\u001b[38;5;124mnone\u001b[39m\u001b[38;5;124m\"\u001b[39m, \u001b[38;5;124m\"\u001b[39m\u001b[38;5;124mfont.family\u001b[39m\u001b[38;5;124m\"\u001b[39m: \u001b[38;5;124m\"\u001b[39m\u001b[38;5;124mArial\u001b[39m\u001b[38;5;124m\"\u001b[39m}\n\u001b[1;32m     16\u001b[0m \u001b[38;5;28;01mwith\u001b[39;00m plt\u001b[38;5;241m.\u001b[39mrc_context(rc):\n\u001b[0;32m---> 17\u001b[0m     \u001b[43mplt\u001b[49m\u001b[38;5;241;43m.\u001b[39;49m\u001b[43msavefig\u001b[49m\u001b[43m(\u001b[49m\u001b[43mfname\u001b[49m\u001b[43m,\u001b[49m\u001b[43m \u001b[49m\u001b[43mdpi\u001b[49m\u001b[38;5;241;43m=\u001b[39;49m\u001b[38;5;241;43m400\u001b[39;49m\u001b[43m)\u001b[49m\n",
      "File \u001b[0;32m~/miniconda3/envs/bentov2/lib/python3.9/site-packages/matplotlib/pyplot.py:1023\u001b[0m, in \u001b[0;36msavefig\u001b[0;34m(*args, **kwargs)\u001b[0m\n\u001b[1;32m   1020\u001b[0m \u001b[38;5;129m@_copy_docstring_and_deprecators\u001b[39m(Figure\u001b[38;5;241m.\u001b[39msavefig)\n\u001b[1;32m   1021\u001b[0m \u001b[38;5;28;01mdef\u001b[39;00m \u001b[38;5;21msavefig\u001b[39m(\u001b[38;5;241m*\u001b[39margs, \u001b[38;5;241m*\u001b[39m\u001b[38;5;241m*\u001b[39mkwargs):\n\u001b[1;32m   1022\u001b[0m     fig \u001b[38;5;241m=\u001b[39m gcf()\n\u001b[0;32m-> 1023\u001b[0m     res \u001b[38;5;241m=\u001b[39m \u001b[43mfig\u001b[49m\u001b[38;5;241;43m.\u001b[39;49m\u001b[43msavefig\u001b[49m\u001b[43m(\u001b[49m\u001b[38;5;241;43m*\u001b[39;49m\u001b[43margs\u001b[49m\u001b[43m,\u001b[49m\u001b[43m \u001b[49m\u001b[38;5;241;43m*\u001b[39;49m\u001b[38;5;241;43m*\u001b[39;49m\u001b[43mkwargs\u001b[49m\u001b[43m)\u001b[49m\n\u001b[1;32m   1024\u001b[0m     fig\u001b[38;5;241m.\u001b[39mcanvas\u001b[38;5;241m.\u001b[39mdraw_idle()  \u001b[38;5;66;03m# Need this if 'transparent=True', to reset colors.\u001b[39;00m\n\u001b[1;32m   1025\u001b[0m     \u001b[38;5;28;01mreturn\u001b[39;00m res\n",
      "File \u001b[0;32m~/miniconda3/envs/bentov2/lib/python3.9/site-packages/matplotlib/figure.py:3343\u001b[0m, in \u001b[0;36mFigure.savefig\u001b[0;34m(self, fname, transparent, **kwargs)\u001b[0m\n\u001b[1;32m   3339\u001b[0m     \u001b[38;5;28;01mfor\u001b[39;00m ax \u001b[38;5;129;01min\u001b[39;00m \u001b[38;5;28mself\u001b[39m\u001b[38;5;241m.\u001b[39maxes:\n\u001b[1;32m   3340\u001b[0m         stack\u001b[38;5;241m.\u001b[39menter_context(\n\u001b[1;32m   3341\u001b[0m             ax\u001b[38;5;241m.\u001b[39mpatch\u001b[38;5;241m.\u001b[39m_cm_set(facecolor\u001b[38;5;241m=\u001b[39m\u001b[38;5;124m'\u001b[39m\u001b[38;5;124mnone\u001b[39m\u001b[38;5;124m'\u001b[39m, edgecolor\u001b[38;5;241m=\u001b[39m\u001b[38;5;124m'\u001b[39m\u001b[38;5;124mnone\u001b[39m\u001b[38;5;124m'\u001b[39m))\n\u001b[0;32m-> 3343\u001b[0m \u001b[38;5;28;43mself\u001b[39;49m\u001b[38;5;241;43m.\u001b[39;49m\u001b[43mcanvas\u001b[49m\u001b[38;5;241;43m.\u001b[39;49m\u001b[43mprint_figure\u001b[49m\u001b[43m(\u001b[49m\u001b[43mfname\u001b[49m\u001b[43m,\u001b[49m\u001b[43m \u001b[49m\u001b[38;5;241;43m*\u001b[39;49m\u001b[38;5;241;43m*\u001b[39;49m\u001b[43mkwargs\u001b[49m\u001b[43m)\u001b[49m\n",
      "File \u001b[0;32m~/miniconda3/envs/bentov2/lib/python3.9/site-packages/matplotlib/backend_bases.py:2366\u001b[0m, in \u001b[0;36mFigureCanvasBase.print_figure\u001b[0;34m(self, filename, dpi, facecolor, edgecolor, orientation, format, bbox_inches, pad_inches, bbox_extra_artists, backend, **kwargs)\u001b[0m\n\u001b[1;32m   2362\u001b[0m \u001b[38;5;28;01mtry\u001b[39;00m:\n\u001b[1;32m   2363\u001b[0m     \u001b[38;5;66;03m# _get_renderer may change the figure dpi (as vector formats\u001b[39;00m\n\u001b[1;32m   2364\u001b[0m     \u001b[38;5;66;03m# force the figure dpi to 72), so we need to set it again here.\u001b[39;00m\n\u001b[1;32m   2365\u001b[0m     \u001b[38;5;28;01mwith\u001b[39;00m cbook\u001b[38;5;241m.\u001b[39m_setattr_cm(\u001b[38;5;28mself\u001b[39m\u001b[38;5;241m.\u001b[39mfigure, dpi\u001b[38;5;241m=\u001b[39mdpi):\n\u001b[0;32m-> 2366\u001b[0m         result \u001b[38;5;241m=\u001b[39m \u001b[43mprint_method\u001b[49m\u001b[43m(\u001b[49m\n\u001b[1;32m   2367\u001b[0m \u001b[43m            \u001b[49m\u001b[43mfilename\u001b[49m\u001b[43m,\u001b[49m\n\u001b[1;32m   2368\u001b[0m \u001b[43m            \u001b[49m\u001b[43mfacecolor\u001b[49m\u001b[38;5;241;43m=\u001b[39;49m\u001b[43mfacecolor\u001b[49m\u001b[43m,\u001b[49m\n\u001b[1;32m   2369\u001b[0m \u001b[43m            \u001b[49m\u001b[43medgecolor\u001b[49m\u001b[38;5;241;43m=\u001b[39;49m\u001b[43medgecolor\u001b[49m\u001b[43m,\u001b[49m\n\u001b[1;32m   2370\u001b[0m \u001b[43m            \u001b[49m\u001b[43morientation\u001b[49m\u001b[38;5;241;43m=\u001b[39;49m\u001b[43morientation\u001b[49m\u001b[43m,\u001b[49m\n\u001b[1;32m   2371\u001b[0m \u001b[43m            \u001b[49m\u001b[43mbbox_inches_restore\u001b[49m\u001b[38;5;241;43m=\u001b[39;49m\u001b[43m_bbox_inches_restore\u001b[49m\u001b[43m,\u001b[49m\n\u001b[1;32m   2372\u001b[0m \u001b[43m            \u001b[49m\u001b[38;5;241;43m*\u001b[39;49m\u001b[38;5;241;43m*\u001b[39;49m\u001b[43mkwargs\u001b[49m\u001b[43m)\u001b[49m\n\u001b[1;32m   2373\u001b[0m \u001b[38;5;28;01mfinally\u001b[39;00m:\n\u001b[1;32m   2374\u001b[0m     \u001b[38;5;28;01mif\u001b[39;00m bbox_inches \u001b[38;5;129;01mand\u001b[39;00m restore_bbox:\n",
      "File \u001b[0;32m~/miniconda3/envs/bentov2/lib/python3.9/site-packages/matplotlib/backend_bases.py:2232\u001b[0m, in \u001b[0;36mFigureCanvasBase._switch_canvas_and_return_print_method.<locals>.<lambda>\u001b[0;34m(*args, **kwargs)\u001b[0m\n\u001b[1;32m   2228\u001b[0m     optional_kws \u001b[38;5;241m=\u001b[39m {  \u001b[38;5;66;03m# Passed by print_figure for other renderers.\u001b[39;00m\n\u001b[1;32m   2229\u001b[0m         \u001b[38;5;124m\"\u001b[39m\u001b[38;5;124mdpi\u001b[39m\u001b[38;5;124m\"\u001b[39m, \u001b[38;5;124m\"\u001b[39m\u001b[38;5;124mfacecolor\u001b[39m\u001b[38;5;124m\"\u001b[39m, \u001b[38;5;124m\"\u001b[39m\u001b[38;5;124medgecolor\u001b[39m\u001b[38;5;124m\"\u001b[39m, \u001b[38;5;124m\"\u001b[39m\u001b[38;5;124morientation\u001b[39m\u001b[38;5;124m\"\u001b[39m,\n\u001b[1;32m   2230\u001b[0m         \u001b[38;5;124m\"\u001b[39m\u001b[38;5;124mbbox_inches_restore\u001b[39m\u001b[38;5;124m\"\u001b[39m}\n\u001b[1;32m   2231\u001b[0m     skip \u001b[38;5;241m=\u001b[39m optional_kws \u001b[38;5;241m-\u001b[39m {\u001b[38;5;241m*\u001b[39minspect\u001b[38;5;241m.\u001b[39msignature(meth)\u001b[38;5;241m.\u001b[39mparameters}\n\u001b[0;32m-> 2232\u001b[0m     print_method \u001b[38;5;241m=\u001b[39m functools\u001b[38;5;241m.\u001b[39mwraps(meth)(\u001b[38;5;28;01mlambda\u001b[39;00m \u001b[38;5;241m*\u001b[39margs, \u001b[38;5;241m*\u001b[39m\u001b[38;5;241m*\u001b[39mkwargs: \u001b[43mmeth\u001b[49m\u001b[43m(\u001b[49m\n\u001b[1;32m   2233\u001b[0m \u001b[43m        \u001b[49m\u001b[38;5;241;43m*\u001b[39;49m\u001b[43margs\u001b[49m\u001b[43m,\u001b[49m\u001b[43m \u001b[49m\u001b[38;5;241;43m*\u001b[39;49m\u001b[38;5;241;43m*\u001b[39;49m\u001b[43m{\u001b[49m\u001b[43mk\u001b[49m\u001b[43m:\u001b[49m\u001b[43m \u001b[49m\u001b[43mv\u001b[49m\u001b[43m \u001b[49m\u001b[38;5;28;43;01mfor\u001b[39;49;00m\u001b[43m \u001b[49m\u001b[43mk\u001b[49m\u001b[43m,\u001b[49m\u001b[43m \u001b[49m\u001b[43mv\u001b[49m\u001b[43m \u001b[49m\u001b[38;5;129;43;01min\u001b[39;49;00m\u001b[43m \u001b[49m\u001b[43mkwargs\u001b[49m\u001b[38;5;241;43m.\u001b[39;49m\u001b[43mitems\u001b[49m\u001b[43m(\u001b[49m\u001b[43m)\u001b[49m\u001b[43m \u001b[49m\u001b[38;5;28;43;01mif\u001b[39;49;00m\u001b[43m \u001b[49m\u001b[43mk\u001b[49m\u001b[43m \u001b[49m\u001b[38;5;129;43;01mnot\u001b[39;49;00m\u001b[43m \u001b[49m\u001b[38;5;129;43;01min\u001b[39;49;00m\u001b[43m \u001b[49m\u001b[43mskip\u001b[49m\u001b[43m}\u001b[49m\u001b[43m)\u001b[49m)\n\u001b[1;32m   2234\u001b[0m \u001b[38;5;28;01melse\u001b[39;00m:  \u001b[38;5;66;03m# Let third-parties do as they see fit.\u001b[39;00m\n\u001b[1;32m   2235\u001b[0m     print_method \u001b[38;5;241m=\u001b[39m meth\n",
      "File \u001b[0;32m~/miniconda3/envs/bentov2/lib/python3.9/site-packages/matplotlib/backends/backend_svg.py:1358\u001b[0m, in \u001b[0;36mFigureCanvasSVG.print_svg\u001b[0;34m(self, filename, bbox_inches_restore, metadata)\u001b[0m\n\u001b[1;32m   1326\u001b[0m \u001b[38;5;28;01mdef\u001b[39;00m \u001b[38;5;21mprint_svg\u001b[39m(\u001b[38;5;28mself\u001b[39m, filename, \u001b[38;5;241m*\u001b[39m, bbox_inches_restore\u001b[38;5;241m=\u001b[39m\u001b[38;5;28;01mNone\u001b[39;00m, metadata\u001b[38;5;241m=\u001b[39m\u001b[38;5;28;01mNone\u001b[39;00m):\n\u001b[1;32m   1327\u001b[0m \u001b[38;5;250m    \u001b[39m\u001b[38;5;124;03m\"\"\"\u001b[39;00m\n\u001b[1;32m   1328\u001b[0m \u001b[38;5;124;03m    Parameters\u001b[39;00m\n\u001b[1;32m   1329\u001b[0m \u001b[38;5;124;03m    ----------\u001b[39;00m\n\u001b[0;32m   (...)\u001b[0m\n\u001b[1;32m   1356\u001b[0m \u001b[38;5;124;03m        __ DC_\u001b[39;00m\n\u001b[1;32m   1357\u001b[0m \u001b[38;5;124;03m    \"\"\"\u001b[39;00m\n\u001b[0;32m-> 1358\u001b[0m     \u001b[38;5;28;01mwith\u001b[39;00m \u001b[43mcbook\u001b[49m\u001b[38;5;241;43m.\u001b[39;49m\u001b[43mopen_file_cm\u001b[49m\u001b[43m(\u001b[49m\u001b[43mfilename\u001b[49m\u001b[43m,\u001b[49m\u001b[43m \u001b[49m\u001b[38;5;124;43m\"\u001b[39;49m\u001b[38;5;124;43mw\u001b[39;49m\u001b[38;5;124;43m\"\u001b[39;49m\u001b[43m,\u001b[49m\u001b[43m \u001b[49m\u001b[43mencoding\u001b[49m\u001b[38;5;241;43m=\u001b[39;49m\u001b[38;5;124;43m\"\u001b[39;49m\u001b[38;5;124;43mutf-8\u001b[39;49m\u001b[38;5;124;43m\"\u001b[39;49m\u001b[43m)\u001b[49m \u001b[38;5;28;01mas\u001b[39;00m fh:\n\u001b[1;32m   1359\u001b[0m         \u001b[38;5;28;01mif\u001b[39;00m \u001b[38;5;129;01mnot\u001b[39;00m cbook\u001b[38;5;241m.\u001b[39mfile_requires_unicode(fh):\n\u001b[1;32m   1360\u001b[0m             fh \u001b[38;5;241m=\u001b[39m codecs\u001b[38;5;241m.\u001b[39mgetwriter(\u001b[38;5;124m'\u001b[39m\u001b[38;5;124mutf-8\u001b[39m\u001b[38;5;124m'\u001b[39m)(fh)\n",
      "File \u001b[0;32m~/miniconda3/envs/bentov2/lib/python3.9/site-packages/matplotlib/cbook/__init__.py:503\u001b[0m, in \u001b[0;36mopen_file_cm\u001b[0;34m(path_or_file, mode, encoding)\u001b[0m\n\u001b[1;32m    501\u001b[0m \u001b[38;5;28;01mdef\u001b[39;00m \u001b[38;5;21mopen_file_cm\u001b[39m(path_or_file, mode\u001b[38;5;241m=\u001b[39m\u001b[38;5;124m\"\u001b[39m\u001b[38;5;124mr\u001b[39m\u001b[38;5;124m\"\u001b[39m, encoding\u001b[38;5;241m=\u001b[39m\u001b[38;5;28;01mNone\u001b[39;00m):\n\u001b[1;32m    502\u001b[0m \u001b[38;5;250m    \u001b[39m\u001b[38;5;124mr\u001b[39m\u001b[38;5;124;03m\"\"\"Pass through file objects and context-manage path-likes.\"\"\"\u001b[39;00m\n\u001b[0;32m--> 503\u001b[0m     fh, opened \u001b[38;5;241m=\u001b[39m \u001b[43mto_filehandle\u001b[49m\u001b[43m(\u001b[49m\u001b[43mpath_or_file\u001b[49m\u001b[43m,\u001b[49m\u001b[43m \u001b[49m\u001b[43mmode\u001b[49m\u001b[43m,\u001b[49m\u001b[43m \u001b[49m\u001b[38;5;28;43;01mTrue\u001b[39;49;00m\u001b[43m,\u001b[49m\u001b[43m \u001b[49m\u001b[43mencoding\u001b[49m\u001b[43m)\u001b[49m\n\u001b[1;32m    504\u001b[0m     \u001b[38;5;28;01mreturn\u001b[39;00m fh \u001b[38;5;28;01mif\u001b[39;00m opened \u001b[38;5;28;01melse\u001b[39;00m contextlib\u001b[38;5;241m.\u001b[39mnullcontext(fh)\n",
      "File \u001b[0;32m~/miniconda3/envs/bentov2/lib/python3.9/site-packages/matplotlib/cbook/__init__.py:489\u001b[0m, in \u001b[0;36mto_filehandle\u001b[0;34m(fname, flag, return_opened, encoding)\u001b[0m\n\u001b[1;32m    487\u001b[0m         fh \u001b[38;5;241m=\u001b[39m bz2\u001b[38;5;241m.\u001b[39mBZ2File(fname, flag)\n\u001b[1;32m    488\u001b[0m     \u001b[38;5;28;01melse\u001b[39;00m:\n\u001b[0;32m--> 489\u001b[0m         fh \u001b[38;5;241m=\u001b[39m \u001b[38;5;28;43mopen\u001b[39;49m\u001b[43m(\u001b[49m\u001b[43mfname\u001b[49m\u001b[43m,\u001b[49m\u001b[43m \u001b[49m\u001b[43mflag\u001b[49m\u001b[43m,\u001b[49m\u001b[43m \u001b[49m\u001b[43mencoding\u001b[49m\u001b[38;5;241;43m=\u001b[39;49m\u001b[43mencoding\u001b[49m\u001b[43m)\u001b[49m\n\u001b[1;32m    490\u001b[0m     opened \u001b[38;5;241m=\u001b[39m \u001b[38;5;28;01mTrue\u001b[39;00m\n\u001b[1;32m    491\u001b[0m \u001b[38;5;28;01melif\u001b[39;00m \u001b[38;5;28mhasattr\u001b[39m(fname, \u001b[38;5;124m'\u001b[39m\u001b[38;5;124mseek\u001b[39m\u001b[38;5;124m'\u001b[39m):\n",
      "\u001b[0;31mPermissionError\u001b[0m: [Errno 13] Permission denied: '/merfish_cell_corr.svg'"
     ]
    }
   ],
   "source": [
    "ax = sns.heatmap(\n",
    "    cell_corr.loc[:, range(rank)],\n",
    "    cmap=\"red2blue\",\n",
    "    square=True,\n",
    "    center=0,\n",
    "    fmt=\"\",\n",
    "    vmin=-1,\n",
    "    vmax=1,\n",
    "    annot=p.loc[:, range(rank)],\n",
    "    cbar_kws=dict(shrink=0.5, aspect=10),\n",
    ")\n",
    "sns.despine(ax=ax, top=False, right=False)\n",
    "\n",
    "fname = f\"/{dataset}_cell_corr.svg\"\n",
    "rc = {\"svg.fonttype\": \"none\", \"font.family\": \"Arial\"}\n",
    "with plt.rc_context(rc):\n",
    "    plt.savefig(fname, dpi=400)"
   ]
  },
  {
   "cell_type": "markdown",
   "id": "4840009b-3470-4199-ad38-276d0bef592a",
   "metadata": {},
   "source": [
    "# Colocalization examples"
   ]
  },
  {
   "cell_type": "code",
   "execution_count": null,
   "id": "740b3096-3c96-4b80-90ef-bf761149dff7",
   "metadata": {
    "tags": []
   },
   "outputs": [],
   "source": [
    "def sig_samples(data, r, n_pairs=3, n_cells=3):\n",
    "\n",
    "    cell_sig = pd.DataFrame(\n",
    "        data.uns[\"factors\"][r][1], index=data.uns[\"tensor_labels\"][\"cell\"]\n",
    "    )\n",
    "    pair_sig = pd.DataFrame(\n",
    "        data.uns[\"factors\"][r][2], index=data.uns[\"tensor_labels\"][\"pair\"]\n",
    "    )\n",
    "    pair_sig[\"self\"] = [\n",
    "        pair.split(\"_\")[0] == pair.split(\"_\")[1]\n",
    "        for pair in pair_sig.index.tolist()\n",
    "    ]\n",
    "    pair_sig = pair_sig[~pair_sig[\"self\"]]\n",
    "\n",
    "    for f in cell_sig.columns:\n",
    "\n",
    "        top_cells = cell_sig.sort_values(f, ascending=False).index.tolist()[\n",
    "            :n_cells\n",
    "        ]\n",
    "\n",
    "        top_pairs = pair_sig.sort_values(f, ascending=False).index.tolist()[\n",
    "            :n_pairs\n",
    "        ]\n",
    "\n",
    "        for i, pair in enumerate(top_pairs):\n",
    "            genes = pair.split(\"_\")\n",
    "\n",
    "            bt.pl.plot(\n",
    "                data[top_cells, genes],\n",
    "                kind=\"scatter\",\n",
    "                hue=\"gene\",\n",
    "                groupby=\"cell\",\n",
    "                theme=\"dark\",\n",
    "                hue_order=genes,\n",
    "                palette=[\"cyan\", \"magenta\"],\n",
    "                height=3,\n",
    "                point_kws=dict(\n",
    "                    s=8,\n",
    "                    marker=\",\",\n",
    "                    # alpha=0.6,\n",
    "                    # lw=1\n",
    "                ),\n",
    "                fname=f\"{figdir}/{dataset}/f{f}_{pair}.svg\",\n",
    "            )\n",
    "            plt.suptitle(f\"f{f} {pair}\", color=\"white\")\n",
    "        # break\n",
    "\n",
    "\n",
    "\n",
    "sig_samples(adata, r=rank, n_cells=2, n_pairs=3)"
   ]
  },
  {
   "cell_type": "code",
   "execution_count": null,
   "id": "00d34ac2-f388-4844-aff5-a71ec63b7e8f",
   "metadata": {
    "papermill": {
     "duration": null,
     "end_time": null,
     "exception": null,
     "start_time": null,
     "status": "completed"
    },
    "tags": []
   },
   "outputs": [],
   "source": [
    "bt.io.write_h5ad(\n",
    "    adata,\n",
    "    f\"/cellar/users/ckmah/spatial/data/{dataset}_clq_factors.h5ad\",\n",
    ")"
   ]
  },
  {
   "cell_type": "code",
   "execution_count": null,
   "id": "1060a727-4ab3-4996-a105-3301f15e3452",
   "metadata": {},
   "outputs": [],
   "source": []
  },
  {
   "cell_type": "code",
   "execution_count": null,
   "id": "0c05703a-192d-4654-8122-157ba2a62822",
   "metadata": {
    "tags": []
   },
   "outputs": [],
   "source": [
    "%matplotlib inline\n",
    "factors = [0, 1, 2, 3]\n",
    "cells = [\"10-7\", \"5-23\", \"29-64\", \"39-55\"]\n",
    "genes = [\n",
    "    [\"TNRC6A\", \"SLC38A1\"],\n",
    "    [\"PRKCA\", \"MAN1A2\"],\n",
    "    [\"MALAT1\", \"CNR2\"],\n",
    "    [\"DYNC1H1\", \"PIK3CA\"],\n",
    "]\n",
    "sizes = [11, 12, 10, 9]\n",
    "for f, cell, pair, s in zip(factors, cells, genes, sizes):\n",
    "    plt.figure(figsize=(3,3))\n",
    "    bt.pl.points(\n",
    "        adata[cell, pair],\n",
    "        hue=\"gene\",\n",
    "        palette=[\"red\", \"orange\"],\n",
    "        shapes_kws=dict(lw=1),\n",
    "        s=s,\n",
    "        frame_visible=False,\n",
    "        title=\"\"\n",
    "        # point_kws=dict(s=s),\n",
    "        # fname=f\"{figdir}/merfish/f{f}_{'_'.join(pair)}.svg\",\n",
    "    )\n",
    "    plt.tight_layout()\n",
    "    # break"
   ]
  },
  {
   "cell_type": "code",
   "execution_count": null,
   "id": "11ec5c2e-d842-41bc-9aca-83d0c2f7331a",
   "metadata": {},
   "outputs": [],
   "source": [
    "pair"
   ]
  },
  {
   "cell_type": "markdown",
   "id": "9e00f980-1b0c-4420-bf67-bb2120e022f5",
   "metadata": {},
   "source": [
    "todo groupby compartment"
   ]
  },
  {
   "cell_type": "code",
   "execution_count": null,
   "id": "419524cd-b595-4341-bdcc-14e5fa9b0067",
   "metadata": {},
   "outputs": [],
   "source": [
    "for f, cell, pair, s in zip(factors, cells, genes, sizes):\n",
    "    plt.bar(pair, adata[cell, pair].X.toarray().flatten())\n",
    "    break"
   ]
  }
 ],
 "metadata": {
  "kernelspec": {
   "display_name": "Python [conda env:bentov2]",
   "language": "python",
   "name": "conda-env-bentov2-py"
  },
  "language_info": {
   "codemirror_mode": {
    "name": "ipython",
    "version": 3
   },
   "file_extension": ".py",
   "mimetype": "text/x-python",
   "name": "python",
   "nbconvert_exporter": "python",
   "pygments_lexer": "ipython3",
   "version": "3.9.16"
  },
  "papermill": {
   "default_parameters": {},
   "duration": 1023.456997,
   "end_time": "2022-11-10T00:46:35.543853",
   "environment_variables": {},
   "exception": null,
   "input_path": "Colocation_decompose_11092022.ipynb",
   "output_path": "Colocation_decompose_11092022_out.ipynb",
   "parameters": {},
   "start_time": "2022-11-10T00:29:32.086856",
   "version": "2.3.3"
  }
 },
 "nbformat": 4,
 "nbformat_minor": 5
}

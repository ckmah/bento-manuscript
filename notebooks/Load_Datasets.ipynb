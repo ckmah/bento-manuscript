{
 "cells": [
  {
   "attachments": {},
   "cell_type": "markdown",
   "metadata": {},
   "source": [
    "# Loading Datasets\n",
    "\n",
    "**Author**: Clarence Mah | **Last Updated**: {sub-ref}`today`\n",
    "\n",
    "Spatial omics data is often stored in a variety of formats, and `bento-tools` provides a number of functions to load data from common formats into a standardized [AnnData](https://anndata.readthedocs.io/en/latest/) object. In this tutorial, we will show how to load pre-processed data and how to load raw data and process it into an `AnnData` object.\n",
    "\n",
    "## A Brief Overview\n",
    "\n",
    "In `bento-tools` we provide a high-level interface based on [matplotlib](https://matplotlib.org/) for plotting spatial transcriptomics formatted as an `AnnData` object. [See more details about the data structure here.](../howitworks.md#data-structure) Data is represented as points and shapes, corresponding to molecules and segmentation masks. We closely mirror the [seaborn](http://seaborn.pydata.org/#) package for mapping data semantics, while replicating some [geopandas](https://geopandas.org/en/stable/) plotting functionality with styles more suitable for visualizing subcellular data. For spatial visualization at the tissue level (i.e. plotting cell coordinates instead of cell boundaries) we recommend using [squidpy](https://squidpy.readthedocs.io/en/stable/) and [scanpy](https://scanpy.readthedocs.io/en/stable/index.html) instead.\n",
    "\n",
    "```{note}\n",
    "In general, plotting in `bento-tools` assumes datasets will have data stored from multiple fields of view (fov), which must be encoded in `adata.obs[\"batch\"]`. The plotting functions plot a single fov at a time, which can be set with the `batch` parameter; if unspecified, the default is inferred from the first cell in `adata`.\n",
    "\n",
    "If available, cell and nuclear shapes are plotted by default. Plot more shape layers by passing their names in a list to the `shapes` parameter.\n",
    "```\n"
   ]
  }
 ],
 "metadata": {
  "language_info": {
   "name": "python"
  },
  "orig_nbformat": 4
 },
 "nbformat": 4,
 "nbformat_minor": 2
}
